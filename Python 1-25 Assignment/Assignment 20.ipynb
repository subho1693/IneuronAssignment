{
 "cells": [
  {
   "cell_type": "markdown",
   "id": "fe28319c",
   "metadata": {},
   "source": [
    "#### 1. Set the variable test1 to the string &#39;This is a test of the emergency text system,&#39; and save test1 to a file named test.txt.\n"
   ]
  },
  {
   "cell_type": "code",
   "execution_count": 1,
   "id": "02ed1958",
   "metadata": {},
   "outputs": [],
   "source": [
    "test1 = 'This is a test of the emergency text system,'\n",
    "with open('test.txt', 'w') as file:\n",
    "    file.write(test1)\n"
   ]
  },
  {
   "cell_type": "markdown",
   "id": "32aada1d",
   "metadata": {},
   "source": [
    "#### 2. Read the contents of the file test.txt into the variable test2. Is there a difference between test 1 and test 2?\n"
   ]
  },
  {
   "cell_type": "code",
   "execution_count": 2,
   "id": "05ca3f89",
   "metadata": {},
   "outputs": [
    {
     "name": "stdout",
     "output_type": "stream",
     "text": [
      "True\n"
     ]
    }
   ],
   "source": [
    "with open('test.txt', 'r') as file:\n",
    "    test2 = file.read()\n",
    "\n",
    "print(test1 == test2) # True\n"
   ]
  },
  {
   "cell_type": "markdown",
   "id": "803f42b0",
   "metadata": {},
   "source": [
    "#### 3. Create a CSV file called books.csv by using these lines:\n",
    "**title,author,year**\n",
    "\n",
    "**The Weirdstone of Brisingamen,Alan Garner,1960**\n",
    "\n",
    "**Perdido Street Station,China Miéville,2000**\n",
    "\n",
    "**Thud!,Terry Pratchett,2005**\n",
    "\n",
    "**The Spellman Files,Lisa Lutz,2007**\n",
    "\n",
    "**Small Gods,Terry Pratchett,1992**\n"
   ]
  },
  {
   "cell_type": "code",
   "execution_count": 3,
   "id": "155a1654",
   "metadata": {},
   "outputs": [],
   "source": [
    "import csv\n",
    "\n",
    "header = ['title', 'author', 'year']\n",
    "rows = [['The Weirdstone of Brisingamen', 'Alan Garner', 1960],\n",
    "        ['Perdido Street Station', 'China Miéville', 2000],\n",
    "        ['Thud!', 'Terry Pratchett', 2005],\n",
    "        ['The Spellman Files', 'Lisa Lutz', 2007],\n",
    "        ['Small Gods', 'Terry Pratchett', 1992]]\n",
    "\n",
    "with open('books.csv', 'w', newline='') as file:\n",
    "    writer = csv.writer(file)\n",
    "    writer.writerow(header)\n",
    "    writer.writerows(rows)\n"
   ]
  },
  {
   "cell_type": "markdown",
   "id": "e397a2b6",
   "metadata": {},
   "source": [
    "#### 4. Use the sqlite3 module to create a SQLite database called books.db, and a table called books with these fields: title (text), author (text), and year (integer).\n"
   ]
  },
  {
   "cell_type": "code",
   "execution_count": 4,
   "id": "c262c940",
   "metadata": {},
   "outputs": [],
   "source": [
    "import sqlite3\n",
    "\n",
    "conn = sqlite3.connect('books.db')\n",
    "c = conn.cursor()\n",
    "\n",
    "c.execute('''CREATE TABLE books\n",
    "             (title TEXT, author TEXT, year INTEGER)''')\n",
    "\n",
    "conn.commit()\n",
    "conn.close()\n"
   ]
  },
  {
   "cell_type": "markdown",
   "id": "2220fe5a",
   "metadata": {},
   "source": [
    "#### 5. Read books.csv and insert its data into the book table.\n"
   ]
  },
  {
   "cell_type": "code",
   "execution_count": 5,
   "id": "92078c27",
   "metadata": {},
   "outputs": [],
   "source": [
    "import csv\n",
    "import sqlite3\n",
    "\n",
    "conn = sqlite3.connect('books.db')\n",
    "c = conn.cursor()\n",
    "\n",
    "with open('books.csv', 'r') as file:\n",
    "    reader = csv.reader(file)\n",
    "    header = next(reader)  # skip the header row\n",
    "    for row in reader:\n",
    "        c.execute('INSERT INTO books VALUES (?, ?, ?)', row)\n",
    "\n",
    "conn.commit()\n",
    "conn.close()\n"
   ]
  },
  {
   "cell_type": "markdown",
   "id": "a7f66230",
   "metadata": {},
   "source": [
    "#### 6. Select and print the title column from the book table in alphabetical order.\n"
   ]
  },
  {
   "cell_type": "code",
   "execution_count": 6,
   "id": "e00cd23a",
   "metadata": {},
   "outputs": [
    {
     "name": "stdout",
     "output_type": "stream",
     "text": [
      "Perdido Street Station\n",
      "Small Gods\n",
      "The Spellman Files\n",
      "The Weirdstone of Brisingamen\n",
      "Thud!\n"
     ]
    }
   ],
   "source": [
    "import sqlite3\n",
    "\n",
    "conn = sqlite3.connect('books.db')\n",
    "c = conn.cursor()\n",
    "\n",
    "c.execute('SELECT title FROM books ORDER BY title ASC')\n",
    "titles = c.fetchall()\n",
    "for title in titles:\n",
    "    print(title[0])\n",
    "\n",
    "conn.close()\n"
   ]
  },
  {
   "cell_type": "markdown",
   "id": "5847303e",
   "metadata": {},
   "source": [
    "#### 7. From the book table, select and print all columns in the order of publication.\n"
   ]
  },
  {
   "cell_type": "code",
   "execution_count": 7,
   "id": "903016eb",
   "metadata": {},
   "outputs": [
    {
     "name": "stdout",
     "output_type": "stream",
     "text": [
      "('The Weirdstone of Brisingamen', 'Alan Garner', 1960)\n",
      "('Small Gods', 'Terry Pratchett', 1992)\n",
      "('Perdido Street Station', 'China Miéville', 2000)\n",
      "('Thud!', 'Terry Pratchett', 2005)\n",
      "('The Spellman Files', 'Lisa Lutz', 2007)\n"
     ]
    }
   ],
   "source": [
    "import sqlite3\n",
    "\n",
    "conn = sqlite3.connect('books.db')\n",
    "c = conn.cursor()\n",
    "\n",
    "c.execute('SELECT * FROM books ORDER BY year ASC')\n",
    "books = c.fetchall()\n",
    "for book in books:\n",
    "    print(book)\n",
    "\n",
    "conn.close()\n"
   ]
  },
  {
   "cell_type": "markdown",
   "id": "20e5f4c9",
   "metadata": {},
   "source": [
    "#### 8. Use the sqlalchemy module to connect to the sqlite3 database books.db that you just made in exercise 6.\n"
   ]
  },
  {
   "cell_type": "code",
   "execution_count": 8,
   "id": "831f4c44",
   "metadata": {},
   "outputs": [
    {
     "name": "stdout",
     "output_type": "stream",
     "text": [
      "Perdido Street Station\n",
      "Small Gods\n",
      "The Spellman Files\n",
      "The Weirdstone of Brisingamen\n",
      "Thud!\n"
     ]
    }
   ],
   "source": [
    "from sqlalchemy import create_engine, Table, Column, Integer, String, MetaData\n",
    "\n",
    "engine = create_engine('sqlite:///books.db')\n",
    "metadata = MetaData()\n",
    "\n",
    "books = Table('books', metadata,\n",
    "              Column('title', String),\n",
    "              Column('author', String),\n",
    "              Column('year', Integer))\n",
    "\n",
    "with engine.connect() as conn:\n",
    "    result = conn.execute(books.select().order_by(books.c.title.asc()))\n",
    "    for row in result:\n",
    "        print(row[0])\n"
   ]
  },
  {
   "cell_type": "markdown",
   "id": "493387fb",
   "metadata": {},
   "source": [
    "#### 9. Install the Redis server and the Python redis library (pip install redis) on your computer. Create a Redis hash called test with the fields count (1) and name (&#39;Fester Bestertester&#39;). Print all the fields for test.\n"
   ]
  },
  {
   "cell_type": "code",
   "execution_count": 10,
   "id": "5482ba97",
   "metadata": {},
   "outputs": [
    {
     "name": "stdout",
     "output_type": "stream",
     "text": [
      "{b'count': b'1', b'name': b'Fester Bestertester'}\n"
     ]
    },
    {
     "name": "stderr",
     "output_type": "stream",
     "text": [
      "C:\\Users\\GIS-PC\\AppData\\Local\\Temp\\ipykernel_8604\\3834957335.py:4: DeprecationWarning: Redis.hmset() is deprecated. Use Redis.hset() instead.\n",
      "  redis_client.hmset('test', {'count': 1, 'name': 'Fester Bestertester'})\n"
     ]
    }
   ],
   "source": [
    "import redis\n",
    "\n",
    "redis_client = redis.Redis(host='localhost', port=6379, db=0)\n",
    "redis_client.hmset('test', {'count': 1, 'name': 'Fester Bestertester'})\n",
    "print(redis_client.hgetall('test'))\n"
   ]
  },
  {
   "cell_type": "markdown",
   "id": "00c672c4",
   "metadata": {},
   "source": [
    "#### 10. Increment the count field of test and print it."
   ]
  },
  {
   "cell_type": "code",
   "execution_count": 11,
   "id": "8c665c67",
   "metadata": {},
   "outputs": [
    {
     "name": "stdout",
     "output_type": "stream",
     "text": [
      "{b'count': b'1', b'name': b'Fester Bestertester'}\n"
     ]
    },
    {
     "name": "stderr",
     "output_type": "stream",
     "text": [
      "C:\\Users\\GIS-PC\\AppData\\Local\\Temp\\ipykernel_8604\\3834957335.py:4: DeprecationWarning: Redis.hmset() is deprecated. Use Redis.hset() instead.\n",
      "  redis_client.hmset('test', {'count': 1, 'name': 'Fester Bestertester'})\n"
     ]
    }
   ],
   "source": [
    "import redis\n",
    "\n",
    "redis_client = redis.Redis(host='localhost', port=6379, db=0)\n",
    "redis_client.hmset('test', {'count': 1, 'name': 'Fester Bestertester'})\n",
    "print(redis_client.hgetall('test'))\n"
   ]
  },
  {
   "cell_type": "code",
   "execution_count": null,
   "id": "79c38e28",
   "metadata": {},
   "outputs": [],
   "source": []
  }
 ],
 "metadata": {
  "kernelspec": {
   "display_name": "Python 3 (ipykernel)",
   "language": "python",
   "name": "python3"
  },
  "language_info": {
   "codemirror_mode": {
    "name": "ipython",
    "version": 3
   },
   "file_extension": ".py",
   "mimetype": "text/x-python",
   "name": "python",
   "nbconvert_exporter": "python",
   "pygments_lexer": "ipython3",
   "version": "3.9.13"
  }
 },
 "nbformat": 4,
 "nbformat_minor": 5
}
