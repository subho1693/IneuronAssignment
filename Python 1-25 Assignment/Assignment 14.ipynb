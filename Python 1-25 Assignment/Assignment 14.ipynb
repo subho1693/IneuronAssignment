{
 "cells": [
  {
   "cell_type": "markdown",
   "id": "74c2b458",
   "metadata": {},
   "source": [
    "#### 1. What does RGBA stand for?\n"
   ]
  },
  {
   "cell_type": "markdown",
   "id": "dab98df6",
   "metadata": {},
   "source": [
    "Ans:-RGBA stands for Red Green Blue Alpha."
   ]
  },
  {
   "cell_type": "markdown",
   "id": "582e12fb",
   "metadata": {},
   "source": [
    "#### 2. From the Pillow module, how do you get the RGBA value of any images?\n"
   ]
  },
  {
   "cell_type": "markdown",
   "id": "70faefc1",
   "metadata": {},
   "source": [
    "Ans:-We can get the RGBA (Red, Green, Blue, Alpha) value of any image using the getpixel() method from the Image module in Pillow."
   ]
  },
  {
   "cell_type": "markdown",
   "id": "ad5179af",
   "metadata": {},
   "source": [
    "#### 3. What is a box tuple, and how does it work?\n"
   ]
  },
  {
   "cell_type": "markdown",
   "id": "848a35a3",
   "metadata": {},
   "source": [
    "Ans:-In the Pillow module, a box tuple is a tuple of four integer coordinates representing a rectangular region in an image. The four coordinates are (left, upper, right, lower), where left and upper represent the x and y coordinates of the upper-left corner of the rectangle, and right and lower represent the x and y coordinates of the lower-right corner of the rectangle. The box tuple is commonly used as an argument to several methods of the Image module, such as crop() and paste()."
   ]
  },
  {
   "cell_type": "markdown",
   "id": "8d81a02a",
   "metadata": {},
   "source": [
    "#### 4. Use your image and load in notebook then, How can you find out the width and height of an Image object?\n"
   ]
  },
  {
   "cell_type": "markdown",
   "id": "a57910bf",
   "metadata": {},
   "source": [
    "Ans:-To find out the width and height of an Image object in Python, you can use the size attribute of the Image object. "
   ]
  },
  {
   "cell_type": "code",
   "execution_count": 1,
   "id": "739e6cbf",
   "metadata": {},
   "outputs": [
    {
     "name": "stdout",
     "output_type": "stream",
     "text": [
      "Width: 685\n",
      "Height: 187\n"
     ]
    }
   ],
   "source": [
    "from PIL import Image\n",
    "\n",
    "# Load the image\n",
    "img = Image.open(r\"../ineuron-logo.png\")\n",
    "\n",
    "# Get the width and height\n",
    "width, height = img.size\n",
    "\n",
    "print(\"Width:\", width)\n",
    "print(\"Height:\", height)\n"
   ]
  },
  {
   "cell_type": "markdown",
   "id": "088a9d53",
   "metadata": {},
   "source": [
    "#### 5. What method would you call to get Image object for a 100×100 image, excluding the lower-left quarter of it?\n"
   ]
  },
  {
   "cell_type": "code",
   "execution_count": 2,
   "id": "3400940e",
   "metadata": {},
   "outputs": [],
   "source": [
    "from PIL import Image\n",
    "\n",
    "# Open the original image\n",
    "image = Image.open(r\"../ineuron-logo.png\")\n",
    "\n",
    "# Crop the image to exclude the lower-left quarter\n",
    "box = (0, 50, 100, 100)\n",
    "cropped_image = image.crop(box)\n",
    "\n",
    "# Resize the image to be 100x100\n",
    "resized_image = cropped_image.resize((100, 100))\n",
    "\n",
    "# Now you have an Image object for a 100x100 image, excluding the lower-left quarter\n"
   ]
  },
  {
   "cell_type": "markdown",
   "id": "7c32a1ed",
   "metadata": {},
   "source": [
    "#### 6. After making changes to an Image object, how could you save it as an image file?\n"
   ]
  },
  {
   "cell_type": "code",
   "execution_count": 3,
   "id": "f03f86d2",
   "metadata": {},
   "outputs": [],
   "source": [
    "from PIL import Image\n",
    "\n",
    "# Load the image file\n",
    "img = Image.open(r\"../ineuron-logo.png\")\n",
    "\n",
    "# Make changes to the image here\n",
    "# ...\n",
    "\n",
    "img.save('../modified_image.png')\n",
    "\n"
   ]
  },
  {
   "cell_type": "markdown",
   "id": "a353677e",
   "metadata": {},
   "source": [
    "#### 7. What module contains Pillow’s shape-drawing code?\n"
   ]
  },
  {
   "cell_type": "code",
   "execution_count": 4,
   "id": "6500ff91",
   "metadata": {},
   "outputs": [],
   "source": [
    "from PIL import Image, ImageDraw\n",
    "\n",
    "# Open an image file\n",
    "image = Image.open(r\"../ineuron-logo.png\")\n",
    "\n",
    "# Create an ImageDraw object\n",
    "draw = ImageDraw.Draw(image)\n",
    "\n",
    "# Draw a rectangle on the image\n",
    "draw.rectangle((100, 100, 200, 200), fill=None, outline=\"red\")\n",
    "\n",
    "# Save the modified image as a new file\n",
    "image.save(\"../modified.png\")"
   ]
  },
  {
   "cell_type": "markdown",
   "id": "0687cc8a",
   "metadata": {},
   "source": [
    "#### 8. Image objects do not have drawing methods. What kind of object does? How do you get this kind of object?"
   ]
  },
  {
   "cell_type": "markdown",
   "id": "143d33c6",
   "metadata": {},
   "source": [
    "Ans:-ImageDraw objects have shape-drawing methods such as point(), line(), or rectangle().They are returned by passing the Image object to the ImageDraw.Draw() function."
   ]
  },
  {
   "cell_type": "code",
   "execution_count": null,
   "id": "f29958d1",
   "metadata": {},
   "outputs": [],
   "source": []
  },
  {
   "cell_type": "code",
   "execution_count": null,
   "id": "b4d0f498",
   "metadata": {},
   "outputs": [],
   "source": []
  }
 ],
 "metadata": {
  "kernelspec": {
   "display_name": "Python 3 (ipykernel)",
   "language": "python",
   "name": "python3"
  },
  "language_info": {
   "codemirror_mode": {
    "name": "ipython",
    "version": 3
   },
   "file_extension": ".py",
   "mimetype": "text/x-python",
   "name": "python",
   "nbconvert_exporter": "python",
   "pygments_lexer": "ipython3",
   "version": "3.9.13"
  }
 },
 "nbformat": 4,
 "nbformat_minor": 5
}
