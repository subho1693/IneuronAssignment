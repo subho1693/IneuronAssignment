{
 "cells": [
  {
   "cell_type": "markdown",
   "id": "37ca8976",
   "metadata": {},
   "source": [
    "#### 1. What is the relationship between def statements and lambda expressions ?\n"
   ]
  },
  {
   "cell_type": "markdown",
   "id": "e0254472",
   "metadata": {},
   "source": [
    "Ans:-\n",
    "def statements are used to define named functions that can be called later using the defined function name. They consist of the def keyword followed by the function name, a parameter list enclosed in parentheses, a colon, and a block of code indented below. def statements allow for multiple lines of code and have a return statement to specify the value returned by the function.\n",
    "Lambda expressions, also known as anonymous functions, are defined using the lambda keyword. They are used to create small, one-line functions without a function name. Lambda expressions can take any number of arguments, followed by a colon and an expression that is evaluated and returned as the result of the function.\n"
   ]
  },
  {
   "cell_type": "markdown",
   "id": "34e7bac5",
   "metadata": {},
   "source": [
    "#### 2. What is the benefit of lambda?\n"
   ]
  },
  {
   "cell_type": "markdown",
   "id": "25e5f49e",
   "metadata": {},
   "source": [
    "Ans:-The benefit of lambda expressions lies in their simplicity and conciseness. Some advantages of using lambda expressions include:\n",
    "*    Concise syntax: Lambda expressions allow you to define small functions inline, avoiding the need for writing a separate def statement.\n",
    "*    Readability: They can make code more readable by eliminating the need for defining and naming a separate function for simple operations.\n",
    "*    Function as an argument: Lambda expressions are often used in combination with higher-order functions like map, filter, and reduce, where a simple function is required as an argument.\n",
    "*    Less code: The use of lambda expressions can reduce the amount of code you need to write, making your programs more compact and easier to understand in certain cases."
   ]
  },
  {
   "cell_type": "markdown",
   "id": "77cc3f8d",
   "metadata": {},
   "source": [
    "#### 3. Compare and contrast map, filter, and reduce.\n"
   ]
  },
  {
   "cell_type": "markdown",
   "id": "91576c0f",
   "metadata": {},
   "source": [
    "Ans:-Map, filter, and reduce are built-in functions in Python that operate on sequences, such as lists, tuples, or other iterable objects.\n",
    "* map(function, sequence) applies the specified function to each item in the sequence and returns an iterator that yields the results. It allows you to transform each element of a sequence based on a function.\n",
    "\n",
    "* filter(function, sequence) applies the specified function to each item in the sequence and returns an iterator that yields only the items for which the function returns True. It allows you to selectively filter elements from a sequence based on a condition.\n",
    "\n",
    "* reduce(function, sequence) applies the specified function to the first two elements of the sequence, then applies it to the result and the next element, and so on, until a single value is obtained. It allows you to perform a cumulative computation on a sequence, reducing it to a single value."
   ]
  },
  {
   "cell_type": "markdown",
   "id": "7c623a82",
   "metadata": {},
   "source": [
    "#### 4. What are function annotations, and how are they used?\n"
   ]
  },
  {
   "cell_type": "code",
   "execution_count": 2,
   "id": "e1021e79",
   "metadata": {},
   "outputs": [
    {
     "data": {
      "text/plain": [
       "'Hello, subhajit'"
      ]
     },
     "execution_count": 2,
     "metadata": {},
     "output_type": "execute_result"
    }
   ],
   "source": [
    "# Ans:-Function annotations are a feature introduced in Python 3 that allow you to associate arbitrary metadata, including type hints, with function parameters and return values. They provide a way to document and annotate the expected types or behavior of function arguments and return values.\n",
    "\n",
    "def greet(name: str) -> str:\n",
    "    return \"Hello, \" + name\n",
    "greet(\"subhajit\")"
   ]
  },
  {
   "cell_type": "markdown",
   "id": "ec6b74cf",
   "metadata": {},
   "source": [
    "#### 5. What are recursive functions, and how are they used?\n"
   ]
  },
  {
   "cell_type": "markdown",
   "id": "a8d698be",
   "metadata": {},
   "source": [
    "Ans:-Recursive functions are functions that call themselves during their execution. They are a powerful programming technique that allows solving complex problems by breaking them down into smaller, similar subproblems. The recursion continues until a base case is reached, at which point the function stops calling itself and returns a result. Recursive functions typically have two components: the base case(s), which define when the recursion should stop, and the recursive case(s), which define how the function calls itself with smaller subproblems.\n",
    "Recursive functions are used when a problem can be naturally divided into smaller instances of the same problem. Examples of problems that are commonly solved using recursion include traversing or searching tree-like data structures, performing mathematical calculations (e.g., factorial or Fibonacci sequence), and implementing algorithms like quicksort or depth-first search."
   ]
  },
  {
   "cell_type": "markdown",
   "id": "85a9857b",
   "metadata": {},
   "source": [
    "#### 6. What are some general design guidelines for coding functions?\n"
   ]
  },
  {
   "cell_type": "markdown",
   "id": "394ea6b4",
   "metadata": {},
   "source": [
    "Ans:-Single Responsibility Principle: Functions should have a clear and single purpose. They should perform one specific task and do it well. This helps with code readability, maintainability, and reusability.\n",
    "\n",
    "* Modularity: Functions should be designed to be modular and reusable. They should be self-contained and independent, making it easier to understand and test them in isolation.\n",
    "\n",
    "* Proper Naming: Choose meaningful and descriptive names for functions that accurately represent their purpose. This makes the code more readable and helps other developers understand the function's functionality without looking at its implementation.\n",
    "\n",
    "* Proper Documentation: Include clear and concise documentation for functions, describing their purpose, expected inputs, outputs, and any side effects. This helps other developers understand how to use the function correctly.\n",
    "\n",
    "* Proper Error Handling: Functions should handle errors and exceptions gracefully. They should provide appropriate error messages or exceptions that give enough information to diagnose and debug problems.\n",
    "\n",
    "* Avoid Side Effects: Functions should ideally have no or minimal side effects, meaning they should not modify variables outside of their local scope unless necessary. This improves the predictability and maintainability of the code."
   ]
  },
  {
   "cell_type": "markdown",
   "id": "953b7e78",
   "metadata": {},
   "source": [
    "#### 7. Name three or more ways that functions can communicate results to a caller."
   ]
  },
  {
   "cell_type": "markdown",
   "id": "7fc1cb28",
   "metadata": {},
   "source": [
    "Ans:-Functions can communicate results to a caller using various methods:\n",
    "* Return Statement: The most common way to communicate results is by using the return statement. Functions can return a single value or multiple values as a tuple, allowing the caller to capture and utilize the returned result.\n",
    "\n",
    "* Output Parameters: Functions can modify variables that are passed as arguments by reference. This allows the function to directly modify the values of the caller's variables.\n",
    "\n",
    "* Exceptions: Functions can raise exceptions to communicate errors or exceptional conditions to the caller. The caller can catch and handle these exceptions accordingly.\n",
    "\n",
    "* Global Variables: Although generally not recommended, functions can modify or access global variables to communicate results. This approach should be used sparingly, as it can make code less modular and harder to reason about.\n",
    "\n",
    "* Side Effects: Functions can have side effects, such as printing to the console or modifying files, which indirectly communicate results to the caller. However, it's generally advisable to minimize side effects for better code organization and maintainability."
   ]
  },
  {
   "cell_type": "code",
   "execution_count": null,
   "id": "cb4d9229",
   "metadata": {},
   "outputs": [],
   "source": []
  }
 ],
 "metadata": {
  "kernelspec": {
   "display_name": "Python 3 (ipykernel)",
   "language": "python",
   "name": "python3"
  },
  "language_info": {
   "codemirror_mode": {
    "name": "ipython",
    "version": 3
   },
   "file_extension": ".py",
   "mimetype": "text/x-python",
   "name": "python",
   "nbconvert_exporter": "python",
   "pygments_lexer": "ipython3",
   "version": "3.10.9"
  }
 },
 "nbformat": 4,
 "nbformat_minor": 5
}
