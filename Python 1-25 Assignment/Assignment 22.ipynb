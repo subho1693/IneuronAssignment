{
 "cells": [
  {
   "cell_type": "markdown",
   "id": "a0ded07c",
   "metadata": {},
   "source": [
    "\n",
    "\n",
    "#### 1. What is the result of the code, and explain?\n",
    "\n",
    "&gt;&gt;&gt; X = &#39;iNeuron&#39;\n",
    "&gt;&gt;&gt; def func():\n",
    "print(X)\n",
    "\n",
    "&gt;&gt;&gt; func()\n",
    "\n"
   ]
  },
  {
   "cell_type": "code",
   "execution_count": 1,
   "id": "dc4f7fce",
   "metadata": {},
   "outputs": [
    {
     "name": "stdout",
     "output_type": "stream",
     "text": [
      "iNeuron\n"
     ]
    },
    {
     "data": {
      "text/plain": [
       "\"Explanation: The code defines a function func() that prints the value of X. When the function func() is called, it prints the value of the global variable X, which is 'iNeuron'.\""
      ]
     },
     "execution_count": 1,
     "metadata": {},
     "output_type": "execute_result"
    }
   ],
   "source": [
    "X = 'iNeuron'\n",
    "def func(): print(X)\n",
    "func()\n",
    "\n",
    "\"\"\"Explanation: The code defines a function func() that prints the value of X. When the function func() is called, it prints the value of the global variable X, which is 'iNeuron'.\"\"\""
   ]
  },
  {
   "cell_type": "markdown",
   "id": "0c780f7f",
   "metadata": {},
   "source": [
    "#### 2. What is the result of the code, and explain?\n",
    "\n",
    "&gt;&gt;&gt; X = &#39;iNeuron&#39;\n",
    "&gt;&gt;&gt; def func():\n",
    "X = &#39;NI!&#39;\n",
    "\n",
    "&gt;&gt;&gt; func()\n",
    "&gt;&gt;&gt; print(X)\n",
    "\n"
   ]
  },
  {
   "cell_type": "code",
   "execution_count": 2,
   "id": "e7692ce5",
   "metadata": {},
   "outputs": [
    {
     "name": "stdout",
     "output_type": "stream",
     "text": [
      "iNeuron\n"
     ]
    },
    {
     "data": {
      "text/plain": [
       "\"Explanation: The code defines a function func() that assigns the value 'NI!' to a local variable X. When the function func() is called, it assigns 'NI!' to the local variable X, but this variable is different from the global variable X defined outside the function. Therefore, when print(X) is executed outside the function, it prints the value of the global variable X, which is still 'iNeuron'.\""
      ]
     },
     "execution_count": 2,
     "metadata": {},
     "output_type": "execute_result"
    }
   ],
   "source": [
    "X = 'iNeuron' \n",
    "def func(): X = 'NI!'\n",
    "func()\n",
    "print(X)\n",
    "\"\"\"Explanation: The code defines a function func() that assigns the value 'NI!' to a local variable X. When the function func() is called, it assigns 'NI!' to the local variable X, but this variable is different from the global variable X defined outside the function. Therefore, when print(X) is executed outside the function, it prints the value of the global variable X, which is still 'iNeuron'.\"\"\""
   ]
  },
  {
   "cell_type": "markdown",
   "id": "11d3db6a",
   "metadata": {},
   "source": [
    "#### 3. What does this code print, and why?\n",
    "\n",
    "&gt;&gt;&gt; X = &#39;iNeuron&#39;\n",
    "&gt;&gt;&gt; def func():\n",
    "X = &#39;NI&#39;\n",
    "print(X)\n",
    "\n",
    "&gt;&gt;&gt; func()\n",
    "&gt;&gt;&gt; print(X)\n",
    "\n"
   ]
  },
  {
   "cell_type": "code",
   "execution_count": 3,
   "id": "f6e3e396",
   "metadata": {},
   "outputs": [
    {
     "name": "stdout",
     "output_type": "stream",
     "text": [
      "NI\n",
      "iNeuron\n"
     ]
    },
    {
     "data": {
      "text/plain": [
       "\"Explanation: The code defines a function func() that assigns the value 'NI' to a local variable X and prints it. When the function func() is called, it assigns 'NI' to the local variable X and prints it. However, the second print(X) statement is outside the function, so it refers to the global variable X, which retains its original value of 'iNeuron'. Therefore, it prints 'iNeuron'.\""
      ]
     },
     "execution_count": 3,
     "metadata": {},
     "output_type": "execute_result"
    }
   ],
   "source": [
    "X = 'iNeuron' \n",
    "def func(): \n",
    "    X = 'NI' \n",
    "    print(X)\n",
    "\n",
    "func()\n",
    "print(X)\n",
    "\"\"\"Explanation: The code defines a function func() that assigns the value 'NI' to a local variable X and prints it. When the function func() is called, it assigns 'NI' to the local variable X and prints it. However, the second print(X) statement is outside the function, so it refers to the global variable X, which retains its original value of 'iNeuron'. Therefore, it prints 'iNeuron'.\"\"\""
   ]
  },
  {
   "cell_type": "markdown",
   "id": "9494bb31",
   "metadata": {},
   "source": [
    "#### 4. What output does this code produce? Why?\n",
    "\n",
    "&gt;&gt;&gt; X = &#39;iNeuron&#39;\n",
    "&gt;&gt;&gt; def func():\n",
    "global X\n",
    "X = &#39;NI&#39;\n",
    "\n",
    "&gt;&gt;&gt; func()\n",
    "&gt;&gt;&gt; print(X)\n",
    "\n"
   ]
  },
  {
   "cell_type": "code",
   "execution_count": 4,
   "id": "171e7288",
   "metadata": {},
   "outputs": [
    {
     "name": "stdout",
     "output_type": "stream",
     "text": [
      "NI\n"
     ]
    },
    {
     "data": {
      "text/plain": [
       "\"Explanation: The code defines a function func() that uses the global keyword to indicate that the variable X inside the function refers to the global variable X. When the function func() is called, it assigns 'NI' to the global variable X. Hence, when print(X) is executed outside the function, it prints the modified value of the global variable X, which is 'NI'.\""
      ]
     },
     "execution_count": 4,
     "metadata": {},
     "output_type": "execute_result"
    }
   ],
   "source": [
    "X = 'iNeuron'\n",
    "def func(): \n",
    "    global X \n",
    "    X = 'NI'\n",
    "\n",
    "func()\n",
    "print(X)\n",
    "\"\"\"Explanation: The code defines a function func() that uses the global keyword to indicate that the variable X inside the function refers to the global variable X. When the function func() is called, it assigns 'NI' to the global variable X. Hence, when print(X) is executed outside the function, it prints the modified value of the global variable X, which is 'NI'.\"\"\""
   ]
  },
  {
   "cell_type": "markdown",
   "id": "eca6ac07",
   "metadata": {},
   "source": [
    "#### 5. What about this code—what’s the output, and why?\n",
    "\n",
    "&gt;&gt;&gt; X = &#39;iNeuron&#39;\n",
    "&gt;&gt;&gt; def func():\n",
    "X = &#39;NI&#39;\n",
    "def nested():\n",
    "print(X)\n",
    "nested()\n",
    "\n",
    "&gt;&gt;&gt; func()\n",
    "&gt;&gt;&gt; X\n",
    "\n"
   ]
  },
  {
   "cell_type": "code",
   "execution_count": 5,
   "id": "dcf2e5af",
   "metadata": {},
   "outputs": [
    {
     "name": "stdout",
     "output_type": "stream",
     "text": [
      "NI\n"
     ]
    },
    {
     "data": {
      "text/plain": [
       "\"Explanation: The code defines a function func() that assigns the value 'NI' to a local variable X. Inside func(), another nested function nested() is defined, which prints the value of X. When func() is called, it assigns 'NI' to the local variable X and then calls the nested() function. Since nested() is called within func(), it has access to the local variable X of its enclosing scope, so it prints 'NI'.\""
      ]
     },
     "execution_count": 5,
     "metadata": {},
     "output_type": "execute_result"
    }
   ],
   "source": [
    "X = 'iNeuron' \n",
    "def func(): \n",
    "    X = 'NI' \n",
    "    def nested(): \n",
    "        print(X)\n",
    "    nested()\n",
    "\n",
    "func()\n",
    "X\n",
    "\"\"\"Explanation: The code defines a function func() that assigns the value 'NI' to a local variable X. Inside func(), another nested function nested() is defined, which prints the value of X. When func() is called, it assigns 'NI' to the local variable X and then calls the nested() function. Since nested() is called within func(), it has access to the local variable X of its enclosing scope, so it prints 'NI'.\"\"\""
   ]
  },
  {
   "cell_type": "markdown",
   "id": "3b44fa27",
   "metadata": {},
   "source": [
    "#### 6. How about this code: what is its output in Python 3, and explain?\n",
    "\n",
    "&gt;&gt;&gt; def func():\n",
    "X = &#39;NI&#39;\n",
    "def nested():\n",
    "nonlocal X\n",
    "X = &#39;Spam&#39;\n",
    "nested()\n",
    "print(X)\n",
    "\n",
    "&gt;&gt;&gt; func()"
   ]
  },
  {
   "cell_type": "code",
   "execution_count": 6,
   "id": "1c027f43",
   "metadata": {},
   "outputs": [
    {
     "name": "stdout",
     "output_type": "stream",
     "text": [
      "Spam\n"
     ]
    },
    {
     "data": {
      "text/plain": [
       "\"Explanation: The code defines a function func() that assigns the value 'NI' to a local variable X. Inside func(), another nested function nested() is defined. The nonlocal keyword is used to indicate that X refers to the variable in the nearest enclosing scope that is not global, which is the variable X in func(). Inside nested(), it assigns 'Spam' to the X variable using the nonlocal keyword. When func() is called, it calls nested(), which assigns 'Spam' to the X variable. Finally, print(X) is executed within func(), and it prints 'Spam', which is the value assigned to the X variable inside the nested() function.\""
      ]
     },
     "execution_count": 6,
     "metadata": {},
     "output_type": "execute_result"
    }
   ],
   "source": [
    "def func(): \n",
    "    X = 'NI' \n",
    "    def nested(): \n",
    "        nonlocal X \n",
    "        X = 'Spam' \n",
    "    nested() \n",
    "    print(X)\n",
    "\n",
    "func()\n",
    "\"\"\"Explanation: The code defines a function func() that assigns the value 'NI' to a local variable X. Inside func(), another nested function nested() is defined. The nonlocal keyword is used to indicate that X refers to the variable in the nearest enclosing scope that is not global, which is the variable X in func(). Inside nested(), it assigns 'Spam' to the X variable using the nonlocal keyword. When func() is called, it calls nested(), which assigns 'Spam' to the X variable. Finally, print(X) is executed within func(), and it prints 'Spam', which is the value assigned to the X variable inside the nested() function.\"\"\""
   ]
  },
  {
   "cell_type": "code",
   "execution_count": null,
   "id": "0a6be347",
   "metadata": {},
   "outputs": [],
   "source": []
  },
  {
   "cell_type": "code",
   "execution_count": null,
   "id": "8a52d71f",
   "metadata": {},
   "outputs": [],
   "source": []
  }
 ],
 "metadata": {
  "kernelspec": {
   "display_name": "Python 3 (ipykernel)",
   "language": "python",
   "name": "python3"
  },
  "language_info": {
   "codemirror_mode": {
    "name": "ipython",
    "version": 3
   },
   "file_extension": ".py",
   "mimetype": "text/x-python",
   "name": "python",
   "nbconvert_exporter": "python",
   "pygments_lexer": "ipython3",
   "version": "3.9.13"
  }
 },
 "nbformat": 4,
 "nbformat_minor": 5
}
