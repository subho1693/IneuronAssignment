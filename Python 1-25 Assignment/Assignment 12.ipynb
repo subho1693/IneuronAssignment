{
 "cells": [
  {
   "cell_type": "markdown",
   "id": "41d89a73",
   "metadata": {},
   "source": [
    "#### 1. In what modes should the PdfFileReader() and PdfFileWriter() File objects will be opened?\n"
   ]
  },
  {
   "cell_type": "markdown",
   "id": "841715c2",
   "metadata": {},
   "source": [
    "Ans:-\n",
    "The PdfFileReader() and PdfFileWriter() File objects from the PyPDF2 library should be opened in binary mode by passing the mode argument 'rb' (read binary) when opening an existing PDF file with PdfFileReader(), and 'wb' (write binary) when creating a new PDF file with PdfFileWriter(). This is because PDF files are binary files, and PyPDF2 needs to read and write the binary data in the files correctly.\n",
    "\n",
    "\n",
    "\n",
    "\n"
   ]
  },
  {
   "cell_type": "markdown",
   "id": "f8efd639",
   "metadata": {},
   "source": [
    "#### 2. From a PdfFileReader object, how do you get a Page object for page 5?\n"
   ]
  },
  {
   "cell_type": "markdown",
   "id": "957c8c69",
   "metadata": {},
   "source": [
    "Ans;-we can get a Page object for page 5 from a PdfFileReader object using the getPage() method with an index of 4 (since page indexing starts at 0)"
   ]
  },
  {
   "cell_type": "markdown",
   "id": "3f6fac07",
   "metadata": {},
   "source": [
    "#### 3. What PdfFileReader variable stores the number of pages in the PDF document?\n"
   ]
  },
  {
   "cell_type": "markdown",
   "id": "46a063b0",
   "metadata": {},
   "source": [
    "Ans:-The numPages variable of the PdfFileReader object stores the number of pages in the PDF document."
   ]
  },
  {
   "cell_type": "markdown",
   "id": "5a3af82a",
   "metadata": {},
   "source": [
    "#### 4. If a PdfFileReader object’s PDF is encrypted with the password swordfish, what must you do before you can obtain Page objects from it?\n"
   ]
  },
  {
   "cell_type": "markdown",
   "id": "a7a16a11",
   "metadata": {},
   "source": [
    "Ans;-If a PdfFileReader object's PDF is encrypted with the password 'swordfish', we need to decrypt it first by calling the decrypt('swordfish') method on the PdfFileReader object before we can obtain the Page objects from it."
   ]
  },
  {
   "cell_type": "markdown",
   "id": "da6471c4",
   "metadata": {},
   "source": [
    "#### 5. What methods do you use to rotate a page?\n"
   ]
  },
  {
   "cell_type": "markdown",
   "id": "3490fb9f",
   "metadata": {},
   "source": [
    "Ans:-You can use the rotateClockwise() and rotateCounterClockwise() methods of a PageObject to rotate the page 90 degrees in the clockwise or counterclockwise direction, respectively. You can also use the rotateClockwise(angle) method to rotate the page by an arbitrary angle (in degrees) in the clockwise direction."
   ]
  },
  {
   "cell_type": "markdown",
   "id": "97550adf",
   "metadata": {},
   "source": [
    "#### 6. What is the difference between a Run object and a Paragraph object?\n"
   ]
  },
  {
   "cell_type": "markdown",
   "id": "83810992",
   "metadata": {},
   "source": [
    "Ans:-\n",
    "In Python, a Run object and a Paragraph object are specific to the python-docx module used for working with Microsoft Word files.\n",
    "\n",
    "A Paragraph object represents a single paragraph in a Word document. It contains one or more Run objects, which are contiguous runs of text that share the same set of character formatting properties. A Paragraph object can contain plain text and a variety of other content, such as tables, images, and other paragraphs.\n",
    "\n",
    "On the other hand, a Run object represents a contiguous run of text within a single paragraph that shares the same set of character formatting properties. For example, a paragraph might contain several runs of text with different font sizes, styles, or colors. A Run object can be used to modify the formatting of the text it represents, such as changing the font, size, or color."
   ]
  },
  {
   "cell_type": "markdown",
   "id": "fbeeb00e",
   "metadata": {},
   "source": [
    "#### 7. How do you obtain a list of Paragraph objects for a Document object that’s stored in a variable named doc?\n"
   ]
  },
  {
   "cell_type": "markdown",
   "id": "4daa4d53",
   "metadata": {},
   "source": [
    "Ans:-we can obtain a list of Paragraph objects for a Document object that's stored in a variable named doc by calling the doc.paragraphs attribute. This will return a list of all the Paragraph objects in the document"
   ]
  },
  {
   "cell_type": "markdown",
   "id": "557eb5ca",
   "metadata": {},
   "source": [
    "#### 8. What type of object has bold, underline, italic, strike, and outline variables?\n"
   ]
  },
  {
   "cell_type": "markdown",
   "id": "a6a1d26a",
   "metadata": {},
   "source": [
    "Ans:-The Font object has bold, underline, italic, strike, and outline variables."
   ]
  },
  {
   "cell_type": "markdown",
   "id": "b32dfd1e",
   "metadata": {},
   "source": [
    "#### 9. What is the difference between False, True, and None for the bold variable?\n"
   ]
  },
  {
   "cell_type": "markdown",
   "id": "bfa2c41f",
   "metadata": {},
   "source": [
    "Ans:In the context of the bold variable:\n",
    "\n",
    "* False means the text is not bold\n",
    "* True means the text is bold\n",
    "* None means the bold setting for the text is not specified and the default value should be used (which may depend on the * specific software or library being used)."
   ]
  },
  {
   "cell_type": "markdown",
   "id": "74b29da6",
   "metadata": {},
   "source": [
    "#### 10. How do you create a Document object for a new Word document?\n"
   ]
  },
  {
   "cell_type": "code",
   "execution_count": 1,
   "id": "ef7ff2f2",
   "metadata": {},
   "outputs": [],
   "source": [
    "# # Example Program\n",
    "from docx import Document\n",
    "document = Document()\n",
    "document.add_paragraph(\" DataScience Course\")\n",
    "document.save('mydocument.docx')"
   ]
  },
  {
   "cell_type": "markdown",
   "id": "16d62605",
   "metadata": {},
   "source": [
    "#### 11. How do you add a paragraph with the text &#39;Hello, there!&#39; to a Document object stored in a variable named doc?\n"
   ]
  },
  {
   "cell_type": "code",
   "execution_count": 4,
   "id": "b944ffbe",
   "metadata": {},
   "outputs": [],
   "source": [
    "from docx import Document\n",
    "\n",
    "doc = Document()\n",
    "doc.add_paragraph('Hello, there!')\n",
    "doc.save('my_document.docx')"
   ]
  },
  {
   "cell_type": "markdown",
   "id": "e96de882",
   "metadata": {},
   "source": [
    "#### 12. What integers represent the levels of headings available in Word documents?"
   ]
  },
  {
   "cell_type": "markdown",
   "id": "fa068772",
   "metadata": {},
   "source": [
    "Ans:-In Word documents, the following integers represent the levels of headings:\n",
    "\n",
    "`0: Title style`\n",
    "\n",
    "`1: Heading 1 style`\n",
    "\n",
    "`2: Heading 2 style`\n",
    "\n",
    "`3: Heading 3 style`\n",
    "\n",
    "`4: Heading 4 style`\n",
    "\n",
    "`5: Heading 5 style`\n",
    "\n",
    "`6: Heading 6 style`\n",
    "\n",
    "`7: Heading 7 style`\n",
    "\n",
    "`8: Heading 8 style`\n",
    "\n",
    "`9: Heading 9 style`"
   ]
  },
  {
   "cell_type": "code",
   "execution_count": null,
   "id": "17653764",
   "metadata": {},
   "outputs": [],
   "source": []
  }
 ],
 "metadata": {
  "kernelspec": {
   "display_name": "Python 3 (ipykernel)",
   "language": "python",
   "name": "python3"
  },
  "language_info": {
   "codemirror_mode": {
    "name": "ipython",
    "version": 3
   },
   "file_extension": ".py",
   "mimetype": "text/x-python",
   "name": "python",
   "nbconvert_exporter": "python",
   "pygments_lexer": "ipython3",
   "version": "3.9.13"
  }
 },
 "nbformat": 4,
 "nbformat_minor": 5
}
