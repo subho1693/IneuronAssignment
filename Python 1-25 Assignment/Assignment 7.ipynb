{
 "cells": [
  {
   "cell_type": "markdown",
   "id": "4452abc0",
   "metadata": {},
   "source": [
    "# Assignment 7"
   ]
  },
  {
   "cell_type": "markdown",
   "id": "405cc7ef",
   "metadata": {},
   "source": [
    "#### 1. What is the name of the feature responsible for generating Regex objects?"
   ]
  },
  {
   "cell_type": "markdown",
   "id": "fbd08c1f",
   "metadata": {},
   "source": [
    "Ans :-the re module provides support for regular expressions. The re.compile() function is responsible for generating Regex objects. This function takes a regular expression pattern as input and returns a compiled regular expression object, which can then be used for matching and searching strings."
   ]
  },
  {
   "cell_type": "markdown",
   "id": "5214840a",
   "metadata": {},
   "source": [
    "#### 2. Why do raw strings often appear in Regex objects?\n"
   ]
  },
  {
   "cell_type": "markdown",
   "id": "40ef6c96",
   "metadata": {},
   "source": [
    "Ans:-Raw strings are often used in regular expressions because they allow us to write regular expressions without having to escape certain characters, such as backslashes, which can make the expressions easier to read and understand."
   ]
  },
  {
   "cell_type": "markdown",
   "id": "557e3943",
   "metadata": {},
   "source": [
    "#### 3. What is the return value of the search() method?"
   ]
  },
  {
   "cell_type": "markdown",
   "id": "c4ea6976",
   "metadata": {},
   "source": [
    "Ans:-The search() method returns a match object if the pattern is found in the string, and None if the pattern is not found. The match object contains information about the match, such as the start and end positions of the match in the string, the text of the match itself, and any captured groups within the match."
   ]
  },
  {
   "cell_type": "code",
   "execution_count": 1,
   "id": "9ac68b12",
   "metadata": {},
   "outputs": [
    {
     "name": "stdout",
     "output_type": "stream",
     "text": [
      "Output: <re.Match object; span=(0, 1), match='I'>\n",
      "Output: None\n"
     ]
    }
   ],
   "source": [
    "import re\n",
    "match = re.search('i','Ineuron Full Stack Data Science Program', flags=re.IGNORECASE)\n",
    "print('Output:',match)\n",
    "match = re.search('X','Ineuron Full Stack Data Science Program', flags=re.IGNORECASE)\n",
    "print('Output:',match)"
   ]
  },
  {
   "cell_type": "markdown",
   "id": "ea9aaa50",
   "metadata": {},
   "source": [
    "#### 4. From a Match item, how do you get the actual strings that match the pattern?\n"
   ]
  },
  {
   "cell_type": "code",
   "execution_count": 2,
   "id": "f78ad084",
   "metadata": {},
   "outputs": [
    {
     "name": "stdout",
     "output_type": "stream",
     "text": [
      "Match found:  fox\n"
     ]
    }
   ],
   "source": [
    "# To get the actual strings that match the pattern from a match object, you can use the group() method. \n",
    "import re\n",
    "\n",
    "string = \"The quick brown fox jumps over the lazy dog.\"\n",
    "pattern = r\"fox\"\n",
    "\n",
    "match_object = re.search(pattern, string)\n",
    "\n",
    "if match_object:\n",
    "    matched_string = match_object.group()\n",
    "    print(\"Match found: \", matched_string)\n",
    "else:\n",
    "    print(\"Match not found.\")\n"
   ]
  },
  {
   "cell_type": "markdown",
   "id": "8145cbdd",
   "metadata": {},
   "source": [
    "#### 5. In the regex which created from the r&#39;(\\d\\d\\d)-(\\d\\d\\d-\\d\\d\\d\\d)&#39;, what does group zero cover?Group 2? Group 1?\n"
   ]
  },
  {
   "cell_type": "code",
   "execution_count": 3,
   "id": "ca479f01",
   "metadata": {},
   "outputs": [
    {
     "name": "stdout",
     "output_type": "stream",
     "text": [
      "Full match: 555-123-4567\n",
      "First group: 555\n",
      "Second group: 123-4567\n"
     ]
    }
   ],
   "source": [
    "import re\n",
    "\n",
    "string = \"My phone number is 555-123-4567.\"\n",
    "pattern = r\"(\\d\\d\\d)-(\\d\\d\\d-\\d\\d\\d\\d)\"\n",
    "\n",
    "match_object = re.search(pattern, string)\n",
    "\n",
    "if match_object:\n",
    "    print(\"Full match:\", match_object.group(0))\n",
    "    print(\"First group:\", match_object.group(1))\n",
    "    print(\"Second group:\", match_object.group(2))\n",
    "else:\n",
    "    print(\"Match not found.\")"
   ]
  },
  {
   "cell_type": "markdown",
   "id": "1b27939d",
   "metadata": {},
   "source": [
    "#### 6. In standard expression syntax, parentheses and intervals have distinct meanings. How can you tell a regex that you want it to fit real parentheses and periods?\n"
   ]
  },
  {
   "cell_type": "code",
   "execution_count": 4,
   "id": "d1658521",
   "metadata": {},
   "outputs": [
    {
     "name": "stdout",
     "output_type": "stream",
     "text": [
      "(415) 555-4242\n"
     ]
    }
   ],
   "source": [
    "# we can use the regular expression pattern \\(.+\\). The backslashes before the parentheses escape them and tell the regex engine to treat them as literal characters to be matched.\n",
    "\n",
    "\n",
    "import re\n",
    "phoneNumRegex = re.compile(r'(\\(\\d\\d\\d\\)) (\\d\\d\\d-\\d\\d\\d\\d)')\n",
    "mo = phoneNumRegex.search('My phone number is (415) 555-4242.')\n",
    "print(mo.group())\n"
   ]
  },
  {
   "cell_type": "markdown",
   "id": "490e902c",
   "metadata": {},
   "source": [
    "#### 7. The findall() method returns a string list or a list of string tuples. What causes it to return one of the two options?\n"
   ]
  },
  {
   "cell_type": "markdown",
   "id": "038b28c6",
   "metadata": {},
   "source": [
    "Ans:- The findall() method returns a list of strings if the regular expression pattern contains no capturing groups (i.e., no parentheses), and it returns a list of tuples if the pattern contains one or more capturing groups.\n",
    "\n",
    " If the pattern contains one capturing group, each tuple in the returned list contains a single string. If the pattern contains multiple capturing groups, each tuple contains multiple strings, one for each capturing group.\n",
    "\n",
    "The findall() method always returns a list, even if no matches are found. If no matches are found, an empty list is returned."
   ]
  },
  {
   "cell_type": "markdown",
   "id": "64d9a073",
   "metadata": {},
   "source": [
    "#### 8. In standard expressions, what does the | character mean?\n"
   ]
  },
  {
   "cell_type": "markdown",
   "id": "98e50aca",
   "metadata": {},
   "source": [
    "Ans:-In standard expressions, the | character (vertical bar or pipe) is used to denote alternation, which allows matching of either one pattern or another."
   ]
  },
  {
   "cell_type": "markdown",
   "id": "8b4e0c53",
   "metadata": {},
   "source": [
    "#### 9. In regular expressions, what does the ? character stand for?\n"
   ]
  },
  {
   "cell_type": "markdown",
   "id": "46af8686",
   "metadata": {},
   "source": [
    "Ans:-In regular expressions, the ? character is used to specify that the preceding character or group is optional, meaning that it can occur zero or one time."
   ]
  },
  {
   "cell_type": "markdown",
   "id": "d51605ce",
   "metadata": {},
   "source": [
    "#### 10.In regular expressions, what is the difference between the + and * characters?\n"
   ]
  },
  {
   "cell_type": "markdown",
   "id": "ed4d93e5",
   "metadata": {},
   "source": [
    "Ans:-The + character specifies that the preceding character or group must occur one or more times. For example, the pattern go+l matches \"gol\", \"gool\", \"gooool\", and so on, but not \"gl\" (because there is no occurrence of the letter \"o\").\n",
    "\n",
    "The * character specifies that the preceding character or group can occur zero or more times. For example, the pattern go*l matches \"gl\", \"gol\", \"gool\", \"gooool\", and so on."
   ]
  },
  {
   "cell_type": "markdown",
   "id": "623066c6",
   "metadata": {},
   "source": [
    "#### 11. What is the difference between {4} and {4,5} in regular expression?\n"
   ]
  },
  {
   "cell_type": "markdown",
   "id": "6370c40c",
   "metadata": {},
   "source": [
    "Ans:-In regular expressions, {4} and {4,5} are both quantifiers that specify how many times the preceding character or group can occur.\n",
    "\n",
    "{4} specifies that the preceding character or group must occur exactly four times. For example, the pattern a{4} matches \"aaaa\" but not \"aaa\" or \"aaaaa\".\n",
    "\n",
    "{4,5} specifies that the preceding character or group can occur four or five times. For example, the pattern a{4,5} matches \"aaaa\" and \"aaaaa\" but not \"aaa\" or \"aaaaaaaa\".\n",
    "\n",
    "In summary, the difference between {4} and {4,5} is that {4} requires exactly four occurrences, while {4,5} allows for either four or five occurrences."
   ]
  },
  {
   "cell_type": "markdown",
   "id": "5db98a66",
   "metadata": {},
   "source": [
    "#### 12. What do you mean by the \\d, \\w, and \\s shorthand character classes signify in regular expressions?\n"
   ]
  },
  {
   "cell_type": "markdown",
   "id": "49189679",
   "metadata": {},
   "source": [
    "Ans:-In regular expressions, \\d, \\w, and \\s are shorthand character classes that represent commonly used character sets:\n",
    "\n",
    "* \\d represents any digit character (0-9).\n",
    "* \\w represents any word character, which includes letters (uppercase and lowercase), digits, and underscores. It is equivalent to the character set [a-zA-Z0-9_].\n",
    "* \\s represents any whitespace character, including spaces, tabs, and newlines."
   ]
  },
  {
   "cell_type": "markdown",
   "id": "670d5c60",
   "metadata": {},
   "source": [
    "#### 13. What do means by \\D, \\W, and \\S shorthand character classes signify in regular expressions?\n"
   ]
  },
  {
   "cell_type": "markdown",
   "id": "ee9c39bb",
   "metadata": {},
   "source": [
    "Ans:-In regular expressions, \\D, \\W, and \\S are negated shorthand character classes that represent any character that is not included in \\d, \\w, and \\s respectively:\n",
    "\n",
    "* \\D represents any non-digit character (equivalent to the character set [^0-9]).\n",
    "* \\W represents any non-word character (equivalent to the character set [^a-zA-Z0-9_]).\n",
    "* \\S represents any non-whitespace character."
   ]
  },
  {
   "cell_type": "markdown",
   "id": "d6263ae3",
   "metadata": {},
   "source": [
    "#### 14. What is the difference between .*? and .*?"
   ]
  },
  {
   "cell_type": "markdown",
   "id": "b5243994",
   "metadata": {},
   "source": [
    "Ans:-In regular expressions, .* and .*? are both quantifiers that match any sequence of characters (except for a newline character) in a non-greedy or greedy way, respectively.\n",
    "\n",
    ".* is a greedy quantifier that matches any sequence of characters (except for a newline character) as long as possible. For example, the pattern a.*b matches \"ab\", \"acb\", \"a1b\", \"a12b\", etc.\n",
    "\n",
    ".*? is a non-greedy quantifier that matches any sequence of characters (except for a newline character) as short as possible. For example, the pattern a.*?b matches \"ab\", \"acb\", \"a1b\", but also \"a\" or \"abcb\".\n",
    "\n",
    "So the main difference between .* and .*? is that .* matches the longest possible sequence of characters, while .*? matches the shortest possible sequence of characters."
   ]
  },
  {
   "cell_type": "markdown",
   "id": "bf5aabf4",
   "metadata": {},
   "source": [
    "#### 15. What is the syntax for matching both numbers and lowercase letters with a character class?"
   ]
  },
  {
   "cell_type": "markdown",
   "id": "0a31d8fc",
   "metadata": {},
   "source": [
    "Ans:- In regular expressions, we can match both numbers and lowercase letters with the following character class:[0-9a-z]"
   ]
  },
  {
   "cell_type": "markdown",
   "id": "4cbcb801",
   "metadata": {},
   "source": [
    "#### 16. What is the procedure for making a normal expression in regax case insensitive?"
   ]
  },
  {
   "cell_type": "markdown",
   "id": "e1a29c1b",
   "metadata": {},
   "source": [
    "Ans:-In regular expressions, we can make a pattern case-insensitive by using the re.IGNORECASE or re.I flag with the compile() or search() function. This flag instructs the regular expression engine to match characters regardless of their case."
   ]
  },
  {
   "cell_type": "markdown",
   "id": "99d151d0",
   "metadata": {},
   "source": [
    "#### 17. What does the . character normally match? What does it match if re.DOTALL is passed as 2nd argument in re.compile()?"
   ]
  },
  {
   "cell_type": "markdown",
   "id": "28c79f6e",
   "metadata": {},
   "source": [
    "Ans:-In regular expressions, the . character (dot) is a wildcard that matches any character except for a newline character (\\n).\n",
    "\n",
    "If the re.DOTALL flag is passed as the second argument to the re.compile() function, the . character will also match a newline character. In other words, the re.DOTALL flag makes the dot match any character, including newline characters."
   ]
  },
  {
   "cell_type": "markdown",
   "id": "1146fa54",
   "metadata": {},
   "source": [
    "#### 18. If numReg = re.compile(r&#39;\\d+&#39;), what will numRegex.sub(&#39;X&#39;, &#39;11 drummers, 10 pipers, five rings, 4 hen&#39;) return?"
   ]
  },
  {
   "cell_type": "markdown",
   "id": "3f43e41f",
   "metadata": {},
   "source": [
    "Ans:-The Ouput will be 'X drummers, X pipers, five rings, X hen'\n"
   ]
  },
  {
   "cell_type": "code",
   "execution_count": 5,
   "id": "fc769385",
   "metadata": {},
   "outputs": [
    {
     "data": {
      "text/plain": [
       "'X drummers, X pipers, five rings, X hen'"
      ]
     },
     "execution_count": 5,
     "metadata": {},
     "output_type": "execute_result"
    }
   ],
   "source": [
    "\n",
    "import re\n",
    "numReg = re.compile(r'\\d+')\n",
    "numReg.sub('X', '11 drummers, 10 pipers, five rings, 4 hen')"
   ]
  },
  {
   "cell_type": "markdown",
   "id": "deccfe63",
   "metadata": {},
   "source": [
    "#### 19. What does passing re.VERBOSE as the 2nd argument to re.compile() allow to do?"
   ]
  },
  {
   "cell_type": "markdown",
   "id": "6737af0d",
   "metadata": {},
   "source": [
    "Ans;-Passing re.VERBOSE as the second argument to re.compile() allows you to add comments and whitespace to the regular expression pattern, making it more readable and easier to understand.\n",
    "\n",
    "Here's how it works:\n",
    "\n",
    "* Normally, all whitespace in a regular expression is ignored. This means that you cannot add comments or extra whitespace to your pattern to make it more readable.\n",
    "* However, if you pass re.VERBOSE as the second argument to re.compile(), you can add comments and whitespace to your pattern.\n",
    "* To add a comment, simply start the line with the # character. The comment will continue until the end of the line.\n",
    "* You can also use whitespace to separate parts of your pattern and make it easier to read.\n"
   ]
  },
  {
   "cell_type": "markdown",
   "id": "f5fb550f",
   "metadata": {},
   "source": [
    "#### 20. How would you write a regex that match a number with comma for every three digits? It must match the given following:\n",
    "`42`\n",
    "`1,234`\n",
    "`6,368,745` but not the following:\n",
    "`12,34,567` (which has only two digits between the commas)\n",
    "`1234` (which lacks commas)"
   ]
  },
  {
   "cell_type": "code",
   "execution_count": 6,
   "id": "c3029648",
   "metadata": {},
   "outputs": [
    {
     "name": "stdout",
     "output_type": "stream",
     "text": [
      "Output: 42 -> <re.Match object; span=(0, 2), match='42'>\n",
      "Output: 1,234 -> <re.Match object; span=(0, 5), match='1,234'>\n",
      "Output: 6,368,745 -> <re.Match object; span=(0, 9), match='6,368,745'>\n",
      "Output: 12,34,567 -> None\n",
      "Output: 1234 -> None\n"
     ]
    }
   ],
   "source": [
    "import re\n",
    "pattern = r'^\\d{1,3}(,\\d{3})*$'\n",
    "pagex = re.compile(pattern)\n",
    "for ele in ['42','1,234', '6,368,745','12,34,567','1234']:\n",
    "    print('Output:',ele, '->', pagex.search(ele))"
   ]
  },
  {
   "cell_type": "markdown",
   "id": "475c271a",
   "metadata": {},
   "source": [
    "#### 21. How would you write a regex that matches the full name of someone whose last name is Watanabe? You can assume that the first name that comes before it will always be one word that begins with a capital letter. The regex must match the following:\n",
    "`Haruto Watanabe`\n",
    "\n",
    "`Alice Watanabe`\n",
    "\n",
    "`RoboCop Watanabe`\n",
    "\n",
    "but not the following:\n",
    "\n",
    "`haruto Watanabe` (where the first name is not capitalized)\n",
    "\n",
    "`Mr. Watanabe` (where the preceding word has a nonletter character)\n",
    "\n",
    "`Watanabe` (which has no first name)\n",
    "\n",
    "`Haruto watanabe` (where Watanabe is not capitalized)\n"
   ]
  },
  {
   "cell_type": "code",
   "execution_count": 7,
   "id": "78b79617",
   "metadata": {},
   "outputs": [
    {
     "name": "stdout",
     "output_type": "stream",
     "text": [
      "Output:  Haruto Watanabe -> <re.Match object; span=(0, 15), match='Haruto Watanabe'>\n",
      "Output:  Alice Watanabe -> <re.Match object; span=(0, 14), match='Alice Watanabe'>\n",
      "Output:  RoboCop Watanabe -> <re.Match object; span=(4, 16), match='Cop Watanabe'>\n",
      "Output:  haruto Watanabe -> None\n",
      "Output:  Mr. Watanabe -> None\n",
      "Output:  Watanabe -> None\n",
      "Output:  Haruto watanabe -> None\n"
     ]
    }
   ],
   "source": [
    "# The regex that matches the full name of someone whose last name is Watanabe is: '[A-Z][a-z]*\\sWatanabe'\n",
    "import re\n",
    "pattern = r'[A-Z]{1}[a-z]*\\sWatanabe'\n",
    "namex = re.compile(pattern)\n",
    "for name in ['Haruto Watanabe','Alice Watanabe','RoboCop Watanabe','haruto Watanabe','Mr. Watanabe','Watanabe','Haruto watanabe']:\n",
    "    print('Output: ',name,'->',namex.search(name))\n"
   ]
  },
  {
   "cell_type": "markdown",
   "id": "8f141b9f",
   "metadata": {},
   "source": [
    "#### 22. How would you write a regex that matches a sentence where the first word is either Alice, Bob, or Carol; the second word is either eats, pets, or throws; the third word is apples, cats, or baseballs; and the sentence ends with a period? This regex should be case-insensitive. It must match the following:\n",
    "`'Alice eats apples.'`\n",
    "\n",
    "`'Bob pets cats.'`\n",
    "\n",
    "`'Carol throws baseballs.'`\n",
    "\n",
    "`'Alice throws Apples.'`\n",
    "\n",
    "`'BOB EATS CATS.'`\n",
    "\n",
    "but not the following:\n",
    "\n",
    "`'RoboCop eats apples.'`\n",
    "\n",
    "`'ALICE THROWS FOOTBALLS.'`\n",
    "\n",
    "`'Carol eats 7 cats.'`"
   ]
  },
  {
   "cell_type": "code",
   "execution_count": 8,
   "id": "375f8e8d",
   "metadata": {},
   "outputs": [
    {
     "name": "stdout",
     "output_type": "stream",
     "text": [
      "Output:  Alice eats apples. -> <re.Match object; span=(0, 18), match='Alice eats apples.'>\n",
      "Output:  Bob pets cats. -> <re.Match object; span=(0, 14), match='Bob pets cats.'>\n",
      "Output:  Carol throws baseballs. -> <re.Match object; span=(0, 23), match='Carol throws baseballs.'>\n",
      "Output:  Alice throws Apples. -> <re.Match object; span=(0, 20), match='Alice throws Apples.'>\n",
      "Output:  BOB EATS CATS. -> <re.Match object; span=(0, 14), match='BOB EATS CATS.'>\n",
      "Output:  RoboCop eats apples. -> None\n",
      "Output:  ALICE THROWS FOOTBALLS. -> None\n",
      "Output:  Carol eats 7 cats. -> None\n"
     ]
    }
   ],
   "source": [
    "# pattern = r'(Alice|Bob|Carol)\\s(eats|pets|throws)\\s(apples|cats|baseballs)\\.'\n",
    "\n",
    "import re\n",
    "pattern = r'(Alice|Bob|Carol)\\s(eats|pets|throws)\\s(apples|cats|baseballs)\\.'\n",
    "casex = re.compile(pattern,re.IGNORECASE)\n",
    "for ele in ['Alice eats apples.','Bob pets cats.','Carol throws baseballs.','Alice throws Apples.','BOB EATS CATS.','RoboCop eats apples.'\n",
    ",'ALICE THROWS FOOTBALLS.','Carol eats 7 cats.']:\n",
    "    print('Output: ',ele,'->',casex.search(ele))"
   ]
  },
  {
   "cell_type": "code",
   "execution_count": null,
   "id": "0feb392a",
   "metadata": {},
   "outputs": [],
   "source": []
  },
  {
   "cell_type": "code",
   "execution_count": null,
   "id": "813e99dc",
   "metadata": {},
   "outputs": [],
   "source": []
  },
  {
   "cell_type": "code",
   "execution_count": null,
   "id": "f11d3abd",
   "metadata": {},
   "outputs": [],
   "source": []
  },
  {
   "cell_type": "code",
   "execution_count": null,
   "id": "10a08a3f",
   "metadata": {},
   "outputs": [],
   "source": []
  },
  {
   "cell_type": "code",
   "execution_count": null,
   "id": "4ad2ab73",
   "metadata": {},
   "outputs": [],
   "source": []
  },
  {
   "cell_type": "code",
   "execution_count": null,
   "id": "9593fdb1",
   "metadata": {},
   "outputs": [],
   "source": []
  },
  {
   "cell_type": "code",
   "execution_count": null,
   "id": "e77f2448",
   "metadata": {},
   "outputs": [],
   "source": []
  }
 ],
 "metadata": {
  "kernelspec": {
   "display_name": "Python 3 (ipykernel)",
   "language": "python",
   "name": "python3"
  },
  "language_info": {
   "codemirror_mode": {
    "name": "ipython",
    "version": 3
   },
   "file_extension": ".py",
   "mimetype": "text/x-python",
   "name": "python",
   "nbconvert_exporter": "python",
   "pygments_lexer": "ipython3",
   "version": "3.9.13"
  }
 },
 "nbformat": 4,
 "nbformat_minor": 5
}
