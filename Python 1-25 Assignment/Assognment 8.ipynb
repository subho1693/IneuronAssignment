{
 "cells": [
  {
   "cell_type": "markdown",
   "id": "384856a2",
   "metadata": {},
   "source": [
    "#### 1. Is the Python Standard Library included with PyInputPlus?\n"
   ]
  },
  {
   "cell_type": "markdown",
   "id": "55ba261c",
   "metadata": {},
   "source": [
    "Ans:-No, the Python Standard Library is not included with PyInputPlus. PyInputPlus is a separate third-party library that provides additional features for taking input in Python. While it may use some functions from the standard library, it is not a part of it."
   ]
  },
  {
   "cell_type": "markdown",
   "id": "713443d0",
   "metadata": {},
   "source": [
    "#### 2. Why is PyInputPlus commonly imported with import pyinputplus as pypi?\n"
   ]
  },
  {
   "cell_type": "markdown",
   "id": "2e6d5c28",
   "metadata": {},
   "source": [
    "Ans:-PyInputPlus is commonly imported with the alias `pypi` (e.g. `import pyinputplus as pypi`) because the library name `pyinputplus` is quite long, and using an alias allows for shorter and more readable code. The `pypi` alias is a common convention, but you can use any valid Python identifier as an alias when importing a module."
   ]
  },
  {
   "cell_type": "markdown",
   "id": "d491aa4a",
   "metadata": {},
   "source": [
    "#### 3. How do you distinguish between inputInt() and inputFloat()?\n"
   ]
  },
  {
   "cell_type": "markdown",
   "id": "06a9dd2f",
   "metadata": {},
   "source": [
    "Ans:-`inputInt()` and `inputFloat()` are both PyInputPlus functions for getting input from the user, but they differ in the type of input they accept and return.\n",
    "\n",
    "`inputInt()` is used for getting an integer input from the user. It returns an integer value or raises a `ValidationException` if the input is not a valid integer.\n",
    "\n",
    "`inputFloat()` is used for getting a floating-point input from the user. It returns a floating-point value or raises a `ValidationException` if the input is not a valid float.\n",
    "\n"
   ]
  },
  {
   "cell_type": "markdown",
   "id": "744c16b0",
   "metadata": {},
   "source": [
    "#### 4. Using PyInputPlus, how do you ensure that the user enters a whole number between 0 and 99?\n"
   ]
  },
  {
   "cell_type": "markdown",
   "id": "4242cdf1",
   "metadata": {},
   "source": [
    "Ans:-You can use the inputInt() function from PyInputPlus along with the min and max arguments to ensure that the user enters a whole number between 0 and 99."
   ]
  },
  {
   "cell_type": "markdown",
   "id": "a42073b8",
   "metadata": {},
   "source": [
    "#### 5. What is transferred to the keyword arguments allowRegexes and blockRegexes?\n"
   ]
  },
  {
   "cell_type": "markdown",
   "id": "a7afdf2c",
   "metadata": {},
   "source": [
    "Ans:-In PyInputPlus, the `allowRegexes` and `blockRegexes` keyword arguments are used to transfer a list of regular expression strings.\n",
    "\n",
    "The `allowRegexes` argument specifies a list of regular expression patterns that the input must match for it to be considered valid. On the other hand, the `blockRegexes` argument specifies a list of regular expression patterns that the input must not match."
   ]
  },
  {
   "cell_type": "markdown",
   "id": "e878b7e7",
   "metadata": {},
   "source": [
    "#### 6. If a blank input is entered three times, what does inputStr(limit=3) do?\n"
   ]
  },
  {
   "cell_type": "markdown",
   "id": "bc746a84",
   "metadata": {},
   "source": [
    "Ans:-If a blank input is entered three times, `inputStr(limit=3)` will raise a `TimeoutException` because the user has exceeded the maximum number of allowed tries to enter input. The default behavior of `inputStr()` is to allow the user to enter input indefinitely until a non-blank input is given or the program is interrupted. However, the `limit` parameter can be used to set the maximum number of allowed tries before raising a `TimeoutException`."
   ]
  },
  {
   "cell_type": "markdown",
   "id": "e5238450",
   "metadata": {},
   "source": [
    "#### 7. If blank input is entered three times, what does inputStr(limit=3, default=&#39;hello&#39;) do?"
   ]
  },
  {
   "cell_type": "markdown",
   "id": "a8098d1c",
   "metadata": {},
   "source": [
    "Ans:-If blank input is entered three times, `inputStr(limit=3, default='hello')` returns the string `'hello'`."
   ]
  },
  {
   "cell_type": "code",
   "execution_count": null,
   "id": "edb60983",
   "metadata": {},
   "outputs": [],
   "source": []
  }
 ],
 "metadata": {
  "kernelspec": {
   "display_name": "Python 3 (ipykernel)",
   "language": "python",
   "name": "python3"
  },
  "language_info": {
   "codemirror_mode": {
    "name": "ipython",
    "version": 3
   },
   "file_extension": ".py",
   "mimetype": "text/x-python",
   "name": "python",
   "nbconvert_exporter": "python",
   "pygments_lexer": "ipython3",
   "version": "3.9.13"
  }
 },
 "nbformat": 4,
 "nbformat_minor": 5
}
