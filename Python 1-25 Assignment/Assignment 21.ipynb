{
 "cells": [
  {
   "cell_type": "markdown",
   "id": "bfc2028f",
   "metadata": {},
   "source": [
    "#### 1. Add the current date to the text file today.txt as a string.\n"
   ]
  },
  {
   "cell_type": "code",
   "execution_count": 1,
   "id": "693a481e",
   "metadata": {},
   "outputs": [],
   "source": [
    "import os\n",
    "import datetime\n",
    "import random\n",
    "import multiprocessing\n",
    "from multiprocessing import Process\n",
    "from datetime import date, timedelta\n",
    "\n",
    "current_date = str(date.today())\n",
    "with open(\"today.txt\", \"w\") as file:\n",
    "    file.write(current_date)"
   ]
  },
  {
   "cell_type": "markdown",
   "id": "b61c5d3b",
   "metadata": {},
   "source": [
    "#### 2. Read the text file today.txt into the string today_string\n"
   ]
  },
  {
   "cell_type": "code",
   "execution_count": 2,
   "id": "ff288059",
   "metadata": {},
   "outputs": [
    {
     "name": "stdout",
     "output_type": "stream",
     "text": [
      "2023-05-10\n"
     ]
    }
   ],
   "source": [
    "with open(\"today.txt\", \"r\") as file:\n",
    "    today_string = file.read()\n",
    "    print(today_string)"
   ]
  },
  {
   "cell_type": "markdown",
   "id": "1068e3f4",
   "metadata": {},
   "source": [
    "#### 3. Parse the date from today_string.\n"
   ]
  },
  {
   "cell_type": "code",
   "execution_count": 3,
   "id": "1cf94368",
   "metadata": {},
   "outputs": [
    {
     "data": {
      "text/plain": [
       "datetime.date(2023, 5, 10)"
      ]
     },
     "execution_count": 3,
     "metadata": {},
     "output_type": "execute_result"
    }
   ],
   "source": [
    "parsed_date = datetime.datetime.strptime(today_string, \"%Y-%m-%d\").date()\n",
    "parsed_date"
   ]
  },
  {
   "cell_type": "markdown",
   "id": "70b2ce6a",
   "metadata": {},
   "source": [
    "#### 4. List the files in your current directory\n"
   ]
  },
  {
   "cell_type": "code",
   "execution_count": 4,
   "id": "d6467dc9",
   "metadata": {},
   "outputs": [
    {
     "data": {
      "text/plain": [
       "['.ipynb_checkpoints',\n",
       " 'Assignment 10.ipynb',\n",
       " 'Assignment 11.ipynb',\n",
       " 'Assignment 12.ipynb',\n",
       " 'Assignment 13.ipynb',\n",
       " 'Assignment 14.ipynb',\n",
       " 'Assignment 15.ipynb',\n",
       " 'Assignment 16.ipynb',\n",
       " 'Assignment 17.ipynb',\n",
       " 'Assignment 18.ipynb',\n",
       " 'Assignment 19.ipynb',\n",
       " 'Assignment 20.ipynb',\n",
       " 'Assignment 21.ipynb',\n",
       " 'Assignment 4.ipynb',\n",
       " 'Assignment 5.ipynb',\n",
       " 'Assignment 6.ipynb',\n",
       " 'Assignment 7.ipynb',\n",
       " 'Assignment 8.ipynb',\n",
       " 'Assignment 9.ipynb',\n",
       " 'Assignment_1.docx',\n",
       " 'Assignment_2.docx',\n",
       " 'Assignment_3.docx',\n",
       " 'Assignment_4.docx',\n",
       " 'books.csv',\n",
       " 'books.db',\n",
       " 'data',\n",
       " 'data.txt',\n",
       " 'example.csv',\n",
       " 'modified_image.png',\n",
       " 'my_document.docx',\n",
       " 'output.csv',\n",
       " 'source',\n",
       " 'test.txt',\n",
       " 'today.txt',\n",
       " 'zoo.py',\n",
       " '__pycache__']"
      ]
     },
     "execution_count": 4,
     "metadata": {},
     "output_type": "execute_result"
    }
   ],
   "source": [
    "files_in_current_directory = os.listdir()\n",
    "files_in_current_directory"
   ]
  },
  {
   "cell_type": "markdown",
   "id": "ee4d6334",
   "metadata": {},
   "source": [
    "#### 5. Create a list of all of the files in your parent directory (minimum five files should be available).\n"
   ]
  },
  {
   "cell_type": "code",
   "execution_count": 5,
   "id": "a3c337af",
   "metadata": {},
   "outputs": [
    {
     "data": {
      "text/plain": [
       "['.ipynb_checkpoints',\n",
       " 'asign1.PNG',\n",
       " 'asign11.PNG',\n",
       " 'iNeuron-Full-Stack-Data-Science-Assignments',\n",
       " 'ineuron-logo.png',\n",
       " 'modified.png',\n",
       " 'modified_image.png',\n",
       " 'Python 1-25 Assignment',\n",
       " 'Python Promgramming Assignment']"
      ]
     },
     "execution_count": 5,
     "metadata": {},
     "output_type": "execute_result"
    }
   ],
   "source": [
    "parent_directory = os.path.dirname(os.getcwd())\n",
    "files_in_parent_directory = os.listdir(parent_directory)\n",
    "files_in_parent_directory"
   ]
  },
  {
   "cell_type": "markdown",
   "id": "abf52efc",
   "metadata": {},
   "source": [
    "#### 6. Use multiprocessing to create three separate processes. Make each one wait a random number of seconds between one and five, print the current time, and then exit.\n"
   ]
  },
  {
   "cell_type": "code",
   "execution_count": 6,
   "id": "24543f53",
   "metadata": {},
   "outputs": [],
   "source": [
    "def print_current_time():\n",
    "    current_time = datetime.datetime.now().strftime(\"%H:%M:%S\")\n",
    "    print(\"Current time:\", current_time)\n",
    "\n",
    "def wait_and_print():\n",
    "    wait_time = random.randint(1, 5)\n",
    "    print(\"Waiting for\", wait_time, \"seconds\")\n",
    "    current_time = datetime.datetime.now().strftime(\"%H:%M:%S\")\n",
    "    print(\"Start time:\", current_time)\n",
    "    # Wait for the specified time\n",
    "    multiprocessing.current_process().name = \"Process \" + str(multiprocessing.current_process().pid)\n",
    "    multiprocessing.current_process().authkey = b\"openai\"\n",
    "    multiprocessing.current_process().close()\n",
    "    multiprocessing.current_process().exit()\n",
    "    current_time = datetime.datetime.now().strftime(\"%H:%M:%S\")\n",
    "    print(\"End time:\", current_time)\n",
    "\n",
    "processes = []\n",
    "for _ in range(3):\n",
    "    process = Process(target=wait_and_print)\n",
    "    processes.append(process)\n",
    "    process.start()\n",
    "\n",
    "for process in processes:\n",
    "    process.join()"
   ]
  },
  {
   "cell_type": "markdown",
   "id": "79aaab4c",
   "metadata": {},
   "source": [
    "#### 7. Create a date object of your day of birth.\n"
   ]
  },
  {
   "cell_type": "code",
   "execution_count": 7,
   "id": "534e126a",
   "metadata": {},
   "outputs": [
    {
     "data": {
      "text/plain": [
       "datetime.date(1993, 4, 16)"
      ]
     },
     "execution_count": 7,
     "metadata": {},
     "output_type": "execute_result"
    }
   ],
   "source": [
    "date_of_birth = date(1993, 4, 16)\n",
    "date_of_birth"
   ]
  },
  {
   "cell_type": "markdown",
   "id": "a43e284e",
   "metadata": {},
   "source": [
    "#### 8. What day of the week was your day of birth?\n"
   ]
  },
  {
   "cell_type": "code",
   "execution_count": 8,
   "id": "552b3f47",
   "metadata": {},
   "outputs": [
    {
     "data": {
      "text/plain": [
       "'Friday'"
      ]
     },
     "execution_count": 8,
     "metadata": {},
     "output_type": "execute_result"
    }
   ],
   "source": [
    "day_of_week_birth = date_of_birth.strftime(\"%A\")\n",
    "day_of_week_birth"
   ]
  },
  {
   "cell_type": "markdown",
   "id": "c3fcb53e",
   "metadata": {},
   "source": [
    "#### 9. When will you be (or when were you) 10,000 days old?"
   ]
  },
  {
   "cell_type": "code",
   "execution_count": 9,
   "id": "9e7696b4",
   "metadata": {},
   "outputs": [
    {
     "name": "stdout",
     "output_type": "stream",
     "text": [
      "Today: 2023-05-10\n",
      "Parsed Date: 2023-05-10\n",
      "Files in Current Directory: ['.ipynb_checkpoints', 'Assignment 10.ipynb', 'Assignment 11.ipynb', 'Assignment 12.ipynb', 'Assignment 13.ipynb', 'Assignment 14.ipynb', 'Assignment 15.ipynb', 'Assignment 16.ipynb', 'Assignment 17.ipynb', 'Assignment 18.ipynb', 'Assignment 19.ipynb', 'Assignment 20.ipynb', 'Assignment 21.ipynb', 'Assignment 4.ipynb', 'Assignment 5.ipynb', 'Assignment 6.ipynb', 'Assignment 7.ipynb', 'Assignment 8.ipynb', 'Assignment 9.ipynb', 'Assignment_1.docx', 'Assignment_2.docx', 'Assignment_3.docx', 'Assignment_4.docx', 'books.csv', 'books.db', 'data', 'data.txt', 'example.csv', 'modified_image.png', 'my_document.docx', 'output.csv', 'source', 'test.txt', 'today.txt', 'zoo.py', '__pycache__']\n",
      "Files in Parent Directory: ['.ipynb_checkpoints', 'asign1.PNG', 'asign11.PNG', 'iNeuron-Full-Stack-Data-Science-Assignments', 'ineuron-logo.png', 'modified.png', 'modified_image.png', 'Python 1-25 Assignment', 'Python Promgramming Assignment']\n",
      "Day of Week at Birth: Friday\n",
      "Future Date (10,000 days later): 2020-09-01\n"
     ]
    }
   ],
   "source": [
    "future_date = date_of_birth + timedelta(days=10000)\n",
    "\n",
    "print(\"Today:\", current_date)\n",
    "print(\"Parsed Date:\", parsed_date)\n",
    "print(\"Files in Current Directory:\", files_in_current_directory)\n",
    "print(\"Files in Parent Directory:\", files_in_parent_directory)\n",
    "print(\"Day of Week at Birth:\", day_of_week_birth)\n",
    "print(\"Future Date (10,000 days later):\", future_date)"
   ]
  },
  {
   "cell_type": "code",
   "execution_count": null,
   "id": "98849fac",
   "metadata": {},
   "outputs": [],
   "source": []
  }
 ],
 "metadata": {
  "kernelspec": {
   "display_name": "Python 3 (ipykernel)",
   "language": "python",
   "name": "python3"
  },
  "language_info": {
   "codemirror_mode": {
    "name": "ipython",
    "version": 3
   },
   "file_extension": ".py",
   "mimetype": "text/x-python",
   "name": "python",
   "nbconvert_exporter": "python",
   "pygments_lexer": "ipython3",
   "version": "3.9.13"
  }
 },
 "nbformat": 4,
 "nbformat_minor": 5
}
