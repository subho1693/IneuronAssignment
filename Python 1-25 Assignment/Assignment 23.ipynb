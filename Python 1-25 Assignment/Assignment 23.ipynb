{
 "cells": [
  {
   "cell_type": "markdown",
   "id": "fecc851d",
   "metadata": {},
   "source": [
    "#### 1. What is the result of the code, and why?\n",
    "&gt;&gt;&gt; def func(a, b=6, c=8):\n",
    "print(a, b, c)\n",
    "&gt;&gt;&gt; func(1, 2)\n"
   ]
  },
  {
   "cell_type": "code",
   "execution_count": 3,
   "id": "70c2e4e9",
   "metadata": {},
   "outputs": [
    {
     "name": "stdout",
     "output_type": "stream",
     "text": [
      "1 2 8\n"
     ]
    },
    {
     "data": {
      "text/plain": [
       "'Explanation: The function func() is defined with three parameters (a, b, and c). The default values for b and c are set to 6 and 8, respectively. When func(1, 2) is called, the value of 1 is assigned to a, and 2 is assigned to b (since c is not provided, it takes its default value). Therefore, when print(a, b, c) is executed, it prints 1 2 8.'"
      ]
     },
     "execution_count": 3,
     "metadata": {},
     "output_type": "execute_result"
    }
   ],
   "source": [
    "def func(a, b=6, c=8): \n",
    "    print(a, b, c)\n",
    "func(1, 2)\n",
    "\"\"\"Explanation: The function func() is defined with three parameters (a, b, and c). The default values for b and c are set to 6 and 8, respectively. When func(1, 2) is called, the value of 1 is assigned to a, and 2 is assigned to b (since c is not provided, it takes its default value). Therefore, when print(a, b, c) is executed, it prints 1 2 8.\"\"\""
   ]
  },
  {
   "cell_type": "markdown",
   "id": "4fc91332",
   "metadata": {},
   "source": [
    "#### 2. What is the result of this code, and why?\n",
    "&gt;&gt;&gt; def func(a, b, c=5):\n",
    "print(a, b, c)\n",
    "&gt;&gt;&gt; func(1, c=3, b=2)\n"
   ]
  },
  {
   "cell_type": "code",
   "execution_count": 6,
   "id": "c251ecd6",
   "metadata": {},
   "outputs": [
    {
     "name": "stdout",
     "output_type": "stream",
     "text": [
      "1 2 3\n"
     ]
    },
    {
     "data": {
      "text/plain": [
       "'Explanation: The function func() is defined with three parameters (a, b, and c). The default value for c is set to 5. When func(1, c=3, b=2) is called, the value of 1 is assigned to a, 2 is assigned to b, and 3 is assigned to c (overriding the default value). Therefore, when print(a, b, c) is executed, it prints 1 2 3.'"
      ]
     },
     "execution_count": 6,
     "metadata": {},
     "output_type": "execute_result"
    }
   ],
   "source": [
    "def func(a, b, c=5): \n",
    "    print(a, b, c) \n",
    "func(1, c=3, b=2)\n",
    "\"\"\"Explanation: The function func() is defined with three parameters (a, b, and c). The default value for c is set to 5. When func(1, c=3, b=2) is called, the value of 1 is assigned to a, 2 is assigned to b, and 3 is assigned to c (overriding the default value). Therefore, when print(a, b, c) is executed, it prints 1 2 3.\"\"\""
   ]
  },
  {
   "cell_type": "markdown",
   "id": "a14d01f3",
   "metadata": {},
   "source": [
    "#### 3. How about this code: what is its result, and why?\n",
    "&gt;&gt;&gt; def func(a, *pargs):\n",
    "print(a, pargs)\n",
    "&gt;&gt;&gt; func(1, 2, 3)\n"
   ]
  },
  {
   "cell_type": "code",
   "execution_count": 7,
   "id": "fe9e5f17",
   "metadata": {},
   "outputs": [
    {
     "name": "stdout",
     "output_type": "stream",
     "text": [
      "1 (2, 3)\n"
     ]
    },
    {
     "data": {
      "text/plain": [
       "'Explanation: The function func() is defined with a parameter a and *pargs (a variable-length argument list). When func(1, 2, 3) is called, the value of 1 is assigned to a, and the remaining arguments (2 and 3) are packed into the pargs tuple. Therefore, when print(a, pargs) is executed, it prints 1 (2, 3).'"
      ]
     },
     "execution_count": 7,
     "metadata": {},
     "output_type": "execute_result"
    }
   ],
   "source": [
    "def func(a, *pargs): \n",
    "    print(a, pargs)\n",
    "func(1, 2, 3)\n",
    "\"\"\"Explanation: The function func() is defined with a parameter a and *pargs (a variable-length argument list). When func(1, 2, 3) is called, the value of 1 is assigned to a, and the remaining arguments (2 and 3) are packed into the pargs tuple. Therefore, when print(a, pargs) is executed, it prints 1 (2, 3).\"\"\""
   ]
  },
  {
   "cell_type": "markdown",
   "id": "1778a97a",
   "metadata": {},
   "source": [
    "#### 4. What does this code print, and why?\n",
    "&gt;&gt;&gt; def func(a, **kargs):\n",
    "print(a, kargs)\n",
    "&gt;&gt;&gt; func(a=1, c=3, b=2)\n"
   ]
  },
  {
   "cell_type": "code",
   "execution_count": 9,
   "id": "7ee97054",
   "metadata": {},
   "outputs": [
    {
     "name": "stdout",
     "output_type": "stream",
     "text": [
      "1 {'c': 3, 'b': 2}\n"
     ]
    },
    {
     "data": {
      "text/plain": [
       "\"Explanation: The function func() is defined with a parameter a and **kargs (a variable-length keyword argument dictionary). When func(a=1, c=3, b=2) is called, the keyword arguments c=3 and b=2 are packed into the kargs dictionary. Therefore, when print(a, kargs) is executed, it prints 1 {'c': 3, 'b': 2}.\""
      ]
     },
     "execution_count": 9,
     "metadata": {},
     "output_type": "execute_result"
    }
   ],
   "source": [
    "def func(a, **kargs): \n",
    "    print(a, kargs) \n",
    "func(a=1, c=3, b=2)\n",
    "\"\"\"Explanation: The function func() is defined with a parameter a and **kargs (a variable-length keyword argument dictionary). When func(a=1, c=3, b=2) is called, the keyword arguments c=3 and b=2 are packed into the kargs dictionary. Therefore, when print(a, kargs) is executed, it prints 1 {'c': 3, 'b': 2}.\"\"\""
   ]
  },
  {
   "cell_type": "markdown",
   "id": "ed3bfbbd",
   "metadata": {},
   "source": [
    "#### 5. What gets printed by this, and explain?\n",
    "&gt;&gt;&gt; def func(a, b, c=8, d=5): print(a, b, c, d)\n",
    "&gt;&gt;&gt; func(1, *(5, 6))\n"
   ]
  },
  {
   "cell_type": "code",
   "execution_count": 10,
   "id": "3105f7a1",
   "metadata": {},
   "outputs": [
    {
     "name": "stdout",
     "output_type": "stream",
     "text": [
      "1 5 6 5\n"
     ]
    },
    {
     "data": {
      "text/plain": [
       "'Explanation: The function func() is defined with three parameters (a, b, and c). When func(1, *(5, 6)) is called, the value of 1 is assigned to a, and the tuple (5, 6) is unpacked and assigned to b and c. Therefore, when print(a, b, c, d) is executed, it prints 1 5 6 8 (since d is not provided, it takes its default value).'"
      ]
     },
     "execution_count": 10,
     "metadata": {},
     "output_type": "execute_result"
    }
   ],
   "source": [
    "def func(a, b, c=8, d=5): \n",
    "    print(a, b, c, d) \n",
    "func(1, *(5, 6))\n",
    "\"\"\"Explanation: The function func() is defined with three parameters (a, b, and c). When func(1, *(5, 6)) is called, the value of 1 is assigned to a, and the tuple (5, 6) is unpacked and assigned to b and c. Therefore, when print(a, b, c, d) is executed, it prints 1 5 6 8 (since d is not provided, it takes its default value).\"\"\""
   ]
  },
  {
   "cell_type": "markdown",
   "id": "4aba5aa1",
   "metadata": {},
   "source": [
    "#### 6. what is the result of this, and explain?\n",
    "&gt;&gt;&gt; def func(a, b, c): a = 2; b[0] = &#39;x&#39;; c[&#39;a&#39;] = &#39;y&#39;\n",
    "&gt;&gt;&gt; l=1; m=[1]; n={&#39;a&#39;:0}\n",
    "&gt;&gt;&gt; func(l, m, n)\n",
    "\n",
    "&gt;&gt;&gt; l, m, n"
   ]
  },
  {
   "cell_type": "code",
   "execution_count": 15,
   "id": "c8910cb8",
   "metadata": {},
   "outputs": [
    {
     "data": {
      "text/plain": [
       "\"The function func() is defined with three parameters (a, b, and c).When func(l, m, n) is called, the value of l (which is 1) is assigned to a.Inside the function, a is reassigned the value 2, but it doesn't affect the value of l outside the function.\\nThe element at index 0 of the list m (which is [1]) is changed to 'x' using b[0] = 'x'. This modification affects the list m outside the function as well.The value associated with the key 'a' in the dictionary n (which is 0) is changed to 'y' using c['a'] = 'y'. This modification also affects the dictionary n outside the function.\""
      ]
     },
     "execution_count": 15,
     "metadata": {},
     "output_type": "execute_result"
    }
   ],
   "source": [
    "def func(a, b, c):\n",
    "    a = 2\n",
    "    b[0] = 'x' \n",
    "    c['a'] = 'y' \n",
    "l=1 \n",
    "m=[1]\n",
    "n={'a':0}\n",
    "func(l, m, n)\n",
    "l,m,n\n",
    "\"\"\"The function func() is defined with three parameters (a, b, and c).When func(l, m, n) is called, the value of l (which is 1) is assigned to a.Inside the function, a is reassigned the value 2, but it doesn't affect the value of l outside the function.\n",
    "The element at index 0 of the list m (which is [1]) is changed to 'x' using b[0] = 'x'. This modification affects the list m outside the function as well.The value associated with the key 'a' in the dictionary n (which is 0) is changed to 'y' using c['a'] = 'y'. This modification also affects the dictionary n outside the function.\"\"\""
   ]
  },
  {
   "cell_type": "code",
   "execution_count": null,
   "id": "d1385ff8",
   "metadata": {},
   "outputs": [],
   "source": []
  }
 ],
 "metadata": {
  "kernelspec": {
   "display_name": "Python 3 (ipykernel)",
   "language": "python",
   "name": "python3"
  },
  "language_info": {
   "codemirror_mode": {
    "name": "ipython",
    "version": 3
   },
   "file_extension": ".py",
   "mimetype": "text/x-python",
   "name": "python",
   "nbconvert_exporter": "python",
   "pygments_lexer": "ipython3",
   "version": "3.9.13"
  }
 },
 "nbformat": 4,
 "nbformat_minor": 5
}
