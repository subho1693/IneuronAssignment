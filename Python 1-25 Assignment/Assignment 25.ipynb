{
 "cells": [
  {
   "cell_type": "markdown",
   "id": "416e6bed",
   "metadata": {},
   "source": [
    "#### 1) . What is the difference between enclosing a list comprehension in square brackets and parentheses?"
   ]
  },
  {
   "cell_type": "code",
   "execution_count": 1,
   "id": "a09016a6",
   "metadata": {},
   "outputs": [
    {
     "data": {
      "text/plain": [
       "'my_generator will be a generator object. Generators are lazy evaluated and produce values on-demand, which can be beneficial in terms of memory efficiency and performance'"
      ]
     },
     "execution_count": 1,
     "metadata": {},
     "output_type": "execute_result"
    }
   ],
   "source": [
    "\"\"\"Ans:-The difference between enclosing a list comprehension in square brackets and parentheses lies in the resulting object that is created.\"\"\"\n",
    "    \n",
    "my_list = [x for x in range(5)]\n",
    "\"\"\"my_list will be [0, 1, 2, 3, 4], which is a list.\n",
    "when you enclose a list comprehension in parentheses, it creates a generator object.\"\"\"\n",
    "my_generator = (x for x in range(5))\n",
    "\"\"\"my_generator will be a generator object. Generators are lazy evaluated and produce values on-demand, which can be beneficial in terms of memory efficiency and performance\"\"\""
   ]
  },
  {
   "cell_type": "markdown",
   "id": "2c86a0b4",
   "metadata": {},
   "source": [
    "#### 2) What is the relationship between generators and iterators?"
   ]
  },
  {
   "cell_type": "markdown",
   "id": "8cd32980",
   "metadata": {},
   "source": [
    "Ans:-An iterator is an object that implements the iterator protocol, which consists of the __iter__() and __next__() methods. Iterators allow you to iterate over a sequence of elements, fetching one element at a time, and moving forward until the sequence is exhausted.Generators, on the other hand, are a convenient way to create iterators. They are defined using a special syntax with the yield keyword. Generator functions return a generator object when called, and the generator object can be iterated over using a for loop or by explicitly calling the next() function."
   ]
  },
  {
   "cell_type": "markdown",
   "id": "1275aa62",
   "metadata": {},
   "source": [
    "#### 3) What are the signs that a function is a generator function?"
   ]
  },
  {
   "cell_type": "markdown",
   "id": "29990149",
   "metadata": {},
   "source": [
    "Ans:-There are a few signs that indicate a function is a generator function:\n",
    "* The function definition includes the yield keyword.\n",
    "* The function uses the yield statement to produce a sequence of values during iteration.\n",
    "* When the function is called, it returns a generator object instead of executing the function's code immediately."
   ]
  },
  {
   "cell_type": "markdown",
   "id": "c3233dd5",
   "metadata": {},
   "source": [
    "#### 4) What is the purpose of a yield statement?"
   ]
  },
  {
   "cell_type": "markdown",
   "id": "33852fd0",
   "metadata": {},
   "source": [
    "Ans:-The purpose of the yield statement in Python is to create a generator function."
   ]
  },
  {
   "cell_type": "markdown",
   "id": "9163425e",
   "metadata": {},
   "source": [
    "#### 5) What is the relationship between map calls and list comprehensions? Make a comparison and contrast between the two."
   ]
  },
  {
   "cell_type": "markdown",
   "id": "74f66ecb",
   "metadata": {},
   "source": [
    "Ans:-Map:\n",
    "\n",
    "* Map is a built-in function in Python that takes two arguments: a function and an iterable.\n",
    "* The function passed to map() is applied to each element of the iterable, and it returns an iterator that yields the results.\n",
    "* The resulting values are generated on-demand as the iterator is iterated over.\n",
    "* map() can be more memory-efficient than a list comprehension when dealing with large datasets, as it generates values one at a time.\n",
    "List Comprehensions:\n",
    "\n",
    "* List comprehensions are a concise way to create lists based on existing sequences or iterables.\n",
    "* They consist of an expression followed by a for clause (and optionally, additional for or `"
   ]
  },
  {
   "cell_type": "code",
   "execution_count": null,
   "id": "3a5f8e27",
   "metadata": {},
   "outputs": [],
   "source": []
  }
 ],
 "metadata": {
  "kernelspec": {
   "display_name": "Python 3 (ipykernel)",
   "language": "python",
   "name": "python3"
  },
  "language_info": {
   "codemirror_mode": {
    "name": "ipython",
    "version": 3
   },
   "file_extension": ".py",
   "mimetype": "text/x-python",
   "name": "python",
   "nbconvert_exporter": "python",
   "pygments_lexer": "ipython3",
   "version": "3.10.9"
  }
 },
 "nbformat": 4,
 "nbformat_minor": 5
}
