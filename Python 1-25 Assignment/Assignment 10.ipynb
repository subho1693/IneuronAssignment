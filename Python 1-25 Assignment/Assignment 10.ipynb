{
 "cells": [
  {
   "cell_type": "markdown",
   "id": "20aff35f",
   "metadata": {},
   "source": [
    "#### 1. How do you distinguish between shutil.copy() and shutil.copytree()?\n"
   ]
  },
  {
   "cell_type": "markdown",
   "id": "65e8bee9",
   "metadata": {},
   "source": [
    "Ans:-shutil.copy() function copies a single file from source to destination. On the other hand, shutil.copytree() function copies an entire directory tree (including all the files and subdirectories) from source to destination."
   ]
  },
  {
   "cell_type": "markdown",
   "id": "ce5ac9af",
   "metadata": {},
   "source": [
    "#### 2. What function is used to rename files??\n"
   ]
  },
  {
   "cell_type": "markdown",
   "id": "61bbacc0",
   "metadata": {},
   "source": [
    "Ans:-os.rename() function is used to rename files."
   ]
  },
  {
   "cell_type": "markdown",
   "id": "406d405e",
   "metadata": {},
   "source": [
    "#### 3. What is the difference between the delete functions in the send2trash and shutil modules?\n"
   ]
  },
  {
   "cell_type": "markdown",
   "id": "dbd21141",
   "metadata": {},
   "source": [
    "Ans;-The delete functions in the send2trash and shutil modules differ in the way they delete files. The send2trash module sends the files to the recycle bin, while shutil module permanently deletes the files."
   ]
  },
  {
   "cell_type": "markdown",
   "id": "fb6b2395",
   "metadata": {},
   "source": [
    "#### 4.ZipFile objects have a close() method just like File objects’ close() method. What ZipFile method is equivalent to File objects’ open() method?\n"
   ]
  },
  {
   "cell_type": "markdown",
   "id": "e37e17a6",
   "metadata": {},
   "source": [
    "Ans:-ZipFile objects’ equivalent method to File objects’ open() method is the ZipFile() constructor. It opens a ZIP file and returns a ZipFile object."
   ]
  },
  {
   "cell_type": "markdown",
   "id": "5aa53212",
   "metadata": {},
   "source": [
    "#### 5. Create a programme that searches a folder tree for files with a certain file extension (such as .pdf or .jpg). Copy these files from whatever location they are in to a new folder."
   ]
  },
  {
   "cell_type": "code",
   "execution_count": 1,
   "id": "9e084546",
   "metadata": {},
   "outputs": [],
   "source": [
    "import os\n",
    "import shutil\n",
    "\n",
    "source_dir = 'source'\n",
    "destination_dir = 'data'\n",
    "extension = '.txt'\n",
    "\n",
    "# Create destination directory if it does not exist\n",
    "if not os.path.exists(destination_dir):\n",
    "    os.makedirs(destination_dir)\n",
    "\n",
    "# Walk through the directory tree and copy files with the desired extension\n",
    "for root, dirs, files in os.walk(source_dir):\n",
    "    for file in files:\n",
    "        if file.endswith(extension):\n",
    "            source_file = os.path.join(root, file)\n",
    "            destination_file = os.path.join(destination_dir, file)\n",
    "            shutil.copy(source_file, destination_file)\n"
   ]
  },
  {
   "cell_type": "code",
   "execution_count": null,
   "id": "b52ac04e",
   "metadata": {},
   "outputs": [],
   "source": []
  },
  {
   "cell_type": "code",
   "execution_count": null,
   "id": "4db88137",
   "metadata": {},
   "outputs": [],
   "source": []
  }
 ],
 "metadata": {
  "kernelspec": {
   "display_name": "Python 3 (ipykernel)",
   "language": "python",
   "name": "python3"
  },
  "language_info": {
   "codemirror_mode": {
    "name": "ipython",
    "version": 3
   },
   "file_extension": ".py",
   "mimetype": "text/x-python",
   "name": "python",
   "nbconvert_exporter": "python",
   "pygments_lexer": "ipython3",
   "version": "3.9.13"
  }
 },
 "nbformat": 4,
 "nbformat_minor": 5
}
