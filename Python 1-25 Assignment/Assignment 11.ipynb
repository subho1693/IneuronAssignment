{
 "cells": [
  {
   "cell_type": "markdown",
   "id": "4eecc057",
   "metadata": {},
   "source": [
    "#### 1. Create an assert statement that throws an AssertionError if the variable spam is a negative integer.\n"
   ]
  },
  {
   "cell_type": "code",
   "execution_count": 2,
   "id": "31805b8a",
   "metadata": {},
   "outputs": [
    {
     "ename": "AssertionError",
     "evalue": "Error: spam must not be negative",
     "output_type": "error",
     "traceback": [
      "\u001b[1;31m---------------------------------------------------------------------------\u001b[0m",
      "\u001b[1;31mAssertionError\u001b[0m                            Traceback (most recent call last)",
      "\u001b[1;32m~\\AppData\\Local\\Temp\\ipykernel_5948\\4198763679.py\u001b[0m in \u001b[0;36m<module>\u001b[1;34m\u001b[0m\n\u001b[0;32m      1\u001b[0m \u001b[0mspam\u001b[0m \u001b[1;33m=\u001b[0m \u001b[1;33m-\u001b[0m\u001b[1;36m10\u001b[0m\u001b[1;33m\u001b[0m\u001b[1;33m\u001b[0m\u001b[0m\n\u001b[1;32m----> 2\u001b[1;33m \u001b[1;32massert\u001b[0m \u001b[0mspam\u001b[0m \u001b[1;33m>=\u001b[0m \u001b[1;36m0\u001b[0m\u001b[1;33m,\u001b[0m \u001b[1;34m'Error: spam must not be negative'\u001b[0m\u001b[1;33m\u001b[0m\u001b[1;33m\u001b[0m\u001b[0m\n\u001b[0m",
      "\u001b[1;31mAssertionError\u001b[0m: Error: spam must not be negative"
     ]
    }
   ],
   "source": [
    "spam = -10\n",
    "assert spam >= 0, 'Error: spam must not be negative' "
   ]
  },
  {
   "cell_type": "markdown",
   "id": "ff310fe8",
   "metadata": {},
   "source": [
    "#### 2. Write an assert statement that triggers an AssertionError if the variables eggs and bacon contain strings that are the same as each other, even if their cases are different (that is, &#39;hello&#39; and &#39;hello&#39; are considered the same, and &#39;goodbye&#39; and &#39;GOODbye&#39; are also considered the same).\n"
   ]
  },
  {
   "cell_type": "code",
   "execution_count": 5,
   "id": "01425d69",
   "metadata": {},
   "outputs": [
    {
     "ename": "AssertionError",
     "evalue": "eggs and bacon should not have the same value",
     "output_type": "error",
     "traceback": [
      "\u001b[1;31m---------------------------------------------------------------------------\u001b[0m",
      "\u001b[1;31mAssertionError\u001b[0m                            Traceback (most recent call last)",
      "\u001b[1;32m~\\AppData\\Local\\Temp\\ipykernel_5948\\487537964.py\u001b[0m in \u001b[0;36m<module>\u001b[1;34m\u001b[0m\n\u001b[0;32m      1\u001b[0m \u001b[0meggs\u001b[0m \u001b[1;33m=\u001b[0m \u001b[1;34m'Egg'\u001b[0m\u001b[1;33m\u001b[0m\u001b[1;33m\u001b[0m\u001b[0m\n\u001b[0;32m      2\u001b[0m \u001b[0mbacon\u001b[0m \u001b[1;33m=\u001b[0m \u001b[1;34m'Egg'\u001b[0m\u001b[1;33m\u001b[0m\u001b[1;33m\u001b[0m\u001b[0m\n\u001b[1;32m----> 3\u001b[1;33m \u001b[1;32massert\u001b[0m \u001b[0meggs\u001b[0m\u001b[1;33m.\u001b[0m\u001b[0mlower\u001b[0m\u001b[1;33m(\u001b[0m\u001b[1;33m)\u001b[0m \u001b[1;33m!=\u001b[0m \u001b[0mbacon\u001b[0m\u001b[1;33m.\u001b[0m\u001b[0mlower\u001b[0m\u001b[1;33m(\u001b[0m\u001b[1;33m)\u001b[0m\u001b[1;33m,\u001b[0m \u001b[1;34m\"eggs and bacon should not have the same value\"\u001b[0m\u001b[1;33m\u001b[0m\u001b[1;33m\u001b[0m\u001b[0m\n\u001b[0m",
      "\u001b[1;31mAssertionError\u001b[0m: eggs and bacon should not have the same value"
     ]
    }
   ],
   "source": [
    "eggs = 'Egg'\n",
    "bacon = 'Egg'\n",
    "assert eggs.lower() != bacon.lower(), \"eggs and bacon should not have the same value\""
   ]
  },
  {
   "cell_type": "markdown",
   "id": "632366bf",
   "metadata": {},
   "source": [
    "#### 3. Create an assert statement that throws an AssertionError every time.\n"
   ]
  },
  {
   "cell_type": "code",
   "execution_count": 6,
   "id": "4aa32f9d",
   "metadata": {},
   "outputs": [
    {
     "ename": "AssertionError",
     "evalue": "This assertion always throws an AssertionError",
     "output_type": "error",
     "traceback": [
      "\u001b[1;31m---------------------------------------------------------------------------\u001b[0m",
      "\u001b[1;31mAssertionError\u001b[0m                            Traceback (most recent call last)",
      "\u001b[1;32m~\\AppData\\Local\\Temp\\ipykernel_5948\\1955511097.py\u001b[0m in \u001b[0;36m<module>\u001b[1;34m\u001b[0m\n\u001b[1;32m----> 1\u001b[1;33m \u001b[1;32massert\u001b[0m \u001b[1;32mFalse\u001b[0m\u001b[1;33m,\u001b[0m \u001b[1;34m'This assertion always throws an AssertionError'\u001b[0m\u001b[1;33m\u001b[0m\u001b[1;33m\u001b[0m\u001b[0m\n\u001b[0m",
      "\u001b[1;31mAssertionError\u001b[0m: This assertion always throws an AssertionError"
     ]
    }
   ],
   "source": [
    "assert False, 'This assertion always throws an AssertionError'"
   ]
  },
  {
   "cell_type": "markdown",
   "id": "dc3d6415",
   "metadata": {},
   "source": [
    "#### 4. What are the two lines that must be present in your software in order to call logging.debug()?\n"
   ]
  },
  {
   "cell_type": "code",
   "execution_count": 7,
   "id": "c012bc27",
   "metadata": {},
   "outputs": [],
   "source": [
    "import logging\n",
    "logging.basicConfig(level=logging.DEBUG, format=' %(asctime)s - %(levelname)s - %(message)s')\n"
   ]
  },
  {
   "cell_type": "markdown",
   "id": "4d9da6d5",
   "metadata": {},
   "source": [
    "#### 5. What are the two lines that your program must have in order to have logging.debug() send a logging message to a file named programLog.txt?\n"
   ]
  },
  {
   "cell_type": "code",
   "execution_count": 8,
   "id": "763cd11a",
   "metadata": {},
   "outputs": [],
   "source": [
    "import logging\n",
    "logging.basicConfig(filename='programLog.txt', level=logging.DEBUG, format='%(asctime)s - %(levelname)s - %(message)s')\n"
   ]
  },
  {
   "cell_type": "markdown",
   "id": "45d55f61",
   "metadata": {},
   "source": [
    "#### 6. What are the five levels of logging?\n"
   ]
  },
  {
   "cell_type": "markdown",
   "id": "f97fda66",
   "metadata": {},
   "source": [
    "Ans:- The five levels of logging, in increasing order of severity, are:\n",
    "\n",
    "* `DEBUG`: Detailed information, typically of interest only when diagnosing problems.\n",
    "* `INFO`: Confirmation that things are working as expected.\n",
    "* `WARNING`: An indication that something unexpected happened or indicative of some problem in the near future (e.g., ‘disk space low’). The software is still working as expected.\n",
    "* `ERROR`: Due to a more serious problem, the software has not been able to perform some function.\n",
    "* `CRITICA`L: A very serious error, indicating that the program itself may be unable to continue running."
   ]
  },
  {
   "cell_type": "markdown",
   "id": "59df276c",
   "metadata": {},
   "source": [
    "#### 7. What line of code would you add to your software to disable all logging messages?\n"
   ]
  },
  {
   "cell_type": "markdown",
   "id": "a924064e",
   "metadata": {},
   "source": [
    "Ans:-logging.disable(logging.CRITICAL)"
   ]
  },
  {
   "cell_type": "markdown",
   "id": "793e3726",
   "metadata": {},
   "source": [
    "#### 8.Why is using logging messages better than using print() to display the same message?\n"
   ]
  },
  {
   "cell_type": "markdown",
   "id": "e1ae48c1",
   "metadata": {},
   "source": [
    "Ans:-Using logging messages is better than using print() for displaying messages in software development for several reasons:\n",
    "\n",
    "* Flexibility: With logging, you can configure different levels of verbosity and handle them differently. This means you can have detailed logs during development, but only show important ones in production.\n",
    "\n",
    "* Granularity: The logging module provides more granular control over which parts of the code generate log messages, and where they are sent to (e.g., a file, console, or external service).\n",
    "\n",
    "* Severity levels: The logging module includes different severity levels such as DEBUG, INFO, WARNING, ERROR, and CRITICAL. These levels help to categorize messages based on their importance and help to quickly identify and troubleshoot problems.\n",
    "\n",
    "* Performance: Printing to the console can slow down the program's execution, especially if there are many print statements. In contrast, the logging module is optimized for performance and can be configured to write to files, which is less resource-intensive.\n",
    "\n",
    "* Maintenance: Using logging makes it easier to maintain and debug the codebase because logging messages can be enabled or disabled as needed, and the logs themselves can provide valuable information about the program's behavior during development and in production."
   ]
  },
  {
   "cell_type": "markdown",
   "id": "b292cea6",
   "metadata": {},
   "source": [
    "#### 9. What are the differences between the Step Over, Step In, and Step Out buttons in the debugger?\n"
   ]
  },
  {
   "cell_type": "markdown",
   "id": "0c05a8fc",
   "metadata": {},
   "source": [
    "Ans:- The Step Over, Step In, and Step Out buttons in the debugger are used for executing code line by line for debugging purposes. Here are the differences between them:\n",
    "\n",
    "* Step Over: It executes the current line of code and moves to the next line. If the current line contains a function call, it will execute the entire function before moving to the next line. It's useful for quickly moving through a section of code without stepping into every function.\n",
    "\n",
    "* Step In: It executes the current line of code and enters any function called on that line, pausing at the first line of the called function. It's useful for stepping into a function to understand how it works.\n",
    "\n",
    "* Step Out: It executes the lines of the current function until it returns and moves to the line of code that called the function, pausing there. It's useful for quickly returning from a function call to continue debugging the calling code.\n"
   ]
  },
  {
   "cell_type": "markdown",
   "id": "a26104a1",
   "metadata": {},
   "source": [
    "#### 10.After you click Continue, when will the debugger stop ?\n"
   ]
  },
  {
   "cell_type": "markdown",
   "id": "4d81c4b0",
   "metadata": {},
   "source": [
    "Ans:-After you click the \"Continue\" button, the debugger will stop when it reaches the next breakpoint or when the program finishes executing. If there are no more breakpoints and the program completes successfully, the debugger will simply stop and return control to the user."
   ]
  },
  {
   "cell_type": "markdown",
   "id": "00fe8b03",
   "metadata": {},
   "source": [
    "#### 11. What is the concept of a breakpoint?"
   ]
  },
  {
   "cell_type": "markdown",
   "id": "8f97be2b",
   "metadata": {},
   "source": [
    "Ans:-A breakpoint is a debugging feature that allows a developer to pause the execution of a program at a specific point during runtime. When a breakpoint is set at a particular line of code, the program execution will stop at that line, allowing the developer to inspect the state of the program and variables at that point. Breakpoints are useful for debugging complex programs or code that is difficult to trace. By setting breakpoints, developers can step through their code line-by-line and identify errors or unexpected behavior more easily. Once the issue is identified, developers can then modify the code and continue execution, making the debugging process more efficient and effective."
   ]
  },
  {
   "cell_type": "code",
   "execution_count": null,
   "id": "7c3d06ab",
   "metadata": {},
   "outputs": [],
   "source": []
  }
 ],
 "metadata": {
  "kernelspec": {
   "display_name": "Python 3 (ipykernel)",
   "language": "python",
   "name": "python3"
  },
  "language_info": {
   "codemirror_mode": {
    "name": "ipython",
    "version": 3
   },
   "file_extension": ".py",
   "mimetype": "text/x-python",
   "name": "python",
   "nbconvert_exporter": "python",
   "pygments_lexer": "ipython3",
   "version": "3.9.13"
  }
 },
 "nbformat": 4,
 "nbformat_minor": 5
}
