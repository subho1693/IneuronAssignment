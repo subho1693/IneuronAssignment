{
 "cells": [
  {
   "cell_type": "markdown",
   "id": "c2f5c186",
   "metadata": {},
   "source": [
    "# Assignment 6"
   ]
  },
  {
   "cell_type": "markdown",
   "id": "124ce003",
   "metadata": {},
   "source": [
    "#### 1. What are escape characters, and how do you use them?"
   ]
  },
  {
   "cell_type": "markdown",
   "id": "409b51b0",
   "metadata": {},
   "source": [
    "Ans:-Escape characters are special characters that are used to represent certain characters that cannot be easily typed or printed directly. They are typically represented as a backslash followed by a character, and they are used to specify things like line breaks, tabs, and quotation marks within a string."
   ]
  },
  {
   "cell_type": "markdown",
   "id": "365c3b6d",
   "metadata": {},
   "source": [
    "#### 2. What do the escape characters n and t stand for?"
   ]
  },
  {
   "cell_type": "markdown",
   "id": "5e3edfc7",
   "metadata": {},
   "source": [
    "Ans:-\n",
    "* To represent a new line, you can use the escape character \"\\n\".\n",
    "* To represent a tab, you can use the escape character \"\\t\"."
   ]
  },
  {
   "cell_type": "markdown",
   "id": "57ad4354",
   "metadata": {},
   "source": [
    "#### 3. What is the way to include backslash characters in a string?"
   ]
  },
  {
   "cell_type": "raw",
   "id": "ada1870c",
   "metadata": {},
   "source": [
    "Ans:-To include a backslash character in a string, we can use the backslash itself as an escape character. This means that we need to use two backslashes in a row, like this: \"\"\\\"\". The first backslash is the escape character, and the second backslash is the actual backslash that we want to include in the string."
   ]
  },
  {
   "cell_type": "markdown",
   "id": "022ba67f",
   "metadata": {},
   "source": [
    "#### 4. The string &quot;Howl&#39;s Moving Castle&quot; is a correct value. Why isn&#39;t the single quote character in the word Howl`s not escaped a problem?"
   ]
  },
  {
   "cell_type": "markdown",
   "id": "646c7522",
   "metadata": {},
   "source": [
    "Ans:-We can use either single quotes or double quotes to create a string, as long as the opening and closing quotes match.This means that if we want to include a single quote character within a string that is enclosed in double quotes, you don't need to escape it. Similarly, if we want to include a double quote character within a string that is enclosed in single quotes, you don't need to escape it."
   ]
  },
  {
   "cell_type": "markdown",
   "id": "2cc692ff",
   "metadata": {},
   "source": [
    "#### 5. How do you write a string of newlines if you don&#39;t want to use the n character?"
   ]
  },
  {
   "cell_type": "markdown",
   "id": "25a3ef0e",
   "metadata": {},
   "source": [
    "Ans:-If we don't want to use the \"\\n\" escape character to represent newlines in a string, you can use multiline string literals, which allow us to include line breaks directly in the string."
   ]
  },
  {
   "cell_type": "markdown",
   "id": "0c567abf",
   "metadata": {},
   "source": [
    "#### 6. What are the values of the given expressions?\n",
    "* &#39;Hello, world!&#39;[1]\n",
    "* &#39;Hello, world!&#39;[0:5]\n",
    "* &#39;Hello, world!&#39;[:5]\n",
    "* &#39;Hello, world!&#39;[3:]"
   ]
  },
  {
   "cell_type": "code",
   "execution_count": 3,
   "id": "4189e3d6",
   "metadata": {},
   "outputs": [
    {
     "data": {
      "text/plain": [
       "'e'"
      ]
     },
     "execution_count": 3,
     "metadata": {},
     "output_type": "execute_result"
    }
   ],
   "source": [
    "'Hello, world!'[1]"
   ]
  },
  {
   "cell_type": "code",
   "execution_count": 4,
   "id": "abf63a97",
   "metadata": {},
   "outputs": [
    {
     "data": {
      "text/plain": [
       "'Hello'"
      ]
     },
     "execution_count": 4,
     "metadata": {},
     "output_type": "execute_result"
    }
   ],
   "source": [
    " 'Hello, world!'[0:5] "
   ]
  },
  {
   "cell_type": "code",
   "execution_count": 5,
   "id": "319e248e",
   "metadata": {},
   "outputs": [
    {
     "data": {
      "text/plain": [
       "'Hello'"
      ]
     },
     "execution_count": 5,
     "metadata": {},
     "output_type": "execute_result"
    }
   ],
   "source": [
    " 'Hello, world!'[0:5] "
   ]
  },
  {
   "cell_type": "code",
   "execution_count": 6,
   "id": "f24526f8",
   "metadata": {},
   "outputs": [
    {
     "data": {
      "text/plain": [
       "'lo, world!'"
      ]
     },
     "execution_count": 6,
     "metadata": {},
     "output_type": "execute_result"
    }
   ],
   "source": [
    "'Hello, world!'[3:]"
   ]
  },
  {
   "cell_type": "markdown",
   "id": "63fe434d",
   "metadata": {},
   "source": [
    "#### 7. What are the values of the following expressions?\n",
    "* &#39;Hello&#39;.upper()\n",
    "* &#39;Hello&#39;.upper().isupper()\n",
    "* &#39;Hello&#39;.upper().lower()"
   ]
  },
  {
   "cell_type": "code",
   "execution_count": 7,
   "id": "10cfb9c8",
   "metadata": {},
   "outputs": [
    {
     "data": {
      "text/plain": [
       "'HELLO'"
      ]
     },
     "execution_count": 7,
     "metadata": {},
     "output_type": "execute_result"
    }
   ],
   "source": [
    "'Hello'.upper()"
   ]
  },
  {
   "cell_type": "code",
   "execution_count": 8,
   "id": "0013efa3",
   "metadata": {},
   "outputs": [
    {
     "data": {
      "text/plain": [
       "True"
      ]
     },
     "execution_count": 8,
     "metadata": {},
     "output_type": "execute_result"
    }
   ],
   "source": [
    "'Hello'.upper().isupper()"
   ]
  },
  {
   "cell_type": "code",
   "execution_count": 9,
   "id": "ed071ab3",
   "metadata": {},
   "outputs": [
    {
     "data": {
      "text/plain": [
       "True"
      ]
     },
     "execution_count": 9,
     "metadata": {},
     "output_type": "execute_result"
    }
   ],
   "source": [
    "'Hello'.upper().isupper()"
   ]
  },
  {
   "cell_type": "markdown",
   "id": "b8c43e7f",
   "metadata": {},
   "source": [
    "#### 8. What are the values of the following expressions?\n",
    "* &#39;Remember, remember, the fifth of July.&#39;.split()\n",
    "* &#39;-&#39;.join(&#39;There can only one.&#39;.split())"
   ]
  },
  {
   "cell_type": "code",
   "execution_count": 10,
   "id": "8b4a3553",
   "metadata": {},
   "outputs": [
    {
     "data": {
      "text/plain": [
       "['Remember,', 'remember,', 'the', 'fifth', 'of', 'July.']"
      ]
     },
     "execution_count": 10,
     "metadata": {},
     "output_type": "execute_result"
    }
   ],
   "source": [
    "'Remember, remember, the fifth of July.'.split()"
   ]
  },
  {
   "cell_type": "code",
   "execution_count": 11,
   "id": "12774a55",
   "metadata": {},
   "outputs": [
    {
     "data": {
      "text/plain": [
       "'There-can-only-one.'"
      ]
     },
     "execution_count": 11,
     "metadata": {},
     "output_type": "execute_result"
    }
   ],
   "source": [
    "'-'.join('There can only one.'.split())"
   ]
  },
  {
   "cell_type": "markdown",
   "id": "b1109c15",
   "metadata": {},
   "source": [
    "#### 9. What are the methods for right-justifying, left-justifying, and centering a string?"
   ]
  },
  {
   "cell_type": "markdown",
   "id": "609d8dd4",
   "metadata": {},
   "source": [
    "Ans:-\n",
    "* `ljust()`: This method left-justifies a string within a specified width by adding whitespace to the right of the string. It takes one argument, which is the width of the resulting string. \n",
    "* `rjust()`: This method right-justifies a string within a specified width by adding whitespace to the left of the string. It also takes one argument, which is the width of the resulting string\n",
    "* `center()`: This method centers a string within a specified width by adding whitespace on both sides of the string. It also takes one argument, which is the width of the resulting string. "
   ]
  },
  {
   "cell_type": "markdown",
   "id": "46f519ed",
   "metadata": {},
   "source": [
    "#### 10. What is the best way to remove whitespace characters from the start or end?"
   ]
  },
  {
   "cell_type": "markdown",
   "id": "1133c720",
   "metadata": {},
   "source": [
    "Ans: The lstrip() and rstrip() methods remove whitesapce characters from the left and right ends of a string respectively"
   ]
  },
  {
   "cell_type": "code",
   "execution_count": null,
   "id": "e581a014",
   "metadata": {},
   "outputs": [],
   "source": []
  }
 ],
 "metadata": {
  "kernelspec": {
   "display_name": "Python 3 (ipykernel)",
   "language": "python",
   "name": "python3"
  },
  "language_info": {
   "codemirror_mode": {
    "name": "ipython",
    "version": 3
   },
   "file_extension": ".py",
   "mimetype": "text/x-python",
   "name": "python",
   "nbconvert_exporter": "python",
   "pygments_lexer": "ipython3",
   "version": "3.9.13"
  }
 },
 "nbformat": 4,
 "nbformat_minor": 5
}
