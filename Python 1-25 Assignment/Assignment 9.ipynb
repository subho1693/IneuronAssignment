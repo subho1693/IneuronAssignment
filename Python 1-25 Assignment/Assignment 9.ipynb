{
 "cells": [
  {
   "cell_type": "markdown",
   "id": "6c0fc05a",
   "metadata": {},
   "source": [
    "#### 1. To what does a relative path refer?\n"
   ]
  },
  {
   "cell_type": "markdown",
   "id": "59231798",
   "metadata": {},
   "source": [
    "Ans:-A relative path refers to the location of a file or directory relative to the current working directory of the program."
   ]
  },
  {
   "cell_type": "markdown",
   "id": "04f33329",
   "metadata": {},
   "source": [
    "#### 2. What does an absolute path start with your operating system?\n"
   ]
  },
  {
   "cell_type": "markdown",
   "id": "44a4c6ea",
   "metadata": {},
   "source": [
    "Ans:An absolute path starts with the root directory of the operating system. For example, on Windows, an absolute path might start with \"C:\"."
   ]
  },
  {
   "cell_type": "markdown",
   "id": "2ad36dba",
   "metadata": {},
   "source": [
    "#### 3. What do the functions os.getcwd() and os.chdir() do?\n"
   ]
  },
  {
   "cell_type": "markdown",
   "id": "b0b72798",
   "metadata": {},
   "source": [
    "Ans:-The `os.getcwd()` function returns the current working directory of the program, while `os.chdir()` changes the current working directory to a specified path."
   ]
  },
  {
   "cell_type": "markdown",
   "id": "34cc6055",
   "metadata": {},
   "source": [
    "#### 4. What are the . and .. folders?\n"
   ]
  },
  {
   "cell_type": "markdown",
   "id": "6c62207f",
   "metadata": {},
   "source": [
    "Ans:-The \".\" folder refers to the current directory, while \"..\" refers to the parent directory."
   ]
  },
  {
   "cell_type": "markdown",
   "id": "8028e294",
   "metadata": {},
   "source": [
    "#### 5. In C:\\bacon\\eggs\\spam.txt, which part is the dir name, and which part is the base name?\n"
   ]
  },
  {
   "cell_type": "markdown",
   "id": "0683f337",
   "metadata": {},
   "source": [
    "Ans:-\"C:\\bacon\\eggs\" is the directory name, and \"spam.txt\" is the base name."
   ]
  },
  {
   "cell_type": "markdown",
   "id": "689b3978",
   "metadata": {},
   "source": [
    "#### 6. What are the three “mode” arguments that can be passed to the open() function?\n"
   ]
  },
  {
   "cell_type": "markdown",
   "id": "79cb6049",
   "metadata": {},
   "source": [
    "The three \"mode\" arguments are \"r\" for reading, \"w\" for writing, and \"a\" for appending."
   ]
  },
  {
   "cell_type": "markdown",
   "id": "32690f4d",
   "metadata": {},
   "source": [
    "#### 7. What happens if an existing file is opened in write mode?\n"
   ]
  },
  {
   "cell_type": "markdown",
   "id": "0e307945",
   "metadata": {},
   "source": [
    "If an existing file is opened in write mode, the previous content of the file is deleted, and the file is overwritten with the new content."
   ]
  },
  {
   "cell_type": "markdown",
   "id": "a9f92377",
   "metadata": {},
   "source": [
    "#### 8. How do you tell the difference between read() and readlines()?\n"
   ]
  },
  {
   "cell_type": "markdown",
   "id": "08c06c3b",
   "metadata": {},
   "source": [
    "The read() method returns the entire content of the file as a single string, while the readlines() method returns a list of strings, where each string is a line of the file."
   ]
  },
  {
   "cell_type": "markdown",
   "id": "3a26901c",
   "metadata": {},
   "source": [
    "#### 9. What data structure does a shelf value resemble?"
   ]
  },
  {
   "cell_type": "markdown",
   "id": "e7635ba4",
   "metadata": {},
   "source": [
    "A shelf value resembles a dictionary, as it is a persistent mapping of keys to values that can be stored on disk."
   ]
  },
  {
   "cell_type": "code",
   "execution_count": null,
   "id": "cb228c2e",
   "metadata": {},
   "outputs": [],
   "source": []
  }
 ],
 "metadata": {
  "kernelspec": {
   "display_name": "Python 3 (ipykernel)",
   "language": "python",
   "name": "python3"
  },
  "language_info": {
   "codemirror_mode": {
    "name": "ipython",
    "version": 3
   },
   "file_extension": ".py",
   "mimetype": "text/x-python",
   "name": "python",
   "nbconvert_exporter": "python",
   "pygments_lexer": "ipython3",
   "version": "3.9.13"
  }
 },
 "nbformat": 4,
 "nbformat_minor": 5
}
