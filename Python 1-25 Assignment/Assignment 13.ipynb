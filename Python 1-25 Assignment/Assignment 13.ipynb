{
 "cells": [
  {
   "cell_type": "markdown",
   "id": "48cf3748",
   "metadata": {},
   "source": [
    "#### 1. What advantages do Excel spreadsheets have over CSV spreadsheets?"
   ]
  },
  {
   "cell_type": "markdown",
   "id": "a6e9b4ad",
   "metadata": {},
   "source": [
    "Ans:-Excel spreadsheets have several advantages over CSV spreadsheets:\n",
    "\n",
    "* Excel spreadsheets can contain multiple sheets, whereas CSV files only contain a single sheet.\n",
    "\n",
    "* Excel spreadsheets support formatting options such as bold, italic, and underlining, which are not available in CSV files.\n",
    "\n",
    "* Excel spreadsheets can contain formulas and functions, which can be used to perform calculations and manipulate data."
   ]
  },
  {
   "cell_type": "markdown",
   "id": "c84c0f5e",
   "metadata": {},
   "source": [
    "#### 2.What do you pass to csv.reader() and csv.writer() to create reader and writer objects?"
   ]
  },
  {
   "cell_type": "code",
   "execution_count": 1,
   "id": "6345888e",
   "metadata": {},
   "outputs": [],
   "source": [
    "import csv\n",
    "\n",
    "# Creating a reader object\n",
    "with open('example.csv', 'r') as file:\n",
    "    csv_reader = csv.reader(file)\n",
    "\n",
    "# Creating a writer object\n",
    "with open('output.csv', 'w', newline='') as file:\n",
    "    csv_writer = csv.writer(file)"
   ]
  },
  {
   "cell_type": "markdown",
   "id": "96cf2c18",
   "metadata": {},
   "source": [
    "#### 3. What modes do File objects for reader and writer objects need to be opened in?\n"
   ]
  },
  {
   "cell_type": "markdown",
   "id": "71286c06",
   "metadata": {},
   "source": [
    "Ans:-File objects for both reader and writer objects need to be opened in text mode. For example, 'r' mode for reading and 'w' mode for writing."
   ]
  },
  {
   "cell_type": "markdown",
   "id": "0edbac78",
   "metadata": {},
   "source": [
    "#### 4. What method takes a list argument and writes it to a CSV file?"
   ]
  },
  {
   "cell_type": "markdown",
   "id": "0e97adba",
   "metadata": {},
   "source": [
    "Ans:-The writerow() method takes a list argument and writes it to a CSV file as a single row."
   ]
  },
  {
   "cell_type": "markdown",
   "id": "cf313e51",
   "metadata": {},
   "source": [
    "#### 5. What do the keyword arguments delimiter and line terminator do?\n"
   ]
  },
  {
   "cell_type": "markdown",
   "id": "177da1ea",
   "metadata": {},
   "source": [
    "Ans:-The delimiter keyword argument specifies the character used to separate fields in a CSV file. By default, the delimiter is a comma (,), but it can be set to other characters, such as tabs or semicolons.\n",
    "\n",
    "The lineterminator keyword argument specifies the character used to terminate each line in a CSV file. By default, the line terminator is the newline character (\\n), but it can be set to other characters, such as carriage return and newline (\\r\\n)."
   ]
  },
  {
   "cell_type": "markdown",
   "id": "16e64e3f",
   "metadata": {},
   "source": [
    "#### 6. What function takes a string of JSON data and returns a Python data structure?\n"
   ]
  },
  {
   "cell_type": "markdown",
   "id": "f6751921",
   "metadata": {},
   "source": [
    "Ans:-The json.loads() function takes a string of JSON data and returns a Python data structure."
   ]
  },
  {
   "cell_type": "markdown",
   "id": "e78188b5",
   "metadata": {},
   "source": [
    "#### 7. What function takes a Python data structure and returns a string of JSON data?"
   ]
  },
  {
   "cell_type": "markdown",
   "id": "156da50d",
   "metadata": {},
   "source": [
    "Ans:-The json.dumps() function takes a Python data structure and returns a string of JSON data."
   ]
  },
  {
   "cell_type": "code",
   "execution_count": null,
   "id": "a1ad89e8",
   "metadata": {},
   "outputs": [],
   "source": []
  }
 ],
 "metadata": {
  "kernelspec": {
   "display_name": "Python 3 (ipykernel)",
   "language": "python",
   "name": "python3"
  },
  "language_info": {
   "codemirror_mode": {
    "name": "ipython",
    "version": 3
   },
   "file_extension": ".py",
   "mimetype": "text/x-python",
   "name": "python",
   "nbconvert_exporter": "python",
   "pygments_lexer": "ipython3",
   "version": "3.9.13"
  }
 },
 "nbformat": 4,
 "nbformat_minor": 5
}
