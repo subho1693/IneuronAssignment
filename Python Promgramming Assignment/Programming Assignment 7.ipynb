{
 "cells": [
  {
   "cell_type": "markdown",
   "id": "2a36cbac",
   "metadata": {},
   "source": [
    "#### 1. Write a Python Program to find sum of array?\n"
   ]
  },
  {
   "cell_type": "code",
   "execution_count": 1,
   "id": "00cbb1ed",
   "metadata": {},
   "outputs": [
    {
     "name": "stdout",
     "output_type": "stream",
     "text": [
      "Sum of the array: 15\n"
     ]
    }
   ],
   "source": [
    "def array_sum(arr):\n",
    "    sum = 0\n",
    "    for num in arr:\n",
    "        sum += num\n",
    "    return sum\n",
    "\n",
    "# Example usage:\n",
    "array = [1, 2, 3, 4, 5]\n",
    "sum_of_array = array_sum(array)\n",
    "print(\"Sum of the array:\", sum_of_array)\n"
   ]
  },
  {
   "cell_type": "markdown",
   "id": "fe6accb2",
   "metadata": {},
   "source": [
    "#### 2. Write a Python Program to find largest element in an array?\n"
   ]
  },
  {
   "cell_type": "code",
   "execution_count": 6,
   "id": "090e9f50",
   "metadata": {},
   "outputs": [
    {
     "name": "stdout",
     "output_type": "stream",
     "text": [
      "Largest element in the array: 20\n"
     ]
    }
   ],
   "source": [
    "def find_largest_element(arr):\n",
    "    largest = arr[0]\n",
    "    for num in arr:\n",
    "        if num > largest:\n",
    "            largest = num\n",
    "    return largest\n",
    "\n",
    "# Example usage:\n",
    "array = [10, 5, 7, 15, 20]\n",
    "largest = find_largest_element(array)\n",
    "print(\"Largest element in the array:\", largest)\n"
   ]
  },
  {
   "cell_type": "markdown",
   "id": "03e0b239",
   "metadata": {},
   "source": [
    "#### 3. Write a Python Program for array rotation?\n"
   ]
  },
  {
   "cell_type": "code",
   "execution_count": 7,
   "id": "2a325f1c",
   "metadata": {},
   "outputs": [
    {
     "name": "stdout",
     "output_type": "stream",
     "text": [
      "Array after rotation: [3, 4, 5, 1, 2]\n"
     ]
    }
   ],
   "source": [
    "def rotate_array(arr, k):\n",
    "    rotated_array = arr[k:] + arr[:k]\n",
    "    return rotated_array\n",
    "\n",
    "# Example usage:\n",
    "array = [1, 2, 3, 4, 5]\n",
    "k = 2\n",
    "rotated = rotate_array(array, k)\n",
    "print(\"Array after rotation:\", rotated)\n"
   ]
  },
  {
   "cell_type": "markdown",
   "id": "0e7c9176",
   "metadata": {},
   "source": [
    "#### 4. Write a Python Program to Split the array and add the first part to the end?\n"
   ]
  },
  {
   "cell_type": "code",
   "execution_count": 8,
   "id": "68be5dee",
   "metadata": {},
   "outputs": [
    {
     "name": "stdout",
     "output_type": "stream",
     "text": [
      "Array after splitting and adding the first part to the end: [3, 4, 5, 1, 2]\n"
     ]
    }
   ],
   "source": [
    "def split_array(arr, k):\n",
    "    split = arr[k:] + arr[:k]\n",
    "    return split\n",
    "\n",
    "# Example usage:\n",
    "array = [1, 2, 3, 4, 5]\n",
    "k = 2\n",
    "split = split_array(array, k)\n",
    "print(\"Array after splitting and adding the first part to the end:\", split)\n"
   ]
  },
  {
   "cell_type": "markdown",
   "id": "52604144",
   "metadata": {},
   "source": [
    "#### 5. Write a Python Program to check if given array is Monotonic?"
   ]
  },
  {
   "cell_type": "code",
   "execution_count": 5,
   "id": "658f975f",
   "metadata": {},
   "outputs": [
    {
     "name": "stdout",
     "output_type": "stream",
     "text": [
      "Array 1 is monotonic: True\n",
      "Array 2 is monotonic: True\n",
      "Array 3 is monotonic: True\n"
     ]
    }
   ],
   "source": [
    "def is_monotonic(arr):\n",
    "    increasing = decreasing = True\n",
    "\n",
    "    for i in range(len(arr) - 1):\n",
    "        if arr[i] > arr[i + 1]:\n",
    "            increasing = False\n",
    "        if arr[i] < arr[i + 1]:\n",
    "            decreasing = False\n",
    "\n",
    "    return increasing or decreasing\n",
    "\n",
    "# Example usage:\n",
    "array1 = [1, 2, 3, 4, 5]\n",
    "array2 = [5, 4, 3, 2, 1]\n",
    "array3 = [1, 2, 2, 3, 4]\n",
    "\n",
    "print(\"Array 1 is monotonic:\", is_monotonic(array1))\n",
    "print(\"Array 2 is monotonic:\", is_monotonic(array2))\n",
    "print(\"Array 3 is monotonic:\", is_monotonic(array3))\n"
   ]
  },
  {
   "cell_type": "code",
   "execution_count": null,
   "id": "7d4ab956",
   "metadata": {},
   "outputs": [],
   "source": []
  }
 ],
 "metadata": {
  "kernelspec": {
   "display_name": "Python 3 (ipykernel)",
   "language": "python",
   "name": "python3"
  },
  "language_info": {
   "codemirror_mode": {
    "name": "ipython",
    "version": 3
   },
   "file_extension": ".py",
   "mimetype": "text/x-python",
   "name": "python",
   "nbconvert_exporter": "python",
   "pygments_lexer": "ipython3",
   "version": "3.10.9"
  }
 },
 "nbformat": 4,
 "nbformat_minor": 5
}
