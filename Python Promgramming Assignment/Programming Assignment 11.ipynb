{
 "cells": [
  {
   "cell_type": "markdown",
   "id": "817d9893",
   "metadata": {},
   "source": [
    "#### 1. Write a Python program to find words which are greater than given length k?\n"
   ]
  },
  {
   "cell_type": "code",
   "execution_count": 1,
   "id": "acb23fde",
   "metadata": {},
   "outputs": [
    {
     "name": "stdout",
     "output_type": "stream",
     "text": [
      "Words greater than length 5 : ['banana', 'grapefruit', 'orange']\n"
     ]
    }
   ],
   "source": [
    "def find_words_greater_than_length(words, k):\n",
    "    result = []\n",
    "    for word in words:\n",
    "        if len(word) > k:\n",
    "            result.append(word)\n",
    "    return result\n",
    "\n",
    "# Example usage\n",
    "word_list = [\"apple\", \"banana\", \"grapefruit\", \"orange\", \"kiwi\"]\n",
    "k = 5\n",
    "words_greater_than_k = find_words_greater_than_length(word_list, k)\n",
    "\n",
    "print(\"Words greater than length\", k, \":\", words_greater_than_k)\n"
   ]
  },
  {
   "cell_type": "markdown",
   "id": "62fd608e",
   "metadata": {},
   "source": [
    "#### 2. Write a Python program for removing i-th character from a string?\n"
   ]
  },
  {
   "cell_type": "code",
   "execution_count": 3,
   "id": "62514ca8",
   "metadata": {},
   "outputs": [
    {
     "name": "stdout",
     "output_type": "stream",
     "text": [
      "Original string: Hello, World!\n",
      "Modified string: Hello, orld!\n"
     ]
    }
   ],
   "source": [
    "def remove_ith_character(string, i):\n",
    "    if i < 0 or i >= len(string):\n",
    "        return string\n",
    "    return string[:i] + string[i+1:]\n",
    "\n",
    "# Example usage\n",
    "input_string = \"Hello, World!\"\n",
    "i = 7\n",
    "new_string = remove_ith_character(input_string, i)\n",
    "\n",
    "print(\"Original string:\", input_string)\n",
    "print(\"Modified string:\", new_string)\n",
    "\n"
   ]
  },
  {
   "cell_type": "markdown",
   "id": "590c3072",
   "metadata": {},
   "source": [
    "#### 3. Write a Python program to split and join a string?\n"
   ]
  },
  {
   "cell_type": "code",
   "execution_count": 4,
   "id": "3a17182d",
   "metadata": {},
   "outputs": [
    {
     "name": "stdout",
     "output_type": "stream",
     "text": [
      "Original string: Hello,World,Python\n",
      "Modified string: Hello World Python\n"
     ]
    }
   ],
   "source": [
    "def split_and_join_string(string, delimiter):\n",
    "    split_string = string.split(delimiter)\n",
    "    joined_string = \" \".join(split_string)\n",
    "    return joined_string\n",
    "\n",
    "# Example usage\n",
    "input_string = \"Hello,World,Python\"\n",
    "delimiter = \",\"\n",
    "modified_string = split_and_join_string(input_string, delimiter)\n",
    "\n",
    "print(\"Original string:\", input_string)\n",
    "print(\"Modified string:\", modified_string)\n"
   ]
  },
  {
   "cell_type": "markdown",
   "id": "6e1bf488",
   "metadata": {},
   "source": [
    "#### 4. Write a Python to check if a given string is binary string or not?\n"
   ]
  },
  {
   "cell_type": "code",
   "execution_count": 5,
   "id": "d3be9b7b",
   "metadata": {},
   "outputs": [
    {
     "name": "stdout",
     "output_type": "stream",
     "text": [
      "Input string: 101010\n",
      "The string is a binary string.\n"
     ]
    }
   ],
   "source": [
    "def is_binary_string(string):\n",
    "    for char in string:\n",
    "        if char != '0' and char != '1':\n",
    "            return False\n",
    "    return True\n",
    "\n",
    "# Example usage\n",
    "input_string = \"101010\"\n",
    "is_binary = is_binary_string(input_string)\n",
    "\n",
    "print(\"Input string:\", input_string)\n",
    "if is_binary:\n",
    "    print(\"The string is a binary string.\")\n",
    "else:\n",
    "    print(\"The string is not a binary string.\")\n"
   ]
  },
  {
   "cell_type": "markdown",
   "id": "28760aae",
   "metadata": {},
   "source": [
    "#### 5. Write a Python program to find uncommon words from two Strings?\n"
   ]
  },
  {
   "cell_type": "code",
   "execution_count": 6,
   "id": "320db792",
   "metadata": {},
   "outputs": [
    {
     "name": "stdout",
     "output_type": "stream",
     "text": [
      "String 1: I love coding\n",
      "String 2: Python is awesome\n",
      "Uncommon words: {'love', 'coding', 'Python', 'I', 'awesome', 'is'}\n"
     ]
    }
   ],
   "source": [
    "def find_uncommon_words(string1, string2):\n",
    "    words1 = set(string1.split())\n",
    "    words2 = set(string2.split())\n",
    "    uncommon_words = words1.symmetric_difference(words2)\n",
    "    return uncommon_words\n",
    "\n",
    "# Example usage\n",
    "str1 = \"I love coding\"\n",
    "str2 = \"Python is awesome\"\n",
    "uncommon_words = find_uncommon_words(str1, str2)\n",
    "\n",
    "print(\"String 1:\", str1)\n",
    "print(\"String 2:\", str2)\n",
    "print(\"Uncommon words:\", uncommon_words)\n"
   ]
  },
  {
   "cell_type": "markdown",
   "id": "02a271c6",
   "metadata": {},
   "source": [
    "#### 6. Write a Python to find all duplicate characters in string?\n"
   ]
  },
  {
   "cell_type": "code",
   "execution_count": 7,
   "id": "7d697c0b",
   "metadata": {},
   "outputs": [
    {
     "name": "stdout",
     "output_type": "stream",
     "text": [
      "Input string: Hello, World!\n",
      "Duplicate characters: ['l', 'o']\n"
     ]
    }
   ],
   "source": [
    "def find_duplicate_characters(string):\n",
    "    duplicates = []\n",
    "    for char in string:\n",
    "        if string.count(char) > 1 and char not in duplicates:\n",
    "            duplicates.append(char)\n",
    "    return duplicates\n",
    "\n",
    "# Example usage\n",
    "input_string = \"Hello, World!\"\n",
    "duplicate_chars = find_duplicate_characters(input_string)\n",
    "\n",
    "print(\"Input string:\", input_string)\n",
    "print(\"Duplicate characters:\", duplicate_chars)\n"
   ]
  },
  {
   "cell_type": "markdown",
   "id": "51e48a49",
   "metadata": {},
   "source": [
    "#### 7. Write a Python Program to check if a string contains any special character?"
   ]
  },
  {
   "cell_type": "code",
   "execution_count": 8,
   "id": "73064623",
   "metadata": {},
   "outputs": [
    {
     "name": "stdout",
     "output_type": "stream",
     "text": [
      "Input string: Hello, World!\n",
      "The string contains special characters.\n"
     ]
    }
   ],
   "source": [
    "import re\n",
    "\n",
    "def contains_special_characters(string):\n",
    "    special_characters = re.compile(r'[^a-zA-Z0-9\\s]')\n",
    "    return bool(special_characters.search(string))\n",
    "\n",
    "# Example usage\n",
    "input_string = \"Hello, World!\"\n",
    "contains_special = contains_special_characters(input_string)\n",
    "\n",
    "print(\"Input string:\", input_string)\n",
    "if contains_special:\n",
    "    print(\"The string contains special characters.\")\n",
    "else:\n",
    "    print(\"The string does not contain any special characters.\")\n"
   ]
  },
  {
   "cell_type": "code",
   "execution_count": null,
   "id": "3ff7fd9b",
   "metadata": {},
   "outputs": [],
   "source": []
  },
  {
   "cell_type": "code",
   "execution_count": null,
   "id": "999373b9",
   "metadata": {},
   "outputs": [],
   "source": []
  }
 ],
 "metadata": {
  "kernelspec": {
   "display_name": "Python 3 (ipykernel)",
   "language": "python",
   "name": "python3"
  },
  "language_info": {
   "codemirror_mode": {
    "name": "ipython",
    "version": 3
   },
   "file_extension": ".py",
   "mimetype": "text/x-python",
   "name": "python",
   "nbconvert_exporter": "python",
   "pygments_lexer": "ipython3",
   "version": "3.10.9"
  }
 },
 "nbformat": 4,
 "nbformat_minor": 5
}
