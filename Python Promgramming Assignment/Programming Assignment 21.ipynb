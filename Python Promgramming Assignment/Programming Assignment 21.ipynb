{
 "cells": [
  {
   "cell_type": "raw",
   "id": "31c58a6d",
   "metadata": {},
   "source": [
    "Question1\n",
    "Write a function that takes a list and a number as arguments. Add the number to the end of\n",
    "the list, then remove the first element of the list. The function should then return the updated\n",
    "list.\n",
    "Examples\n",
    "next_in_line([5, 6, 7, 8, 9], 1) ➞ [6, 7, 8, 9, 1]\n",
    "next_in_line([7, 6, 3, 23, 17], 10) ➞ [6, 3, 23, 17, 10]\n",
    "next_in_line([1, 10, 20, 42 ], 6) ➞ [10, 20, 42, 6]\n",
    "next_in_line([], 6) ➞ &quot;No list has been selected&quot;\n",
    "\n"
   ]
  },
  {
   "cell_type": "code",
   "execution_count": 1,
   "id": "e4279fe8",
   "metadata": {},
   "outputs": [
    {
     "name": "stdout",
     "output_type": "stream",
     "text": [
      "[6, 7, 8, 9, 1]\n",
      "[6, 3, 23, 17, 10]\n",
      "[10, 20, 42, 6]\n",
      "No list has been selected\n"
     ]
    }
   ],
   "source": [
    "def next_in_line(lst, num):\n",
    "    if lst:\n",
    "        lst.pop(0)\n",
    "        lst.append(num)\n",
    "        return lst\n",
    "    else:\n",
    "        return \"No list has been selected\"\n",
    "\n",
    "print(next_in_line([5, 6, 7, 8, 9], 1))      # Output: [6, 7, 8, 9, 1]\n",
    "print(next_in_line([7, 6, 3, 23, 17], 10))   # Output: [6, 3, 23, 17, 10]\n",
    "print(next_in_line([1, 10, 20, 42], 6))      # Output: [10, 20, 42, 6]\n",
    "print(next_in_line([], 6))                   # Output: \"No list has been selected\"\n"
   ]
  },
  {
   "cell_type": "raw",
   "id": "902f21f7",
   "metadata": {},
   "source": [
    "Question2\n",
    "Create the function that takes a list of dictionaries and returns the sum of people&#39;s budgets.\n",
    "Examples\n",
    "get_budgets([\n",
    "{ &quot;name&quot;: &quot;John&quot;, &quot;age&quot;: 21, &quot;budget&quot;: 23000 },\n",
    "{ &quot;name&quot;: &quot;Steve&quot;, &quot;age&quot;: 32, &quot;budget&quot;: 40000 },\n",
    "{ &quot;name&quot;: &quot;Martin&quot;, &quot;age&quot;: 16, &quot;budget&quot;: 2700 }\n",
    "]) ➞ 65700\n",
    "get_budgets([\n",
    "{ &quot;name&quot;: &quot;John&quot;, &quot;age&quot;: 21, &quot;budget&quot;: 29000 },\n",
    "{ &quot;name&quot;: &quot;Steve&quot;, &quot;age&quot;: 32, &quot;budget&quot;: 32000 },\n",
    "{ &quot;name&quot;: &quot;Martin&quot;, &quot;age&quot;: 16, &quot;budget&quot;: 1600 }\n",
    "]) ➞ 62600\n",
    "\n"
   ]
  },
  {
   "cell_type": "code",
   "execution_count": 2,
   "id": "793721d3",
   "metadata": {},
   "outputs": [
    {
     "name": "stdout",
     "output_type": "stream",
     "text": [
      "65700\n",
      "62600\n"
     ]
    }
   ],
   "source": [
    "def get_budgets(lst):\n",
    "    return sum(person[\"budget\"] for person in lst)\n",
    "\n",
    "print(get_budgets([\n",
    "    {\"name\": \"John\", \"age\": 21, \"budget\": 23000},\n",
    "    {\"name\": \"Steve\", \"age\": 32, \"budget\": 40000},\n",
    "    {\"name\": \"Martin\", \"age\": 16, \"budget\": 2700}\n",
    "]))  # Output: 65700\n",
    "\n",
    "print(get_budgets([\n",
    "    {\"name\": \"John\", \"age\": 21, \"budget\": 29000},\n",
    "    {\"name\": \"Steve\", \"age\": 32, \"budget\": 32000},\n",
    "    {\"name\": \"Martin\", \"age\": 16, \"budget\": 1600}\n",
    "]))  # Output: 62600\n"
   ]
  },
  {
   "cell_type": "raw",
   "id": "caaa723a",
   "metadata": {},
   "source": [
    "Question3\n",
    "Create a function that takes a string and returns a string with its letters in alphabetical order.\n",
    "Examples\n",
    "alphabet_soup(&quot;hello&quot;) ➞ &quot;ehllo&quot;\n",
    "alphabet_soup(&quot;edabit&quot;) ➞ &quot;abdeit&quot;\n",
    "alphabet_soup(&quot;hacker&quot;) ➞ &quot;acehkr&quot;\n",
    "alphabet_soup(&quot;geek&quot;) ➞ &quot;eegk&quot;\n",
    "alphabet_soup(&quot;javascript&quot;) ➞ &quot;aacijprstv&quot;\n",
    "\n"
   ]
  },
  {
   "cell_type": "code",
   "execution_count": 3,
   "id": "fd5f86ff",
   "metadata": {},
   "outputs": [
    {
     "name": "stdout",
     "output_type": "stream",
     "text": [
      "ehllo\n",
      "abdeit\n",
      "acehkr\n",
      "eegk\n",
      "aacijprstv\n"
     ]
    }
   ],
   "source": [
    "def alphabet_soup(txt):\n",
    "    return \"\".join(sorted(txt))\n",
    "\n",
    "print(alphabet_soup(\"hello\"))        # Output: \"ehllo\"\n",
    "print(alphabet_soup(\"edabit\"))       # Output: \"abdeit\"\n",
    "print(alphabet_soup(\"hacker\"))       # Output: \"acehkr\"\n",
    "print(alphabet_soup(\"geek\"))         # Output: \"eegk\"\n",
    "print(alphabet_soup(\"javascript\"))   # Output: \"aacijprstv\"\n"
   ]
  },
  {
   "cell_type": "raw",
   "id": "9ac7737d",
   "metadata": {},
   "source": [
    "Question4\n",
    "Suppose that you invest $10,000 for 10 years at an interest rate of 6% compounded monthly.\n",
    "What will be the value of your investment at the end of the 10 year period?\n",
    "Create a function that accepts the principal p, the term in years t, the interest rate r, and the\n",
    "number of compounding periods per year n. The function returns the value at the end of term\n",
    "rounded to the nearest cent.\n",
    "For the example above:\n",
    "compound_interest(10000, 10, 0.06, 12) ➞ 18193.97\n",
    "Note that the interest rate is given as a decimal and n=12 because with monthly compounding\n",
    "there are 12 periods per year. Compounding can also be done annually, quarterly, weekly, or\n",
    "daily.\n",
    "Examples\n",
    "compound_interest(100, 1, 0.05, 1) ➞ 105.0\n",
    "compound_interest(3500, 15, 0.1, 4) ➞ 15399.26\n",
    "compound_interest(100000, 20, 0.15, 365) ➞ 2007316.26\n",
    "\n"
   ]
  },
  {
   "cell_type": "code",
   "execution_count": 4,
   "id": "3e8de664",
   "metadata": {},
   "outputs": [
    {
     "name": "stdout",
     "output_type": "stream",
     "text": [
      "18193.97\n",
      "105.0\n",
      "15399.26\n",
      "2007316.26\n"
     ]
    }
   ],
   "source": [
    "def compound_interest(p, t, r, n):\n",
    "    amount = p * (1 + r / n) ** (n * t)\n",
    "    return round(amount, 2)\n",
    "\n",
    "print(compound_interest(10000, 10, 0.06, 12))   # Output: 18193.97\n",
    "print(compound_interest(100, 1, 0.05, 1))       # Output: 105.0\n",
    "print(compound_interest(3500, 15, 0.1, 4))      # Output: 15399.26\n",
    "print(compound_interest(100000, 20, 0.15, 365)) # Output: 2007316.26\n"
   ]
  },
  {
   "cell_type": "raw",
   "id": "8bc4a780",
   "metadata": {},
   "source": [
    "Question5\n",
    "Write a function that takes a list of elements and returns only the integers.\n",
    "Examples\n",
    "return_only_integer([9, 2, &quot;space&quot;, &quot;car&quot;, &quot;lion&quot;, 16]) ➞ [9, 2, 16]\n",
    "return_only_integer([&quot;hello&quot;, 81, &quot;basketball&quot;, 123, &quot;fox&quot;]) ➞ [81, 123]\n",
    "return_only_integer([10, &quot;121&quot;, 56, 20, &quot;car&quot;, 3, &quot;lion&quot;]) ➞ [10, 56, 20,\n",
    "3]\n",
    "return_only_integer([&quot;String&quot;, True, 3.3, 1]) ➞ [1]"
   ]
  },
  {
   "cell_type": "code",
   "execution_count": 5,
   "id": "a04c0b89",
   "metadata": {},
   "outputs": [
    {
     "name": "stdout",
     "output_type": "stream",
     "text": [
      "[9, 2, 16]\n",
      "[81, 123]\n",
      "[10, 56, 20, 3]\n"
     ]
    }
   ],
   "source": [
    "def return_only_integer(lst):\n",
    "    return [x for x in lst if isinstance(x, int)]\n",
    "\n",
    "print(return_only_integer([9, 2, \"space\", \"car\", \"lion\", 16]))          # Output: [9, 2, 16]\n",
    "print(return_only_integer([\"hello\", 81, \"basketball\", 123, \"fox\"]))    # Output: [81, 123]\n",
    "print(return_only_integer([10, \"121\", 56, 20, \"car\", 3, \"lion\"]))      # Output: [10, 56, 20, 3]\n"
   ]
  },
  {
   "cell_type": "code",
   "execution_count": null,
   "id": "dc0b46b4",
   "metadata": {},
   "outputs": [],
   "source": []
  },
  {
   "cell_type": "code",
   "execution_count": null,
   "id": "3289b7e7",
   "metadata": {},
   "outputs": [],
   "source": []
  }
 ],
 "metadata": {
  "kernelspec": {
   "display_name": "Python 3 (ipykernel)",
   "language": "python",
   "name": "python3"
  },
  "language_info": {
   "codemirror_mode": {
    "name": "ipython",
    "version": 3
   },
   "file_extension": ".py",
   "mimetype": "text/x-python",
   "name": "python",
   "nbconvert_exporter": "python",
   "pygments_lexer": "ipython3",
   "version": "3.10.9"
  }
 },
 "nbformat": 4,
 "nbformat_minor": 5
}
