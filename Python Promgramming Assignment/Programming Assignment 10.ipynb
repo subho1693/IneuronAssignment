{
 "cells": [
  {
   "cell_type": "markdown",
   "id": "9adadc2b",
   "metadata": {},
   "source": [
    "#### 1. Write a Python program to find sum of elements in list?\n"
   ]
  },
  {
   "cell_type": "code",
   "execution_count": 1,
   "id": "2c6e7318",
   "metadata": {},
   "outputs": [
    {
     "name": "stdout",
     "output_type": "stream",
     "text": [
      "Sum of elements in the list: 15\n"
     ]
    }
   ],
   "source": [
    "def sum_of_elements(lst):\n",
    "    sum = 0\n",
    "    for num in lst:\n",
    "        sum += num\n",
    "    return sum\n",
    "\n",
    "# Example usage:\n",
    "list_of_numbers = [1, 2, 3, 4, 5]\n",
    "sum = sum_of_elements(list_of_numbers)\n",
    "print(\"Sum of elements in the list:\", sum)\n"
   ]
  },
  {
   "cell_type": "markdown",
   "id": "21fcce29",
   "metadata": {},
   "source": [
    "#### 2. Write a Python program to Multiply all numbers in the list?\n"
   ]
  },
  {
   "cell_type": "code",
   "execution_count": 2,
   "id": "ed7f5193",
   "metadata": {},
   "outputs": [
    {
     "name": "stdout",
     "output_type": "stream",
     "text": [
      "Product of numbers in the list: 120\n"
     ]
    }
   ],
   "source": [
    "def multiply_numbers(lst):\n",
    "    result = 1\n",
    "    for num in lst:\n",
    "        result *= num\n",
    "    return result\n",
    "\n",
    "# Example usage:\n",
    "list_of_numbers = [1, 2, 3, 4, 5]\n",
    "product = multiply_numbers(list_of_numbers)\n",
    "print(\"Product of numbers in the list:\", product)\n"
   ]
  },
  {
   "cell_type": "markdown",
   "id": "a7ccf24e",
   "metadata": {},
   "source": [
    "#### 3. Write a Python program to find smallest number in a list?\n"
   ]
  },
  {
   "cell_type": "code",
   "execution_count": 3,
   "id": "ca420ac1",
   "metadata": {},
   "outputs": [
    {
     "name": "stdout",
     "output_type": "stream",
     "text": [
      "Smallest number in the list: 1\n"
     ]
    }
   ],
   "source": [
    "def find_smallest_number(lst):\n",
    "    smallest = lst[0]\n",
    "    for num in lst:\n",
    "        if num < smallest:\n",
    "            smallest = num\n",
    "    return smallest\n",
    "\n",
    "# Example usage:\n",
    "list_of_numbers = [5, 3, 7, 2, 1]\n",
    "smallest = find_smallest_number(list_of_numbers)\n",
    "print(\"Smallest number in the list:\", smallest)\n"
   ]
  },
  {
   "cell_type": "markdown",
   "id": "1e6bd6b1",
   "metadata": {},
   "source": [
    "#### 4. Write a Python program to find largest number in a list?\n"
   ]
  },
  {
   "cell_type": "code",
   "execution_count": 4,
   "id": "b23f0dfb",
   "metadata": {},
   "outputs": [
    {
     "name": "stdout",
     "output_type": "stream",
     "text": [
      "Largest number in the list: 7\n"
     ]
    }
   ],
   "source": [
    "def find_largest_number(lst):\n",
    "    largest = lst[0]\n",
    "    for num in lst:\n",
    "        if num > largest:\n",
    "            largest = num\n",
    "    return largest\n",
    "\n",
    "# Example usage:\n",
    "list_of_numbers = [5, 3, 7, 2, 1]\n",
    "largest = find_largest_number(list_of_numbers)\n",
    "print(\"Largest number in the list:\", largest)\n"
   ]
  },
  {
   "cell_type": "markdown",
   "id": "59a384f9",
   "metadata": {},
   "source": [
    "#### 5. Write a Python program to find second largest number in a list?\n"
   ]
  },
  {
   "cell_type": "code",
   "execution_count": 5,
   "id": "6157033c",
   "metadata": {},
   "outputs": [
    {
     "name": "stdout",
     "output_type": "stream",
     "text": [
      "Second largest number in the list: 5\n"
     ]
    }
   ],
   "source": [
    "def find_second_largest_number(lst):\n",
    "    largest = max(lst)\n",
    "    lst.remove(largest)\n",
    "    second_largest = max(lst)\n",
    "    return second_largest\n",
    "\n",
    "# Example usage:\n",
    "list_of_numbers = [5, 3, 7, 2, 1]\n",
    "second_largest = find_second_largest_number(list_of_numbers)\n",
    "print(\"Second largest number in the list:\", second_largest)\n"
   ]
  },
  {
   "cell_type": "markdown",
   "id": "fa3e6225",
   "metadata": {},
   "source": [
    "#### 6. Write a Python program to find N largest elements from a list?\n"
   ]
  },
  {
   "cell_type": "code",
   "execution_count": 6,
   "id": "6efa9308",
   "metadata": {},
   "outputs": [
    {
     "name": "stdout",
     "output_type": "stream",
     "text": [
      "N largest elements in the list: [7, 5, 3]\n"
     ]
    }
   ],
   "source": [
    "def find_n_largest_elements(lst, n):\n",
    "    sorted_lst = sorted(lst, reverse=True)\n",
    "    return sorted_lst[:n]\n",
    "\n",
    "# Example usage:\n",
    "list_of_numbers = [5, 3, 7, 2, 1]\n",
    "n = 3\n",
    "n_largest_elements = find_n_largest_elements(list_of_numbers, n)\n",
    "print(\"N largest elements in the list:\", n_largest_elements)\n"
   ]
  },
  {
   "cell_type": "markdown",
   "id": "7c7bb204",
   "metadata": {},
   "source": [
    "#### 7. Write a Python program to print even numbers in a list?\n"
   ]
  },
  {
   "cell_type": "code",
   "execution_count": 7,
   "id": "bdbb7b96",
   "metadata": {},
   "outputs": [
    {
     "name": "stdout",
     "output_type": "stream",
     "text": [
      "Even numbers in the list:\n",
      "2\n",
      "4\n"
     ]
    }
   ],
   "source": [
    "def print_even_numbers(lst):\n",
    "    for num in lst:\n",
    "        if num % 2 == 0:\n",
    "            print(num)\n",
    "\n",
    "# Example usage:\n",
    "list_of_numbers = [1, 2, 3, 4, 5]\n",
    "print(\"Even numbers in the list:\")\n",
    "print_even_numbers(list_of_numbers)\n"
   ]
  },
  {
   "cell_type": "markdown",
   "id": "d19be4b0",
   "metadata": {},
   "source": [
    "#### 8. Write a Python program to print odd numbers in a List?\n"
   ]
  },
  {
   "cell_type": "code",
   "execution_count": 8,
   "id": "70c436e5",
   "metadata": {},
   "outputs": [
    {
     "name": "stdout",
     "output_type": "stream",
     "text": [
      "Odd numbers in the list:\n",
      "1\n",
      "3\n",
      "5\n"
     ]
    }
   ],
   "source": [
    "def print_odd_numbers(lst):\n",
    "    for num in lst:\n",
    "        if num % 2 != 0:\n",
    "            print(num)\n",
    "\n",
    "# Example usage:\n",
    "list_of_numbers = [1, 2, 3, 4, 5]\n",
    "print(\"Odd numbers in the list:\")\n",
    "print_odd_numbers(list_of_numbers)\n"
   ]
  },
  {
   "cell_type": "markdown",
   "id": "6326736e",
   "metadata": {},
   "source": [
    "#### 9. Write a Python program to Remove empty List from List?\n"
   ]
  },
  {
   "cell_type": "code",
   "execution_count": 10,
   "id": "11b3e555",
   "metadata": {},
   "outputs": [
    {
     "name": "stdout",
     "output_type": "stream",
     "text": [
      "List after removing empty lists: [1, 2, 3, 4, 5, 6]\n"
     ]
    }
   ],
   "source": [
    "def remove_empty_lists(lst):\n",
    "    return [sublist for sublist in lst if sublist]\n",
    "\n",
    "# Example usage:\n",
    "my_list = [1, 2, [], 3, [], 4, 5, [], [], 6]\n",
    "new_list = remove_empty_lists(my_list)\n",
    "print(\"List after removing empty lists:\", new_list)\n"
   ]
  },
  {
   "cell_type": "markdown",
   "id": "b4e342bb",
   "metadata": {},
   "source": [
    "#### 10. Write a Python program to Cloning or Copying a list?\n"
   ]
  },
  {
   "cell_type": "code",
   "execution_count": 11,
   "id": "59e6a4ff",
   "metadata": {},
   "outputs": [
    {
     "name": "stdout",
     "output_type": "stream",
     "text": [
      "Original List: [1, 2, 3, 4, 5]\n",
      "Cloned List: [1, 2, 3, 4, 5]\n"
     ]
    }
   ],
   "source": [
    "def clone_list(original_list):\n",
    "    cloned_list = list(original_list)  # Using the list() constructor to create a new list\n",
    "    return cloned_list\n",
    "\n",
    "# Example usage\n",
    "my_list = [1, 2, 3, 4, 5]\n",
    "cloned_list = clone_list(my_list)\n",
    "\n",
    "print(\"Original List:\", my_list)\n",
    "print(\"Cloned List:\", cloned_list)\n"
   ]
  },
  {
   "cell_type": "markdown",
   "id": "4708c542",
   "metadata": {},
   "source": [
    "#### 11. Write a Python program to Count occurrences of an element in a list?"
   ]
  },
  {
   "cell_type": "code",
   "execution_count": 12,
   "id": "52c85e83",
   "metadata": {},
   "outputs": [
    {
     "name": "stdout",
     "output_type": "stream",
     "text": [
      "List: [1, 2, 3, 2, 4, 2, 5]\n",
      "Element to count: 2\n",
      "Occurrences: 3\n"
     ]
    }
   ],
   "source": [
    "def count_occurrences(lst, element):\n",
    "    count = 0\n",
    "    for item in lst:\n",
    "        if item == element:\n",
    "            count += 1\n",
    "    return count\n",
    "\n",
    "# Example usage\n",
    "my_list = [1, 2, 3, 2, 4, 2, 5]\n",
    "element_to_count = 2\n",
    "occurrences = count_occurrences(my_list, element_to_count)\n",
    "\n",
    "print(\"List:\", my_list)\n",
    "print(\"Element to count:\", element_to_count)\n",
    "print(\"Occurrences:\", occurrences)\n"
   ]
  },
  {
   "cell_type": "code",
   "execution_count": null,
   "id": "81d2bd9e",
   "metadata": {},
   "outputs": [],
   "source": []
  },
  {
   "cell_type": "code",
   "execution_count": null,
   "id": "8c2c93d1",
   "metadata": {},
   "outputs": [],
   "source": []
  },
  {
   "cell_type": "code",
   "execution_count": null,
   "id": "e3d950dd",
   "metadata": {},
   "outputs": [],
   "source": []
  },
  {
   "cell_type": "code",
   "execution_count": null,
   "id": "ee65d59c",
   "metadata": {},
   "outputs": [],
   "source": []
  }
 ],
 "metadata": {
  "kernelspec": {
   "display_name": "Python 3 (ipykernel)",
   "language": "python",
   "name": "python3"
  },
  "language_info": {
   "codemirror_mode": {
    "name": "ipython",
    "version": 3
   },
   "file_extension": ".py",
   "mimetype": "text/x-python",
   "name": "python",
   "nbconvert_exporter": "python",
   "pygments_lexer": "ipython3",
   "version": "3.10.9"
  }
 },
 "nbformat": 4,
 "nbformat_minor": 5
}
