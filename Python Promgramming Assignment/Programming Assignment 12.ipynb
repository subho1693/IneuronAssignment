{
 "cells": [
  {
   "cell_type": "markdown",
   "id": "d90315b7",
   "metadata": {},
   "source": [
    "#### 1. Write a Python program to Extract Unique values dictionary values?\n"
   ]
  },
  {
   "cell_type": "code",
   "execution_count": 1,
   "id": "402f8b01",
   "metadata": {},
   "outputs": [
    {
     "name": "stdout",
     "output_type": "stream",
     "text": [
      "Dictionary: {'a': [1, 2, 3], 'b': [2, 3, 4], 'c': [3, 4, 5]}\n",
      "Unique values: {1, 2, 3, 4, 5}\n"
     ]
    }
   ],
   "source": [
    "def extract_unique_values(dictionary):\n",
    "    unique_values = set()\n",
    "    for values in dictionary.values():\n",
    "        unique_values.update(values)\n",
    "    return unique_values\n",
    "\n",
    "# Example usage\n",
    "my_dict = {'a': [1, 2, 3], 'b': [2, 3, 4], 'c': [3, 4, 5]}\n",
    "unique_values = extract_unique_values(my_dict)\n",
    "\n",
    "print(\"Dictionary:\", my_dict)\n",
    "print(\"Unique values:\", unique_values)\n"
   ]
  },
  {
   "cell_type": "markdown",
   "id": "ef677f94",
   "metadata": {},
   "source": [
    "#### 2. Write a Python program to find the sum of all items in a dictionary?\n"
   ]
  },
  {
   "cell_type": "code",
   "execution_count": 2,
   "id": "0057ff7c",
   "metadata": {},
   "outputs": [
    {
     "name": "stdout",
     "output_type": "stream",
     "text": [
      "Dictionary: {'a': 1, 'b': 2, 'c': 3}\n",
      "Sum of items: 6\n"
     ]
    }
   ],
   "source": [
    "def sum_of_dictionary_items(dictionary):\n",
    "    return sum(dictionary.values())\n",
    "\n",
    "# Example usage\n",
    "my_dict = {'a': 1, 'b': 2, 'c': 3}\n",
    "total_sum = sum_of_dictionary_items(my_dict)\n",
    "\n",
    "print(\"Dictionary:\", my_dict)\n",
    "print(\"Sum of items:\", total_sum)\n"
   ]
  },
  {
   "cell_type": "markdown",
   "id": "baaf2d06",
   "metadata": {},
   "source": [
    "#### 3. Write a Python program to Merging two Dictionaries?\n"
   ]
  },
  {
   "cell_type": "code",
   "execution_count": 3,
   "id": "5f605b8e",
   "metadata": {},
   "outputs": [
    {
     "name": "stdout",
     "output_type": "stream",
     "text": [
      "Dictionary 1: {'a': 1, 'b': 2}\n",
      "Dictionary 2: {'c': 3, 'd': 4}\n",
      "Merged dictionary: {'a': 1, 'b': 2, 'c': 3, 'd': 4}\n"
     ]
    }
   ],
   "source": [
    "def merge_dictionaries(dict1, dict2):\n",
    "    merged_dict = {**dict1, **dict2}\n",
    "    return merged_dict\n",
    "\n",
    "# Example usage\n",
    "dict1 = {'a': 1, 'b': 2}\n",
    "dict2 = {'c': 3, 'd': 4}\n",
    "merged_dict = merge_dictionaries(dict1, dict2)\n",
    "\n",
    "print(\"Dictionary 1:\", dict1)\n",
    "print(\"Dictionary 2:\", dict2)\n",
    "print(\"Merged dictionary:\", merged_dict)\n"
   ]
  },
  {
   "cell_type": "markdown",
   "id": "944b434e",
   "metadata": {},
   "source": [
    "#### 4. Write a Python program to convert key-values list to flat dictionary?\n"
   ]
  },
  {
   "cell_type": "code",
   "execution_count": 4,
   "id": "174cc0b1",
   "metadata": {},
   "outputs": [
    {
     "name": "stdout",
     "output_type": "stream",
     "text": [
      "Keys: ['a', 'b', 'c']\n",
      "Values: [1, 2, 3]\n",
      "Flat dictionary: {'a': 1, 'b': 2, 'c': 3}\n"
     ]
    }
   ],
   "source": [
    "def convert_to_flat_dictionary(keys, values):\n",
    "    flat_dict = dict(zip(keys, values))\n",
    "    return flat_dict\n",
    "\n",
    "# Example usage\n",
    "key_list = ['a', 'b', 'c']\n",
    "value_list = [1, 2, 3]\n",
    "flat_dictionary = convert_to_flat_dictionary(key_list, value_list)\n",
    "\n",
    "print(\"Keys:\", key_list)\n",
    "print(\"Values:\", value_list)\n",
    "print(\"Flat dictionary:\", flat_dictionary)\n"
   ]
  },
  {
   "cell_type": "markdown",
   "id": "ca821999",
   "metadata": {},
   "source": [
    "#### 5. Write a Python program to insertion at the beginning in OrderedDict?\n"
   ]
  },
  {
   "cell_type": "code",
   "execution_count": 5,
   "id": "1e4ace8b",
   "metadata": {},
   "outputs": [
    {
     "name": "stdout",
     "output_type": "stream",
     "text": [
      "OrderedDict: OrderedDict([('x', 10), ('a', 1), ('b', 2), ('c', 3)])\n",
      "Updated OrderedDict: OrderedDict([('x', 10), ('a', 1), ('b', 2), ('c', 3)])\n"
     ]
    }
   ],
   "source": [
    "from collections import OrderedDict\n",
    "\n",
    "def insert_at_beginning(ordered_dict, key, value):\n",
    "    ordered_dict[key] = value\n",
    "    ordered_dict.move_to_end(key, last=False)\n",
    "    return ordered_dict\n",
    "\n",
    "# Example usage\n",
    "my_ordered_dict = OrderedDict([('a', 1), ('b', 2), ('c', 3)])\n",
    "key_to_insert = 'x'\n",
    "value_to_insert = 10\n",
    "updated_dict = insert_at_beginning(my_ordered_dict, key_to_insert, value_to_insert)\n",
    "\n",
    "print(\"OrderedDict:\", my_ordered_dict)\n",
    "print(\"Updated OrderedDict:\", updated_dict)\n"
   ]
  },
  {
   "cell_type": "markdown",
   "id": "a0867b6d",
   "metadata": {},
   "source": [
    "#### 6. Write a Python program to check order of character in string using OrderedDict()?\n"
   ]
  },
  {
   "cell_type": "code",
   "execution_count": 6,
   "id": "a1c577ea",
   "metadata": {},
   "outputs": [
    {
     "name": "stdout",
     "output_type": "stream",
     "text": [
      "Input string: hello world\n",
      "Ordered characters: helo wrd\n"
     ]
    }
   ],
   "source": [
    "from collections import OrderedDict\n",
    "\n",
    "def check_order_of_characters(string):\n",
    "    unique_chars = OrderedDict.fromkeys(string)\n",
    "    return ''.join(unique_chars.keys())\n",
    "\n",
    "# Example usage\n",
    "input_string = 'hello world'\n",
    "ordered_chars = check_order_of_characters(input_string)\n",
    "\n",
    "print(\"Input string:\", input_string)\n",
    "print(\"Ordered characters:\", ordered_chars)\n"
   ]
  },
  {
   "cell_type": "markdown",
   "id": "98442451",
   "metadata": {},
   "source": [
    "#### 7. Write a Python program to sort Python Dictionaries by Key or Value?"
   ]
  },
  {
   "cell_type": "code",
   "execution_count": 8,
   "id": "4de195c7",
   "metadata": {},
   "outputs": [
    {
     "name": "stdout",
     "output_type": "stream",
     "text": [
      "Sorted by key: {'a': 1, 'b': 2, 'c': 3, 'd': 4}\n",
      "Sorted by value: {'a': 1, 'b': 2, 'c': 3, 'd': 4}\n"
     ]
    }
   ],
   "source": [
    "def sort_dictionary(dictionary, by_key=True):\n",
    "    sorted_dict = {}\n",
    "    if by_key:\n",
    "        sorted_keys = sorted(dictionary.keys())\n",
    "        for key in sorted_keys:\n",
    "            sorted_dict[key] = dictionary[key]\n",
    "    else:\n",
    "        sorted_items = sorted(dictionary.items(), key=lambda x: x[1])\n",
    "        for item in sorted_items:\n",
    "            sorted_dict[item[0]] = item[1]\n",
    "    return sorted_dict\n",
    "\n",
    "# Example usage\n",
    "my_dict = {'b': 2, 'a': 1, 'd': 4, 'c': 3}\n",
    "\n",
    "# Sort by key\n",
    "sorted_by_key = sort_dictionary(my_dict, by_key=True)\n",
    "print(\"Sorted by key:\", sorted_by_key)\n",
    "\n",
    "# Sort by value\n",
    "sorted_by_value = sort_dictionary(my_dict, by_key=False)\n",
    "print(\"Sorted by value:\", sorted_by_value)\n"
   ]
  },
  {
   "cell_type": "code",
   "execution_count": null,
   "id": "ef0f75b3",
   "metadata": {},
   "outputs": [],
   "source": []
  }
 ],
 "metadata": {
  "kernelspec": {
   "display_name": "Python 3 (ipykernel)",
   "language": "python",
   "name": "python3"
  },
  "language_info": {
   "codemirror_mode": {
    "name": "ipython",
    "version": 3
   },
   "file_extension": ".py",
   "mimetype": "text/x-python",
   "name": "python",
   "nbconvert_exporter": "python",
   "pygments_lexer": "ipython3",
   "version": "3.10.9"
  }
 },
 "nbformat": 4,
 "nbformat_minor": 5
}
