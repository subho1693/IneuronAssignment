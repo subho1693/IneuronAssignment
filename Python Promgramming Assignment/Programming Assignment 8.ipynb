{
 "cells": [
  {
   "cell_type": "markdown",
   "id": "847d5d3b",
   "metadata": {},
   "source": [
    "#### 1. Write a Python Program to Add Two Matrices?\n"
   ]
  },
  {
   "cell_type": "code",
   "execution_count": 1,
   "id": "a4004b24",
   "metadata": {},
   "outputs": [
    {
     "name": "stdout",
     "output_type": "stream",
     "text": [
      "Sum of the matrices:\n",
      "[10, 10, 10]\n",
      "[10, 10, 10]\n",
      "[10, 10, 10]\n"
     ]
    }
   ],
   "source": [
    "def add_matrices(matrix1, matrix2):\n",
    "    result = []\n",
    "    for i in range(len(matrix1)):\n",
    "        row = []\n",
    "        for j in range(len(matrix1[i])):\n",
    "            row.append(matrix1[i][j] + matrix2[i][j])\n",
    "        result.append(row)\n",
    "    return result\n",
    "\n",
    "# Example usage:\n",
    "matrix1 = [[1, 2, 3], [4, 5, 6], [7, 8, 9]]\n",
    "matrix2 = [[9, 8, 7], [6, 5, 4], [3, 2, 1]]\n",
    "\n",
    "sum_matrix = add_matrices(matrix1, matrix2)\n",
    "print(\"Sum of the matrices:\")\n",
    "for row in sum_matrix:\n",
    "    print(row)\n"
   ]
  },
  {
   "cell_type": "markdown",
   "id": "bb74c05e",
   "metadata": {},
   "source": [
    "#### 2. Write a Python Program to Multiply Two Matrices?\n"
   ]
  },
  {
   "cell_type": "code",
   "execution_count": 2,
   "id": "dac0f9e9",
   "metadata": {},
   "outputs": [
    {
     "name": "stdout",
     "output_type": "stream",
     "text": [
      "Product of the matrices:\n",
      "[19, 22]\n",
      "[43, 50]\n"
     ]
    }
   ],
   "source": [
    "def multiply_matrices(matrix1, matrix2):\n",
    "    result = []\n",
    "    for i in range(len(matrix1)):\n",
    "        row = []\n",
    "        for j in range(len(matrix2[0])):\n",
    "            sum = 0\n",
    "            for k in range(len(matrix2)):\n",
    "                sum += matrix1[i][k] * matrix2[k][j]\n",
    "            row.append(sum)\n",
    "        result.append(row)\n",
    "    return result\n",
    "\n",
    "# Example usage:\n",
    "matrix1 = [[1, 2], [3, 4]]\n",
    "matrix2 = [[5, 6], [7, 8]]\n",
    "\n",
    "product_matrix = multiply_matrices(matrix1, matrix2)\n",
    "print(\"Product of the matrices:\")\n",
    "for row in product_matrix:\n",
    "    print(row)\n"
   ]
  },
  {
   "cell_type": "markdown",
   "id": "92ad09b6",
   "metadata": {},
   "source": [
    "#### 3. Write a Python Program to Transpose a Matrix?\n"
   ]
  },
  {
   "cell_type": "code",
   "execution_count": 3,
   "id": "4ea45df9",
   "metadata": {},
   "outputs": [
    {
     "name": "stdout",
     "output_type": "stream",
     "text": [
      "Transposed matrix:\n",
      "[1, 4, 7]\n",
      "[2, 5, 8]\n",
      "[3, 6, 9]\n"
     ]
    }
   ],
   "source": [
    "def transpose_matrix(matrix):\n",
    "    result = []\n",
    "    for j in range(len(matrix[0])):\n",
    "        row = []\n",
    "        for i in range(len(matrix)):\n",
    "            row.append(matrix[i][j])\n",
    "        result.append(row)\n",
    "    return result\n",
    "\n",
    "# Example usage:\n",
    "matrix = [[1, 2, 3], [4, 5, 6], [7, 8, 9]]\n",
    "\n",
    "transposed_matrix = transpose_matrix(matrix)\n",
    "print(\"Transposed matrix:\")\n",
    "for row in transposed_matrix:\n",
    "    print(row)\n"
   ]
  },
  {
   "cell_type": "markdown",
   "id": "f875fed5",
   "metadata": {},
   "source": [
    "#### 4. Write a Python Program to Sort Words in Alphabetic Order?\n"
   ]
  },
  {
   "cell_type": "code",
   "execution_count": 10,
   "id": "8fef4742",
   "metadata": {},
   "outputs": [
    {
     "name": "stdout",
     "output_type": "stream",
     "text": [
      "Sorted words:\n",
      "This\n",
      "a\n",
      "is\n",
      "sample\n",
      "sentence\n"
     ]
    }
   ],
   "source": [
    "def sort_words(words):\n",
    "    words.sort()\n",
    "    return words\n",
    "\n",
    "# Example usage:\n",
    "sentence = \"This is a sample sentence\"\n",
    "\n",
    "words = sentence.split()\n",
    "sorted_words = sort_words(words)\n",
    "print(\"Sorted words:\")\n",
    "for word in sorted_words:\n",
    "    print(word)\n"
   ]
  },
  {
   "cell_type": "markdown",
   "id": "953d392a",
   "metadata": {},
   "source": [
    "#### 5. Write a Python Program to Remove Punctuation From a String?"
   ]
  },
  {
   "cell_type": "code",
   "execution_count": 11,
   "id": "a3077802",
   "metadata": {},
   "outputs": [
    {
     "name": "stdout",
     "output_type": "stream",
     "text": [
      "Text without punctuation: Hello World How are you\n"
     ]
    }
   ],
   "source": [
    "import string\n",
    "\n",
    "def remove_punctuation(text):\n",
    "    no_punct = \"\"\n",
    "    for char in text:\n",
    "        if char not in string.punctuation:\n",
    "            no_punct += char\n",
    "    return no_punct\n",
    "\n",
    "# Example usage:\n",
    "text = \"Hello, World! How are you?\"\n",
    "\n",
    "no_punct_text = remove_punctuation(text)\n",
    "print(\"Text without punctuation:\", no_punct_text)\n"
   ]
  },
  {
   "cell_type": "code",
   "execution_count": null,
   "id": "49d5b4ff",
   "metadata": {},
   "outputs": [],
   "source": []
  }
 ],
 "metadata": {
  "kernelspec": {
   "display_name": "Python 3 (ipykernel)",
   "language": "python",
   "name": "python3"
  },
  "language_info": {
   "codemirror_mode": {
    "name": "ipython",
    "version": 3
   },
   "file_extension": ".py",
   "mimetype": "text/x-python",
   "name": "python",
   "nbconvert_exporter": "python",
   "pygments_lexer": "ipython3",
   "version": "3.10.9"
  }
 },
 "nbformat": 4,
 "nbformat_minor": 5
}
