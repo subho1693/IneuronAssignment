{
 "cells": [
  {
   "cell_type": "raw",
   "id": "a63ce74c",
   "metadata": {},
   "source": [
    "Question 1:\n",
    "Please write a program using generator to print the numbers which can be divisible by 5 and\n",
    "7 between 0 and n in comma separated form while n is input by console.\n",
    "Example:\n",
    "If the following n is given as input to the program:\n",
    "100\n",
    "Then, the output of the program should be:\n",
    "0,35,70\n",
    "\n"
   ]
  },
  {
   "cell_type": "code",
   "execution_count": 1,
   "id": "4a01c56d",
   "metadata": {},
   "outputs": [
    {
     "name": "stdout",
     "output_type": "stream",
     "text": [
      "Enter a number: 100\n",
      "0,35,70\n"
     ]
    }
   ],
   "source": [
    "def divisible_by_5_and_7(n):\n",
    "    for num in range(n + 1):\n",
    "        if num % 5 == 0 and num % 7 == 0:\n",
    "            yield num\n",
    "\n",
    "# Example usage\n",
    "n = int(input(\"Enter a number: \"))\n",
    "result = \",\".join(str(num) for num in divisible_by_5_and_7(n))\n",
    "print(result)\n"
   ]
  },
  {
   "cell_type": "raw",
   "id": "1355542c",
   "metadata": {},
   "source": [
    "Question 2:\n",
    "Please write a program using generator to print the even numbers between 0 and n in comma\n",
    "separated form while n is input by console.\n",
    "Example:\n",
    "If the following n is given as input to the program:\n",
    "10\n",
    "Then, the output of the program should be:\n",
    "0,2,4,6,8,10\n",
    "\n"
   ]
  },
  {
   "cell_type": "code",
   "execution_count": 2,
   "id": "cdd2e4fe",
   "metadata": {},
   "outputs": [
    {
     "name": "stdout",
     "output_type": "stream",
     "text": [
      "Enter a number: 10\n",
      "0,2,4,6,8,10\n"
     ]
    }
   ],
   "source": [
    "def even_numbers(n):\n",
    "    for num in range(n + 1):\n",
    "        if num % 2 == 0:\n",
    "            yield num\n",
    "\n",
    "# Example usage\n",
    "n = int(input(\"Enter a number: \"))\n",
    "result = \",\".join(str(num) for num in even_numbers(n))\n",
    "print(result)\n"
   ]
  },
  {
   "cell_type": "raw",
   "id": "6d9a80f1",
   "metadata": {},
   "source": [
    "Question 3:\n",
    "The Fibonacci Sequence is computed based on the following formula:\n",
    "f(n)=0 if n=0\n",
    "f(n)=1 if n=1\n",
    "f(n)=f(n-1)+f(n-2) if n&gt;1\n",
    "Please write a program using list comprehension to print the Fibonacci Sequence in comma\n",
    "separated form with a given n input by console.\n",
    "Example:\n",
    "If the following n is given as input to the program:\n",
    "7\n",
    "\n",
    "Then, the output of the program should be:\n",
    "0,1,1,2,3,5,8,13\n",
    "\n"
   ]
  },
  {
   "cell_type": "code",
   "execution_count": 9,
   "id": "c34c9160",
   "metadata": {},
   "outputs": [
    {
     "name": "stdout",
     "output_type": "stream",
     "text": [
      "Enter a number (n): 7\n",
      "0,1,1,2,3,5,8,13\n"
     ]
    }
   ],
   "source": [
    "def fibonacci_sequence(n):\n",
    "    sequence = [0, 1]  # Initialize the sequence with the first two numbers\n",
    "    [sequence.append(sequence[-1] + sequence[-2]) for _ in range(2, n+1)]  # Generate the Fibonacci sequence\n",
    "    \n",
    "    return sequence\n",
    "\n",
    "n = int(input(\"Enter a number (n): \"))\n",
    "fib_sequence = fibonacci_sequence(n)\n",
    "\n",
    "# Print the Fibonacci sequence in comma-separated form\n",
    "print(\",\".join(map(str, fib_sequence)))\n"
   ]
  },
  {
   "cell_type": "raw",
   "id": "4f855124",
   "metadata": {},
   "source": [
    "Question 4:\n",
    "Assuming that we have some email addresses in the &quot;username@companyname.com&quot; format,\n",
    "please write program to print the user name of a given email address. Both user names and\n",
    "company names are composed of letters only.\n",
    "Example:\n",
    "If the following email address is given as input to the program:\n",
    "john@google.com\n",
    "Then, the output of the program should be:\n",
    "john\n",
    "\n"
   ]
  },
  {
   "cell_type": "code",
   "execution_count": 5,
   "id": "fb3910c8",
   "metadata": {},
   "outputs": [
    {
     "name": "stdout",
     "output_type": "stream",
     "text": [
      "Enter an email address: john@google.com\n",
      "john\n"
     ]
    }
   ],
   "source": [
    "email = input(\"Enter an email address: \")\n",
    "username = email.split(\"@\")[0]\n",
    "print(username)\n"
   ]
  },
  {
   "cell_type": "raw",
   "id": "c391ce28",
   "metadata": {},
   "source": [
    "Question 5:\n",
    "Define a class named Shape and its subclass Square. The Square class has an init function\n",
    "which takes a length as argument. Both classes have a area function which can print the area\n",
    "of the shape where Shape&#39;s area is 0 by default."
   ]
  },
  {
   "cell_type": "code",
   "execution_count": 6,
   "id": "15465f36",
   "metadata": {},
   "outputs": [
    {
     "name": "stdout",
     "output_type": "stream",
     "text": [
      "Enter the length of the square: 20\n",
      "Area of the square: 400\n"
     ]
    }
   ],
   "source": [
    "class Shape:\n",
    "    def area(self):\n",
    "        return 0\n",
    "\n",
    "class Square(Shape):\n",
    "    def __init__(self, length):\n",
    "        self.length = length\n",
    "\n",
    "    def area(self):\n",
    "        return self.length ** 2\n",
    "\n",
    "# Example usage\n",
    "length = int(input(\"Enter the length of the square: \"))\n",
    "square = Square(length)\n",
    "print(\"Area of the square:\", square.area())\n"
   ]
  },
  {
   "cell_type": "code",
   "execution_count": null,
   "id": "13b7db55",
   "metadata": {},
   "outputs": [],
   "source": []
  }
 ],
 "metadata": {
  "kernelspec": {
   "display_name": "Python 3 (ipykernel)",
   "language": "python",
   "name": "python3"
  },
  "language_info": {
   "codemirror_mode": {
    "name": "ipython",
    "version": 3
   },
   "file_extension": ".py",
   "mimetype": "text/x-python",
   "name": "python",
   "nbconvert_exporter": "python",
   "pygments_lexer": "ipython3",
   "version": "3.10.9"
  }
 },
 "nbformat": 4,
 "nbformat_minor": 5
}
