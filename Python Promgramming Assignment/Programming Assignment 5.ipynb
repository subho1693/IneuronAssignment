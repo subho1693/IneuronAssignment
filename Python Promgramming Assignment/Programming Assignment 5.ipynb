{
 "cells": [
  {
   "cell_type": "markdown",
   "id": "dc667670",
   "metadata": {},
   "source": [
    "#### 1. Write a Python Program to Find LCM?\n"
   ]
  },
  {
   "cell_type": "code",
   "execution_count": 1,
   "id": "8a3dde79",
   "metadata": {},
   "outputs": [
    {
     "name": "stdout",
     "output_type": "stream",
     "text": [
      "Enter the first number: 10\n",
      "Enter the second number: 20\n",
      "The LCM of 10 and 20 is 20\n"
     ]
    }
   ],
   "source": [
    "def find_lcm(num1, num2):\n",
    "    max_num = max(num1, num2)\n",
    "    lcm = max_num\n",
    "\n",
    "    while True:\n",
    "        if lcm % num1 == 0 and lcm % num2 == 0:\n",
    "            break\n",
    "        lcm += max_num\n",
    "\n",
    "    return lcm\n",
    "\n",
    "num1 = int(input(\"Enter the first number: \"))\n",
    "num2 = int(input(\"Enter the second number: \"))\n",
    "\n",
    "lcm = find_lcm(num1, num2)\n",
    "print(\"The LCM of\", num1, \"and\", num2, \"is\", lcm)\n"
   ]
  },
  {
   "cell_type": "markdown",
   "id": "8bf3e6ea",
   "metadata": {},
   "source": [
    "#### 2. Write a Python Program to Find HCF?\n"
   ]
  },
  {
   "cell_type": "code",
   "execution_count": 2,
   "id": "ad815095",
   "metadata": {},
   "outputs": [
    {
     "name": "stdout",
     "output_type": "stream",
     "text": [
      "Enter the first number: 10\n",
      "Enter the second number: 20\n",
      "The HCF of 10 and 20 is 10\n"
     ]
    }
   ],
   "source": [
    "def find_hcf(num1, num2):\n",
    "    while num2 != 0:\n",
    "        num1, num2 = num2, num1 % num2\n",
    "\n",
    "    return num1\n",
    "\n",
    "num1 = int(input(\"Enter the first number: \"))\n",
    "num2 = int(input(\"Enter the second number: \"))\n",
    "\n",
    "hcf = find_hcf(num1, num2)\n",
    "print(\"The HCF of\", num1, \"and\", num2, \"is\", hcf)\n"
   ]
  },
  {
   "cell_type": "markdown",
   "id": "de364964",
   "metadata": {},
   "source": [
    "#### 3. Write a Python Program to Convert Decimal to Binary, Octal and Hexadecimal?\n"
   ]
  },
  {
   "cell_type": "code",
   "execution_count": 6,
   "id": "40c66743",
   "metadata": {},
   "outputs": [
    {
     "name": "stdout",
     "output_type": "stream",
     "text": [
      "Enter a decimal number: 5\n",
      "Binary: 0b101\n",
      "Octal: 0o5\n",
      "Hexadecimal: 0x5\n"
     ]
    }
   ],
   "source": [
    "decimal = int(input(\"Enter a decimal number: \"))\n",
    "\n",
    "print(\"Binary:\", bin(decimal))\n",
    "print(\"Octal:\", oct(decimal))\n",
    "print(\"Hexadecimal:\", hex(decimal))\n"
   ]
  },
  {
   "cell_type": "markdown",
   "id": "584bc857",
   "metadata": {},
   "source": [
    "#### 4. Write a Python Program To Find ASCII value of a character?\n"
   ]
  },
  {
   "cell_type": "code",
   "execution_count": 8,
   "id": "c483e01c",
   "metadata": {},
   "outputs": [
    {
     "name": "stdout",
     "output_type": "stream",
     "text": [
      "Enter a character: a\n",
      "The ASCII value of a is 97\n"
     ]
    }
   ],
   "source": [
    "char = input(\"Enter a character: \")\n",
    "\n",
    "print(\"The ASCII value of\", char, \"is\", ord(char))\n"
   ]
  },
  {
   "cell_type": "markdown",
   "id": "97c756e9",
   "metadata": {},
   "source": [
    "#### 5. Write a Python Program to Make a Simple Calculator with 4 basic mathematical operations?"
   ]
  },
  {
   "cell_type": "code",
   "execution_count": 9,
   "id": "10c8b1f1",
   "metadata": {},
   "outputs": [
    {
     "name": "stdout",
     "output_type": "stream",
     "text": [
      "Select operation:\n",
      "1. Add\n",
      "2. Subtract\n",
      "3. Multiply\n",
      "4. Divide\n",
      "Enter choice (1-4): 1\n",
      "Enter the first number: 5\n",
      "Enter the second number: 6\n",
      "Result: 11.0\n"
     ]
    }
   ],
   "source": [
    "def add(num1, num2):\n",
    "    return num1 + num2\n",
    "\n",
    "def subtract(num1, num2):\n",
    "    return num1 - num2\n",
    "\n",
    "def multiply(num1, num2):\n",
    "    return num1 * num2\n",
    "\n",
    "def divide(num1, num2):\n",
    "    if num2 == 0:\n",
    "        return \"Cannot divide by zero\"\n",
    "    return num1 / num2\n",
    "\n",
    "print(\"Select operation:\")\n",
    "print(\"1. Add\")\n",
    "print(\"2. Subtract\")\n",
    "print(\"3. Multiply\")\n",
    "print(\"4. Divide\")\n",
    "\n",
    "choice = input(\"Enter choice (1-4): \")\n",
    "\n",
    "num1 = float(input(\"Enter the first number: \"))\n",
    "num2 = float(input(\"Enter the second number: \"))\n",
    "\n",
    "result = None\n",
    "\n",
    "if choice == '1':\n",
    "    result = add(num1, num2)\n",
    "elif choice == '2':\n",
    "    result = subtract(num1, num2)\n",
    "elif choice == '3':\n",
    "    result = multiply(num1, num2)\n",
    "elif choice == '4':\n",
    "    result = divide(num1, num2)\n",
    "else:\n",
    "    print(\"Invalid choice\")\n",
    "\n",
    "if result is not None:\n",
    "    print(\"Result:\", result)\n"
   ]
  },
  {
   "cell_type": "code",
   "execution_count": null,
   "id": "c2c5f80b",
   "metadata": {},
   "outputs": [],
   "source": []
  },
  {
   "cell_type": "code",
   "execution_count": null,
   "id": "66e33905",
   "metadata": {},
   "outputs": [],
   "source": []
  }
 ],
 "metadata": {
  "kernelspec": {
   "display_name": "Python 3 (ipykernel)",
   "language": "python",
   "name": "python3"
  },
  "language_info": {
   "codemirror_mode": {
    "name": "ipython",
    "version": 3
   },
   "file_extension": ".py",
   "mimetype": "text/x-python",
   "name": "python",
   "nbconvert_exporter": "python",
   "pygments_lexer": "ipython3",
   "version": "3.10.9"
  }
 },
 "nbformat": 4,
 "nbformat_minor": 5
}
