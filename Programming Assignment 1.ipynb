{
 "cells": [
  {
   "cell_type": "markdown",
   "id": "404412fc",
   "metadata": {},
   "source": [
    "#### Programming Assignment 1"
   ]
  },
  {
   "cell_type": "markdown",
   "id": "014ebd05",
   "metadata": {},
   "source": [
    "#### 1. Write a Python program to print &quot;Hello Python&quot;?"
   ]
  },
  {
   "cell_type": "code",
   "execution_count": 1,
   "id": "446b0084",
   "metadata": {},
   "outputs": [
    {
     "name": "stdout",
     "output_type": "stream",
     "text": [
      "Hello Python\n"
     ]
    }
   ],
   "source": [
    "print(\"Hello Python\")"
   ]
  },
  {
   "cell_type": "markdown",
   "id": "923b9330",
   "metadata": {},
   "source": [
    "#### 2. Write a Python program to do arithmetical operations addition and division.?"
   ]
  },
  {
   "cell_type": "code",
   "execution_count": 2,
   "id": "c01cf43b",
   "metadata": {},
   "outputs": [
    {
     "name": "stdout",
     "output_type": "stream",
     "text": [
      "sum of  10 and 2 is  12 \n",
      "division of 10 and 2 is 5\n"
     ]
    }
   ],
   "source": [
    "a = 10\n",
    "b = 2\n",
    "print(f\"sum of  {a} and {b} is  {a+b} \\ndivision of {a} and {b} is {a//b}\")"
   ]
  },
  {
   "cell_type": "markdown",
   "id": "32265dea",
   "metadata": {},
   "source": [
    "#### Write a Python program to find the area of a triangle?"
   ]
  },
  {
   "cell_type": "code",
   "execution_count": 3,
   "id": "0e98c62a",
   "metadata": {},
   "outputs": [
    {
     "name": "stdout",
     "output_type": "stream",
     "text": [
      "enter the base value of triangle ;-4\n",
      "enter the height value of triangle ;-4\n",
      "Area of a triangle is 8.0\n"
     ]
    }
   ],
   "source": [
    "base = int(input(\"enter the base value of triangle ;-\"))\n",
    "height = int(input(\"enter the height value of triangle ;-\"))\n",
    "\n",
    "print(f\"Area of a triangle is {1/2*(base*height)}\")"
   ]
  },
  {
   "cell_type": "markdown",
   "id": "5d46255c",
   "metadata": {},
   "source": [
    "#### 4. Write a Python program to swap two variables?"
   ]
  },
  {
   "cell_type": "code",
   "execution_count": 4,
   "id": "66d596f8",
   "metadata": {},
   "outputs": [
    {
     "name": "stdout",
     "output_type": "stream",
     "text": [
      "Before swaping x = 25, y = 35\n",
      "Before swaping x = 35, y = 25\n"
     ]
    }
   ],
   "source": [
    "x=25\n",
    "y=35\n",
    "print(f\"Before swaping x = {x}, y = {y}\")\n",
    "temp =x\n",
    "x=y\n",
    "y=temp\n",
    "print(f\"Before swaping x = {x}, y = {y}\")"
   ]
  },
  {
   "cell_type": "markdown",
   "id": "68393ce6",
   "metadata": {},
   "source": [
    "#### 5. Write a Python program to generate a random number?"
   ]
  },
  {
   "cell_type": "code",
   "execution_count": 5,
   "id": "0a408e6c",
   "metadata": {},
   "outputs": [
    {
     "name": "stdout",
     "output_type": "stream",
     "text": [
      "50\n"
     ]
    }
   ],
   "source": [
    "import random\n",
    "rndNum=random.randint(0,100)\n",
    "print(rndNum)"
   ]
  },
  {
   "cell_type": "code",
   "execution_count": null,
   "id": "3e4c69f2",
   "metadata": {},
   "outputs": [],
   "source": []
  }
 ],
 "metadata": {
  "kernelspec": {
   "display_name": "Python 3 (ipykernel)",
   "language": "python",
   "name": "python3"
  },
  "language_info": {
   "codemirror_mode": {
    "name": "ipython",
    "version": 3
   },
   "file_extension": ".py",
   "mimetype": "text/x-python",
   "name": "python",
   "nbconvert_exporter": "python",
   "pygments_lexer": "ipython3",
   "version": "3.9.13"
  }
 },
 "nbformat": 4,
 "nbformat_minor": 5
}
