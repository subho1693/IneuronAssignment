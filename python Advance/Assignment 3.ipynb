{
 "cells": [
  {
   "cell_type": "markdown",
   "id": "710d4f15",
   "metadata": {},
   "source": [
    "# Assignment 3"
   ]
  },
  {
   "cell_type": "markdown",
   "id": "ce32b499",
   "metadata": {},
   "source": [
    "#### 1. What is the concept of an abstract superclass?"
   ]
  },
  {
   "cell_type": "markdown",
   "id": "e3e7043a",
   "metadata": {},
   "source": [
    "An abstract superclass, also known as an abstract base class (ABC), is a class in object-oriented programming that is designed to be inherited by other classes. However, it cannot be instantiated itself. Instead, it defines a common interface and potentially some abstract methods that must be implemented by its subclasses. The purpose of an abstract superclass is to provide a blueprint for its subclasses to ensure a certain level of consistency and structure in the derived classes."
   ]
  },
  {
   "cell_type": "markdown",
   "id": "1e9f97ad",
   "metadata": {},
   "source": [
    "#### 2. What happens when a class statement&#39;s top level contains a basic assignment statement?\n",
    "\n"
   ]
  },
  {
   "cell_type": "markdown",
   "id": "ec05964f",
   "metadata": {},
   "source": [
    "When a class statement's top level contains a basic assignment statement (i.e., an assignment outside of any method), it defines a class attribute. This attribute will be shared among all instances of the class. It is not specific to any particular instance but rather belongs to the class itself."
   ]
  },
  {
   "cell_type": "markdown",
   "id": "d985f2d5",
   "metadata": {},
   "source": [
    "#### 3. Why does a class need to manually call a superclass&#39;s __init__ method?\n",
    "\n"
   ]
  },
  {
   "cell_type": "markdown",
   "id": "06ab14f0",
   "metadata": {},
   "source": [
    "In Python, when you define a subclass, it does not automatically call the superclass's __init__ method unless you explicitly do so. You need to call the superclass's __init__ method in the subclass's __init__ method to ensure that the initialization logic of the superclass is executed. This allows you to build upon the behavior of the superclass while still performing any additional initialization specific to the subclass."
   ]
  },
  {
   "cell_type": "markdown",
   "id": "f576632a",
   "metadata": {},
   "source": [
    "#### 4. How can you augment, instead of completely replacing, an inherited method?\n",
    "\n"
   ]
  },
  {
   "cell_type": "markdown",
   "id": "d100eaf2",
   "metadata": {},
   "source": [
    "To augment an inherited method without completely replacing it, you can use method overriding in the subclass. Method overriding involves defining a method in the subclass with the same name as a method in the superclass. Within the overridden method, you can call the superclass's method using the super() function, and then add or modify behavior as needed. This way, you extend or augment the functionality of the inherited method while still leveraging the original behavior from the superclass."
   ]
  },
  {
   "cell_type": "markdown",
   "id": "a207b8e4",
   "metadata": {},
   "source": [
    "#### 5. How is the local scope of a class different from that of a function?"
   ]
  },
  {
   "cell_type": "markdown",
   "id": "3ed79ed4",
   "metadata": {},
   "source": [
    "The local scope of a class and that of a function are different in several ways:\n",
    "\n",
    "* Namespaces: A class defines a namespace for its attributes and methods. These attributes are accessible using dot notation (e.g., instance.attribute) and are part of the class's namespace. In contrast, a function defines its own local namespace, and variables defined within a function are not directly accessible from outside the function.\n",
    "\n",
    "* Lifetime: The attributes of a class have a longer lifetime than local variables in a function. Class attributes exist as long as the class definition is in scope, while local variables in a function have a limited lifetime within the function's execution.\n",
    "\n",
    "* Accessibility: Class attributes and methods can be accessed from instances of the class or the class itself, depending on their visibility (public, protected, or private). In contrast, local variables in a function are only accessible within that function.\n",
    "\n",
    "* Purpose: Classes are used to define blueprints for creating objects, encapsulate data, and provide methods for object behavior. Functions are used for encapsulating logic, performing computations, and defining reusable blocks of code.\n",
    "\n",
    "In summary, the local scope of a class is focused on encapsulating attributes and methods that define the behavior of objects, while the local scope of a function is designed for defining and managing local variables and executable code blocks."
   ]
  },
  {
   "cell_type": "code",
   "execution_count": null,
   "id": "8de92d8f",
   "metadata": {},
   "outputs": [],
   "source": []
  }
 ],
 "metadata": {
  "kernelspec": {
   "display_name": "Python 3 (ipykernel)",
   "language": "python",
   "name": "python3"
  },
  "language_info": {
   "codemirror_mode": {
    "name": "ipython",
    "version": 3
   },
   "file_extension": ".py",
   "mimetype": "text/x-python",
   "name": "python",
   "nbconvert_exporter": "python",
   "pygments_lexer": "ipython3",
   "version": "3.11.4"
  }
 },
 "nbformat": 4,
 "nbformat_minor": 5
}
