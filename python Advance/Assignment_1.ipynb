{
 "cells": [
  {
   "cell_type": "markdown",
   "metadata": {},
   "source": [
    "#### Q1. What is the purpose of Python&#39;s OOP?"
   ]
  },
  {
   "cell_type": "markdown",
   "metadata": {},
   "source": [
    "The purpose of Python's Object-Oriented Programming (OOP) is to organize and structure code by modeling real-world entities and their interactions using objects and classes. OOP promotes the concepts of encapsulation, inheritance, and polymorphism, making it easier to manage and maintain complex software systems."
   ]
  },
  {
   "cell_type": "markdown",
   "metadata": {},
   "source": [
    "\n",
    "#### Q2. Where does an inheritance search look for an attribute?"
   ]
  },
  {
   "cell_type": "markdown",
   "metadata": {},
   "source": [
    " Inheritance search for an attribute in Python looks in the following order:\n",
    "\n",
    "* The instance itself\n",
    "* The class that the instance is an instance of\n",
    "* Base classes (superclasses) in the method resolution order (MRO) until it finds the attribute or reaches the top-level object class."
   ]
  },
  {
   "cell_type": "markdown",
   "metadata": {},
   "source": [
    "#### Q3. How do you distinguish between a class object and an instance object?\n",
    "\n"
   ]
  },
  {
   "cell_type": "markdown",
   "metadata": {},
   "source": [
    "You can distinguish between a class object and an instance object by understanding that a class object represents the class itself, while an instance object represents an individual instance or object created from that class. Class objects are used to define the structure and behavior of objects, while instance objects are specific instances created from that class."
   ]
  },
  {
   "cell_type": "markdown",
   "metadata": {},
   "source": [
    "#### Q4. What makes the first argument in a class’s method function special?\n",
    "\n"
   ]
  },
  {
   "cell_type": "markdown",
   "metadata": {},
   "source": [
    "The first argument in a class's method function, conventionally named self, is special because it refers to the instance of the class that the method is being called on. It allows you to access and manipulate the attributes and methods of that specific instance within the method."
   ]
  },
  {
   "cell_type": "markdown",
   "metadata": {},
   "source": [
    "#### Q5. What is the purpose of the __init__ method?\n",
    "\n"
   ]
  },
  {
   "cell_type": "markdown",
   "metadata": {},
   "source": [
    "The __init__ method in Python is a special method used for initialization. It gets called automatically when a new instance of a class is created. Its purpose is to initialize the attributes of the instance and perform any setup or configuration needed for the object."
   ]
  },
  {
   "cell_type": "markdown",
   "metadata": {},
   "source": [
    "#### Q6. What is the process for creating a class instance?\n",
    "\n"
   ]
  },
  {
   "cell_type": "markdown",
   "metadata": {},
   "source": [
    "The process for creating a class instance involves the following steps:\n",
    "\n",
    "1.Define a class with the class keyword.\n",
    "2.Create an instance of the class by calling the class name as if it were a function, passing any required arguments to the __init__ method if it's defined.\n",
    "3.The instance is now created and can be used to access the attributes and methods defined in the class."
   ]
  },
  {
   "cell_type": "code",
   "execution_count": 1,
   "metadata": {},
   "outputs": [],
   "source": [
    "class MyClass:\n",
    "    def __init__(self, value):\n",
    "        self.value = value\n",
    "\n",
    "instance = MyClass(42)  # Creating an instance of MyClass\n"
   ]
  },
  {
   "cell_type": "markdown",
   "metadata": {},
   "source": [
    "#### Q7. What is the process for creating a class?\n",
    "\n"
   ]
  },
  {
   "cell_type": "markdown",
   "metadata": {},
   "source": [
    "The process for creating a class in Python involves:\n",
    "\n",
    "1.Define a class using the class keyword, followed by the class name and a colon.\n",
    "2.Inside the class definition, you can define attributes (variables) and methods (functions) that define the behavior and structure of objects created from the class."
   ]
  },
  {
   "cell_type": "code",
   "execution_count": 2,
   "metadata": {},
   "outputs": [],
   "source": [
    "class MyClass:\n",
    "    def __init__(self, value):\n",
    "        self.value = value\n",
    "\n",
    "    def display(self):\n",
    "        print(self.value)\n"
   ]
  },
  {
   "cell_type": "markdown",
   "metadata": {},
   "source": [
    "#### Q8. How would you define the superclasses of a class?"
   ]
  },
  {
   "cell_type": "markdown",
   "metadata": {},
   "source": [
    "To define the superclasses of a class (i.e., the classes from which it inherits), you use the parentheses after the class name when defining the class. These parentheses contain the names of the superclasses or parent classes from which the class inherits."
   ]
  },
  {
   "cell_type": "code",
   "execution_count": 6,
   "metadata": {},
   "outputs": [],
   "source": [
    "class Vehicle:\n",
    "    def __init__(self, make, model):\n",
    "        self.make = make\n",
    "        self.model = model\n",
    "\n",
    "class Car(Vehicle):\n",
    "    def __init__(self, make, model, year):\n",
    "        super().__init__(make, model)\n",
    "        self.year = year\n"
   ]
  }
 ],
 "metadata": {
  "kernelspec": {
   "display_name": "base",
   "language": "python",
   "name": "python3"
  },
  "language_info": {
   "codemirror_mode": {
    "name": "ipython",
    "version": 3
   },
   "file_extension": ".py",
   "mimetype": "text/x-python",
   "name": "python",
   "nbconvert_exporter": "python",
   "pygments_lexer": "ipython3",
   "version": "3.11.4"
  },
  "orig_nbformat": 4
 },
 "nbformat": 4,
 "nbformat_minor": 2
}
