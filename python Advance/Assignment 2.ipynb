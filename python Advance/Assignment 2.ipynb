{
 "cells": [
  {
   "cell_type": "markdown",
   "id": "17300aea",
   "metadata": {},
   "source": [
    "# Assignment 2"
   ]
  },
  {
   "cell_type": "markdown",
   "id": "299b5131",
   "metadata": {},
   "source": [
    "#### Q1. What is the relationship between classes and modules?"
   ]
  },
  {
   "cell_type": "markdown",
   "id": "23df3bb8",
   "metadata": {},
   "source": [
    "In Python, a module is a file containing Python code, and a class is a blueprint for creating objects. The relationship between classes and modules is that you can define classes within modules. This allows you to organize your code into reusable modules and create instances of classes defined in those modules."
   ]
  },
  {
   "cell_type": "markdown",
   "id": "e542111b",
   "metadata": {},
   "source": [
    "#### Q2. How do you make instances and classes?"
   ]
  },
  {
   "cell_type": "markdown",
   "id": "736dc265",
   "metadata": {},
   "source": [
    "To make instances of a class in Python, you first need to define the class. Here's how you create a class and then make instances of it:"
   ]
  },
  {
   "cell_type": "code",
   "execution_count": 1,
   "id": "a68640e1",
   "metadata": {},
   "outputs": [],
   "source": [
    "class MyClass:\n",
    "    def __init__(self, name):\n",
    "        self.name = name\n",
    "\n",
    "# Creating instances of the class\n",
    "obj1 = MyClass(\"Instance 1\")\n",
    "obj2 = MyClass(\"Instance 2\")\n"
   ]
  },
  {
   "cell_type": "markdown",
   "id": "3a2671d5",
   "metadata": {},
   "source": [
    "#### Q3. Where and how should class attributes be created?"
   ]
  },
  {
   "cell_type": "markdown",
   "id": "70748673",
   "metadata": {},
   "source": [
    "Class attributes are created within the class definition but outside of any methods. They are shared among all instances of the class. You can create them using the class name or within a class method. Here's an example:"
   ]
  },
  {
   "cell_type": "code",
   "execution_count": 2,
   "id": "0b7a1564",
   "metadata": {},
   "outputs": [],
   "source": [
    "class MyClass:\n",
    "    class_attribute = \"I am a class attribute\"\n",
    "\n",
    "    def __init__(self, name):\n",
    "        self.name = name\n"
   ]
  },
  {
   "cell_type": "markdown",
   "id": "6ee1b420",
   "metadata": {},
   "source": [
    "#### Q4. Where and how are instance attributes created?"
   ]
  },
  {
   "cell_type": "markdown",
   "id": "9de3d162",
   "metadata": {},
   "source": [
    "Instance attributes are created within the class methods, typically within the __init__ method, using the self keyword. They are specific to each instance of the class. Here's an example:"
   ]
  },
  {
   "cell_type": "code",
   "execution_count": 3,
   "id": "d6a6074f",
   "metadata": {},
   "outputs": [],
   "source": [
    "class MyClass:\n",
    "    def __init__(self, name):\n",
    "        self.name = name\n"
   ]
  },
  {
   "cell_type": "markdown",
   "id": "b3b05ece",
   "metadata": {},
   "source": [
    "#### Q5. What does the term \"self\" in a Python class mean?"
   ]
  },
  {
   "cell_type": "markdown",
   "id": "c5595bc3",
   "metadata": {},
   "source": [
    "In Python, self is a convention, not a keyword, used to refer to the instance of the class within its methods. It allows you to access and modify instance attributes and call other methods on the instance. It helps differentiate instance attributes from local variables within a method."
   ]
  },
  {
   "cell_type": "markdown",
   "id": "18884679",
   "metadata": {},
   "source": [
    "#### Q6. How does a Python class handle operator overloading?"
   ]
  },
  {
   "cell_type": "markdown",
   "id": "08bc0114",
   "metadata": {},
   "source": [
    "In Python, you can overload operators for custom classes by defining special methods with double underscores (e.g., __add__, __sub__, __eq__, etc.). These special methods allow you to define how operators should behave when applied to instances of your class."
   ]
  },
  {
   "cell_type": "markdown",
   "id": "f8bff2b4",
   "metadata": {},
   "source": [
    "#### Q7. When do you consider allowing operator overloading of your classes?"
   ]
  },
  {
   "cell_type": "markdown",
   "id": "6f9f1404",
   "metadata": {},
   "source": [
    "You should consider allowing operator overloading for your classes when you want to make instances of your class behave like built-in types with respect to certain operators. For example, overloading the + operator to concatenate objects of your class or the == operator to compare instances for equality."
   ]
  },
  {
   "cell_type": "markdown",
   "id": "9911b622",
   "metadata": {},
   "source": [
    "#### Q8. What is the most popular form of operator overloading?"
   ]
  },
  {
   "cell_type": "markdown",
   "id": "26337650",
   "metadata": {},
   "source": [
    "The most popular form of operator overloading is probably overloading the + operator to define custom addition behavior for instances of your class. This is often used for classes representing mathematical objects or data structures where addition makes sense."
   ]
  },
  {
   "cell_type": "markdown",
   "id": "3939934b",
   "metadata": {},
   "source": [
    "#### Q9. What are the two most important concepts to grasp in order to comprehend Python OOP code?"
   ]
  },
  {
   "cell_type": "markdown",
   "id": "daf0a251",
   "metadata": {},
   "source": [
    "The two most important concepts to grasp in order to comprehend Python object-oriented programming (OOP) code are:\n",
    "* Classes and Objects: Understanding how to define classes, create objects (instances), and work with attributes and methods within those classes.\n",
    "* Inheritance and Polymorphism: Understanding how inheritance allows you to create new classes based on existing ones, and how polymorphism enables objects of different classes to be treated as instances of a common base class."
   ]
  }
 ],
 "metadata": {
  "kernelspec": {
   "display_name": "Python 3 (ipykernel)",
   "language": "python",
   "name": "python3"
  },
  "language_info": {
   "codemirror_mode": {
    "name": "ipython",
    "version": 3
   },
   "file_extension": ".py",
   "mimetype": "text/x-python",
   "name": "python",
   "nbconvert_exporter": "python",
   "pygments_lexer": "ipython3",
   "version": "3.11.4"
  }
 },
 "nbformat": 4,
 "nbformat_minor": 5
}
