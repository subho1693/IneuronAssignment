{
 "cells": [
  {
   "cell_type": "markdown",
   "id": "eceaa223",
   "metadata": {},
   "source": [
    "#### Q1. What are the two latest user-defined exception constraints in Python 3.X?\n",
    "\n"
   ]
  },
  {
   "cell_type": "markdown",
   "id": "5dad2148",
   "metadata": {},
   "source": [
    "a. Exception chaining: In Python 3.x, exceptions can be chained together using the __cause__ attribute. This allows you to provide additional context about why one exception led to another. It is useful for creating more informative error messages and debugging.\n",
    "\n",
    "b. Context-based exception suppression: Python 3.x introduced a context management protocol for exceptions using the with statement and the __suppress__ attribute. This allows you to selectively suppress exceptions raised within a context while still allowing others to propagate.\n",
    "\n"
   ]
  },
  {
   "cell_type": "markdown",
   "id": "75282ecd",
   "metadata": {},
   "source": [
    "#### Q2. How are class-based exceptions that have been raised matched to handlers?\n",
    "\n"
   ]
  },
  {
   "cell_type": "markdown",
   "id": "a14174e6",
   "metadata": {},
   "source": [
    "Class-based exceptions raised in Python are matched to handlers based on their inheritance hierarchy. Python walks up the exception hierarchy until it finds a matching handler in a try...except block. The first matching handler encountered will be used to handle the exception. If there's no matching handler, the exception will propagate up the call stack until it is caught or results in program termination."
   ]
  },
  {
   "cell_type": "markdown",
   "id": "fdb5d285",
   "metadata": {},
   "source": [
    "#### Q3. Describe two methods for attaching context information to exception artefacts.\n",
    "\n"
   ]
  },
  {
   "cell_type": "markdown",
   "id": "6ae87e09",
   "metadata": {},
   "source": [
    "a.Using the with statement: You can use the with statement to establish a context and attach context information to an exception. This is commonly done by defining a context manager class with __enter__ and __exit__ methods, where you can set up and tear down the context, and attach relevant information to the exception when it occurs.\n",
    "\n",
    "\n",
    "b. Adding custom attributes: You can add custom attributes to your exception classes to store context information. When raising an exception, you can populate these attributes with relevant data, such as error codes, timestamps, or descriptions."
   ]
  },
  {
   "cell_type": "markdown",
   "id": "988c2385",
   "metadata": {},
   "source": [
    "#### Q4. Describe two methods for specifying the text of an exception object&#39;s error message.\n"
   ]
  },
  {
   "cell_type": "markdown",
   "id": "9540dd28",
   "metadata": {},
   "source": [
    "a. Passing a message as an argument: When raising an exception, you can pass an error message as an argument to the exception class constructor. For example:"
   ]
  },
  {
   "cell_type": "code",
   "execution_count": 1,
   "id": "ba56080a",
   "metadata": {},
   "outputs": [
    {
     "data": {
      "text/plain": [
       "'python\\nraise MyException(\"This is a custom error message.\")\\n'"
      ]
     },
     "execution_count": 1,
     "metadata": {},
     "output_type": "execute_result"
    }
   ],
   "source": [
    "  '''python\n",
    "  raise MyException(\"This is a custom error message.\")\n",
    "'''\n"
   ]
  },
  {
   "cell_type": "markdown",
   "id": "8212b5eb",
   "metadata": {},
   "source": [
    "b. Overriding the __str__ method: You can create a custom exception class and override its __str__ method to provide a custom error message. This method allows you to generate a dynamic error message based on the exception's attributes or context."
   ]
  },
  {
   "cell_type": "markdown",
   "id": "6a194236",
   "metadata": {},
   "source": [
    "\n",
    "#### Q5. Why do you no longer use string-based exceptions?"
   ]
  },
  {
   "cell_type": "markdown",
   "id": "64060a45",
   "metadata": {},
   "source": [
    "Python no longer encourages the use of string-based exceptions because they lack structured information and make it harder to handle and differentiate between different types of errors. By using class-based exceptions, you can create a hierarchy of exception types, add attributes to provide context, and define how these exceptions should be handled. This approach improves code readability, maintainability, and the ability to handle errors effectively. It also aligns with Python's philosophy of \"exceptions as objects,\" making it easier to develop robust and maintainable software."
   ]
  },
  {
   "cell_type": "code",
   "execution_count": null,
   "id": "2428d04c",
   "metadata": {},
   "outputs": [],
   "source": []
  }
 ],
 "metadata": {
  "kernelspec": {
   "display_name": "Python 3 (ipykernel)",
   "language": "python",
   "name": "python3"
  },
  "language_info": {
   "codemirror_mode": {
    "name": "ipython",
    "version": 3
   },
   "file_extension": ".py",
   "mimetype": "text/x-python",
   "name": "python",
   "nbconvert_exporter": "python",
   "pygments_lexer": "ipython3",
   "version": "3.11.4"
  }
 },
 "nbformat": 4,
 "nbformat_minor": 5
}
