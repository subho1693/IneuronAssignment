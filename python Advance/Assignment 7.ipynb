{
 "cells": [
  {
   "cell_type": "markdown",
   "id": "5c6f5437",
   "metadata": {},
   "source": [
    "#### Q1. What is the purpose of the try statement?\n"
   ]
  },
  {
   "cell_type": "markdown",
   "id": "a66d905f",
   "metadata": {},
   "source": [
    "The purpose of the try statement in Python is to define a block of code in which you expect exceptions to occur. It allows you to catch and handle exceptions that may arise during the execution of the code within the try block, preventing those exceptions from causing a program crash."
   ]
  },
  {
   "cell_type": "markdown",
   "id": "ff959f27",
   "metadata": {},
   "source": [
    "\n",
    "#### Q2. What are the two most popular try statement variations?\n"
   ]
  },
  {
   "cell_type": "markdown",
   "id": "fdd2ca54",
   "metadata": {},
   "source": [
    "The two most popular variations of the try statement are:\n",
    "\n",
    "* try...except: This variation is used to catch and handle exceptions. You specify one or more except blocks after the try block to handle specific exceptions or exception types."
   ]
  },
  {
   "cell_type": "code",
   "execution_count": 1,
   "id": "61afe2a4",
   "metadata": {
    "collapsed": true
   },
   "outputs": [
    {
     "ename": "IndentationError",
     "evalue": "expected an indented block after 'try' statement on line 1 (3471945338.py, line 3)",
     "output_type": "error",
     "traceback": [
      "\u001b[1;36m  Cell \u001b[1;32mIn[1], line 3\u001b[1;36m\u001b[0m\n\u001b[1;33m    except SomeException:\u001b[0m\n\u001b[1;37m    ^\u001b[0m\n\u001b[1;31mIndentationError\u001b[0m\u001b[1;31m:\u001b[0m expected an indented block after 'try' statement on line 1\n"
     ]
    }
   ],
   "source": [
    "try:\n",
    "    # Code that may raise an exception\n",
    "except SomeException:\n",
    "    # Handle the exception\n"
   ]
  },
  {
   "cell_type": "markdown",
   "id": "df09f9f0",
   "metadata": {},
   "source": [
    "* try...finally: This variation is used to ensure that certain cleanup code (specified in the finally block) is executed regardless of whether an exception is raised or not. It's often used for resource cleanup."
   ]
  },
  {
   "cell_type": "code",
   "execution_count": 2,
   "id": "d8a764c6",
   "metadata": {
    "collapsed": true
   },
   "outputs": [
    {
     "ename": "IndentationError",
     "evalue": "expected an indented block after 'try' statement on line 1 (194104517.py, line 3)",
     "output_type": "error",
     "traceback": [
      "\u001b[1;36m  Cell \u001b[1;32mIn[2], line 3\u001b[1;36m\u001b[0m\n\u001b[1;33m    finally:\u001b[0m\n\u001b[1;37m    ^\u001b[0m\n\u001b[1;31mIndentationError\u001b[0m\u001b[1;31m:\u001b[0m expected an indented block after 'try' statement on line 1\n"
     ]
    }
   ],
   "source": [
    "try:\n",
    "    # Code that may raise an exception\n",
    "finally:\n",
    "    # Code to be executed regardless of exceptions\n"
   ]
  },
  {
   "cell_type": "markdown",
   "id": "4c02a2f6",
   "metadata": {},
   "source": [
    "\n",
    "#### Q3. What is the purpose of the raise statement?\n",
    "\n"
   ]
  },
  {
   "cell_type": "markdown",
   "id": "bdc1c770",
   "metadata": {},
   "source": [
    "The raise statement in Python is used to raise (or re-raise) an exception explicitly. You can use it to signal that an exceptional condition has occurred in your code. It allows you to create custom exceptions or raise predefined ones. The raise statement is typically used within try...except blocks to handle and propagate exceptions."
   ]
  },
  {
   "cell_type": "markdown",
   "id": "08f0ce11",
   "metadata": {},
   "source": [
    "#### Q4. What does the assert statement do, and what other statement is it like?\n",
    "\n"
   ]
  },
  {
   "cell_type": "markdown",
   "id": "0cab2d22",
   "metadata": {},
   "source": [
    "The assert statement in Python is used for debugging and testing purposes. It checks whether a given expression evaluates to True and raises an AssertionError if the expression is False. It's similar in function to the if statement but is primarily used for sanity checks during development rather than for normal program flow. When assertions are enabled (using the -O command-line switch), assert statements are not evaluated, making them suitable for adding debugging checks that can be easily disabled in production code."
   ]
  },
  {
   "cell_type": "code",
   "execution_count": null,
   "id": "7a1e9480",
   "metadata": {},
   "outputs": [],
   "source": [
    "assert x > 0, \"x should be greater than 0\"\n"
   ]
  },
  {
   "cell_type": "markdown",
   "id": "07a31a51",
   "metadata": {},
   "source": [
    "#### Q5. What is the purpose of the with/as argument, and what other statement is it like?"
   ]
  },
  {
   "cell_type": "markdown",
   "id": "0a1dd4b6",
   "metadata": {},
   "source": [
    "The with/as statement in Python is used for working with context managers. It allows you to set up and tear down resources or contexts in a clean and controlled way. The as keyword is used to assign the context manager's result to a variable. It's similar to a try...finally block in that it ensures that certain actions are taken before leaving a particular context, but it provides a more concise and Pythonic way of managing resources and context-specific behaviors."
   ]
  },
  {
   "cell_type": "code",
   "execution_count": null,
   "id": "76015ee6",
   "metadata": {},
   "outputs": [],
   "source": []
  }
 ],
 "metadata": {
  "kernelspec": {
   "display_name": "Python 3 (ipykernel)",
   "language": "python",
   "name": "python3"
  },
  "language_info": {
   "codemirror_mode": {
    "name": "ipython",
    "version": 3
   },
   "file_extension": ".py",
   "mimetype": "text/x-python",
   "name": "python",
   "nbconvert_exporter": "python",
   "pygments_lexer": "ipython3",
   "version": "3.11.4"
  }
 },
 "nbformat": 4,
 "nbformat_minor": 5
}
