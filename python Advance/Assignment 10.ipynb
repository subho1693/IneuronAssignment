{
 "cells": [
  {
   "cell_type": "markdown",
   "id": "f51d5246",
   "metadata": {},
   "source": [
    "#### Q1. What is the difference between __getattr__ and __getattribute__?\n",
    "\n"
   ]
  },
  {
   "cell_type": "markdown",
   "id": "5999399a",
   "metadata": {},
   "source": [
    "The main difference between __getattr__ and __getattribute__ in Python is in when they are invoked and how they are used:\n",
    "\n",
    "* __getattr__: This method is called when an attribute that does not exist is accessed on an object. It is a fallback mechanism that allows you to define behavior for accessing non-existent attributes. __getattr__ is only invoked when the requested attribute is not found through normal attribute access.\n",
    "\n",
    "* __getattribute__: This method is called for all attribute access on an object, whether the attribute exists or not. It is invoked before checking if the attribute exists, which means you can override and intercept all attribute access. Be cautious when using __getattribute__ since it can lead to infinite recursion if you're not careful."
   ]
  },
  {
   "cell_type": "markdown",
   "id": "d5732c01",
   "metadata": {},
   "source": [
    "Q2. What is the difference between properties and descriptors?\n",
    "\n"
   ]
  },
  {
   "cell_type": "markdown",
   "id": "833932a3",
   "metadata": {},
   "source": [
    "Properties and descriptors are both mechanisms in Python for controlling access to an object's attributes, but they have some key differences:\n",
    "\n",
    "* Properties: Properties are a high-level way to define getter and setter methods for attributes. They are defined using the @property, @<attribute>.setter, and @<attribute>.deleter decorators. Properties provide a clean and Pythonic way to encapsulate attribute access and can be used for simple cases where no additional processing is required when getting or setting an attribute.\n",
    "\n",
    "* Descriptors: Descriptors are a lower-level mechanism for customizing attribute access. They are Python objects that define methods like __get__, __set__, and __delete__. Descriptors give you fine-grained control over attribute access and can be used for more complex scenarios, such as lazy loading, type checking, or validation. Descriptors can be reused across multiple attributes."
   ]
  },
  {
   "cell_type": "markdown",
   "id": "a166c0f4",
   "metadata": {},
   "source": [
    "Q3. What are the key differences in functionality between __getattr__ and __getattribute__, as well as\n",
    "properties and descriptors?"
   ]
  },
  {
   "cell_type": "markdown",
   "id": "95ea11fd",
   "metadata": {},
   "source": [
    "Key differences in functionality between __getattr__, __getattribute__, properties, and descriptors:\n",
    "\n",
    "* __getattr__:\n",
    "    * Called only when trying to access a non-existent attribute.\n",
    "    * Allows you to define custom behavior for attribute access.\n",
    "Typically used for dynamic attribute generation.\n",
    "*  __getattribute__:\n",
    "\n",
    "    * Called for all attribute access, both existing and non-existing.\n",
    "    * Requires caution to avoid infinite recursion.\n",
    "    * Useful for low-level attribute customization and logging.\n",
    "* Properties:\n",
    "\n",
    "    * Defined using decorators (@property, @<attribute>.setter, @<attribute>.deleter).\n",
    "    * Provide a high-level way to encapsulate attribute access.\n",
    "    * Suitable for simple cases where attribute access requires minimal processing.\n",
    "* Descriptors:\n",
    "\n",
    "    * Defined as separate objects with __get__, __set__, and __delete__ methods.\n",
    "    * Offer fine-grained control over attribute access.\n",
    "    * Can be reused across multiple attributes and are ideal for complex behavior.\n",
    "In summary, the choice between __getattr__, __getattribute__, properties, and descriptors depends on the level of customization and control you need over attribute access in your Python code.\n",
    "\n",
    "\n",
    "\n",
    "\n"
   ]
  },
  {
   "cell_type": "code",
   "execution_count": null,
   "id": "0e15ca40",
   "metadata": {},
   "outputs": [],
   "source": []
  }
 ],
 "metadata": {
  "kernelspec": {
   "display_name": "Python 3 (ipykernel)",
   "language": "python",
   "name": "python3"
  },
  "language_info": {
   "codemirror_mode": {
    "name": "ipython",
    "version": 3
   },
   "file_extension": ".py",
   "mimetype": "text/x-python",
   "name": "python",
   "nbconvert_exporter": "python",
   "pygments_lexer": "ipython3",
   "version": "3.11.4"
  }
 },
 "nbformat": 4,
 "nbformat_minor": 5
}
