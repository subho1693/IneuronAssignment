{
 "cells": [
  {
   "cell_type": "markdown",
   "id": "9865e3d3",
   "metadata": {},
   "source": [
    "#### Q1. Describe three applications for exception processing.\n",
    "\n"
   ]
  },
  {
   "cell_type": "markdown",
   "id": "593a83a3",
   "metadata": {},
   "source": [
    "* Error Handling: Exception processing is commonly used for error handling in programs. When unexpected situations or errors occur, exceptions provide a structured way to handle these issues gracefully, preventing program crashes and providing informative error messages to users or developers.\n",
    "* Resource Cleanup: Exceptions can be used to ensure that resources like files, database connections, or network sockets are properly closed and released when an error occurs. This prevents resource leaks and maintains system stability.\n",
    "* Validation and Control Flow: Exceptions can be used to enforce specific conditions or validation rules in your code. For example, you can raise an exception when user input doesn't meet certain criteria, allowing you to control the flow of your program based on these conditions."
   ]
  },
  {
   "cell_type": "markdown",
   "id": "c40f62db",
   "metadata": {},
   "source": [
    "#### Q2. What happens if you don&#39;t do something extra to treat an exception?\n",
    "\n"
   ]
  },
  {
   "cell_type": "markdown",
   "id": "fa87ad99",
   "metadata": {},
   "source": [
    "If you don't handle or treat an exception in your code, it will propagate up the call stack until it is caught and handled or until it reaches the top level of your program. If an exception is not caught at all, it will result in a program termination with an error message, disrupting the normal execution flow. Unhandled exceptions can lead to crashes and unexpected program behavior."
   ]
  },
  {
   "cell_type": "markdown",
   "id": "6f0d01df",
   "metadata": {},
   "source": [
    "#### Q3. What are your options for recovering from an exception in your script?\n",
    "\n"
   ]
  },
  {
   "cell_type": "markdown",
   "id": "e13b9f81",
   "metadata": {},
   "source": [
    "There are several options for recovering from an exception in your script:\n",
    "* Catch and Handle: You can catch the exception using a try...except block and then take appropriate action to recover from the error, which may involve retrying the failed operation or providing an alternative solution.\n",
    "* Log and Report: You can catch the exception and log information about the error for debugging purposes. You can then report the error to the user or system administrators while allowing the program to continue running.\n",
    "* Raise a Different Exception: In some cases, you may want to catch an exception and raise a different, more specific exception with a custom error message to provide more context and information about the problem.\n",
    "* Graceful Degradation: Depending on the nature of the error, you can implement a graceful degradation strategy that allows your program to continue functioning with reduced functionality in the presence of certain errors.\n",
    "* Retry Mechanism: For transient errors, you can implement a retry mechanism within a try...except block to attempt the failed operation again, potentially with backoff and retries to avoid overwhelming a system."
   ]
  },
  {
   "cell_type": "markdown",
   "id": "097a0f3d",
   "metadata": {},
   "source": [
    "#### Q4. Describe two methods for triggering exceptions in your script.\n",
    "\n"
   ]
  },
  {
   "cell_type": "markdown",
   "id": "fbad6baa",
   "metadata": {},
   "source": [
    "* Explicit Exception Raising: You can explicitly raise an exception in your script using the raise statement. This allows you to create and raise custom exceptions to handle specific error conditions. For example:"
   ]
  },
  {
   "cell_type": "code",
   "execution_count": 1,
   "id": "63bed14c",
   "metadata": {},
   "outputs": [
    {
     "ename": "NameError",
     "evalue": "name 'error_condition' is not defined",
     "output_type": "error",
     "traceback": [
      "\u001b[1;31m---------------------------------------------------------------------------\u001b[0m",
      "\u001b[1;31mNameError\u001b[0m                                 Traceback (most recent call last)",
      "Cell \u001b[1;32mIn[1], line 1\u001b[0m\n\u001b[1;32m----> 1\u001b[0m \u001b[38;5;28;01mif\u001b[39;00m error_condition:\n\u001b[0;32m      2\u001b[0m     \u001b[38;5;28;01mraise\u001b[39;00m \u001b[38;5;167;01mValueError\u001b[39;00m(\u001b[38;5;124m\"\u001b[39m\u001b[38;5;124mThis is a custom error message\u001b[39m\u001b[38;5;124m\"\u001b[39m)\n",
      "\u001b[1;31mNameError\u001b[0m: name 'error_condition' is not defined"
     ]
    }
   ],
   "source": [
    "if error_condition:\n",
    "    raise ValueError(\"This is a custom error message\")\n"
   ]
  },
  {
   "cell_type": "markdown",
   "id": "7fa493d3",
   "metadata": {},
   "source": [
    "* Calling Functions That Raise Exceptions: When you call functions or methods from external libraries or modules, they may raise exceptions if certain conditions are not met. You can trigger exceptions in your script indirectly by invoking such functions or methods without proper error handling."
   ]
  },
  {
   "cell_type": "markdown",
   "id": "4dc55c33",
   "metadata": {},
   "source": [
    "#### Q5. Identify two methods for specifying actions to be executed at termination time, regardless of\n",
    "whether or not an exception exists."
   ]
  },
  {
   "cell_type": "markdown",
   "id": "a35e8b63",
   "metadata": {},
   "source": [
    "* Using the finally Block: You can use a finally block in a try...except statement to specify code that should be executed regardless of whether an exception is raised or not. This is commonly used for cleanup tasks, such as closing files or releasing resources. "
   ]
  },
  {
   "cell_type": "code",
   "execution_count": 2,
   "id": "e9e3e94b",
   "metadata": {},
   "outputs": [
    {
     "ename": "IndentationError",
     "evalue": "expected an indented block after 'try' statement on line 1 (2481761369.py, line 3)",
     "output_type": "error",
     "traceback": [
      "\u001b[1;36m  Cell \u001b[1;32mIn[2], line 3\u001b[1;36m\u001b[0m\n\u001b[1;33m    except SomeException:\u001b[0m\n\u001b[1;37m    ^\u001b[0m\n\u001b[1;31mIndentationError\u001b[0m\u001b[1;31m:\u001b[0m expected an indented block after 'try' statement on line 1\n"
     ]
    }
   ],
   "source": [
    "try:\n",
    "    # Code that may raise an exception\n",
    "except SomeException:\n",
    "    # Handle the exception\n",
    "finally:\n",
    "    # Code to be executed regardless of exceptions\n"
   ]
  },
  {
   "cell_type": "markdown",
   "id": "d77e94cc",
   "metadata": {},
   "source": [
    "* Using the atexit Module: The atexit module allows you to register functions to be executed when the program is about to terminate, whether normally or due to an unhandled exception. You can use the atexit.register() function to specify functions that should run at program termination. Example:"
   ]
  },
  {
   "cell_type": "code",
   "execution_count": 3,
   "id": "b7494114",
   "metadata": {},
   "outputs": [
    {
     "data": {
      "text/plain": [
       "<function __main__.cleanup()>"
      ]
     },
     "execution_count": 3,
     "metadata": {},
     "output_type": "execute_result"
    }
   ],
   "source": [
    "import atexit\n",
    "\n",
    "def cleanup():\n",
    "    # Code to be executed at program termination\n",
    "    pass\n",
    "\n",
    "atexit.register(cleanup)\n"
   ]
  },
  {
   "cell_type": "markdown",
   "id": "ec3693d4",
   "metadata": {},
   "source": [
    "The cleanup function will be executed when the program exits, regardless of whether exceptions were raised or not."
   ]
  },
  {
   "cell_type": "code",
   "execution_count": null,
   "id": "f9d66397",
   "metadata": {},
   "outputs": [],
   "source": []
  }
 ],
 "metadata": {
  "kernelspec": {
   "display_name": "Python 3 (ipykernel)",
   "language": "python",
   "name": "python3"
  },
  "language_info": {
   "codemirror_mode": {
    "name": "ipython",
    "version": 3
   },
   "file_extension": ".py",
   "mimetype": "text/x-python",
   "name": "python",
   "nbconvert_exporter": "python",
   "pygments_lexer": "ipython3",
   "version": "3.11.4"
  }
 },
 "nbformat": 4,
 "nbformat_minor": 5
}
