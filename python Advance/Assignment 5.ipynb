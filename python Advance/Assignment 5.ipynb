{
 "cells": [
  {
   "cell_type": "markdown",
   "id": "461a3e58",
   "metadata": {},
   "source": [
    "#### Q1. What is the meaning of multiple inheritance?\n",
    "\n",
    "\n",
    "\n",
    "\n",
    "\n",
    "\n",
    "\n"
   ]
  },
  {
   "cell_type": "markdown",
   "id": "63d79426",
   "metadata": {},
   "source": [
    "Multiple inheritance is a feature in object-oriented programming languages that allows a class to inherit attributes and methods from more than one parent class or superclass. In other words, a class can have multiple base classes, and it inherits the characteristics of all of them. Multiple inheritance can lead to complex class hierarchies and require careful handling to avoid issues like the diamond problem."
   ]
  },
  {
   "cell_type": "markdown",
   "id": "86410c11",
   "metadata": {},
   "source": [
    "#### Q2. What is the concept of delegation?"
   ]
  },
  {
   "cell_type": "markdown",
   "id": "63dd37f1",
   "metadata": {},
   "source": [
    "Delegation is a design principle in object-oriented programming where one object forwards or delegates some of its responsibilities or behavior to another object. Instead of implementing all functionality directly, an object may delegate certain tasks to another object that specializes in handling those tasks. Delegation promotes code reuse, modularity, and separation of concerns."
   ]
  },
  {
   "cell_type": "markdown",
   "id": "507fa05d",
   "metadata": {},
   "source": [
    "#### Q3. What is the concept of composition?"
   ]
  },
  {
   "cell_type": "markdown",
   "id": "80532ee0",
   "metadata": {},
   "source": [
    "Composition is a design principle where complex objects are built by combining simpler objects as components. In composition, an object is composed of one or more other objects, and these component objects are responsible for providing specific functionalities. It's an alternative to inheritance and is often used to create flexible and loosely coupled systems."
   ]
  },
  {
   "cell_type": "markdown",
   "id": "3c1766ca",
   "metadata": {},
   "source": [
    "#### Q4. What are bound methods and how do we use them?"
   ]
  },
  {
   "cell_type": "markdown",
   "id": "6b6c23a3",
   "metadata": {},
   "source": [
    "Bound methods are methods of a class that are associated with a specific instance of the class. When you call a method on an instance, it becomes a bound method because it is bound to that instance, and the instance is automatically passed as the first argument (typically named self) to the method. Bound methods allow you to access and manipulate the attributes of the specific instance they are bound to. Here's an example of using bound methods:"
   ]
  },
  {
   "cell_type": "code",
   "execution_count": null,
   "id": "a5bb3045",
   "metadata": {},
   "outputs": [],
   "source": []
  },
  {
   "cell_type": "markdown",
   "id": "b53ba452",
   "metadata": {},
   "source": [
    "#### Q5. What is the purpose of pseudoprivate attributes?"
   ]
  },
  {
   "cell_type": "code",
   "execution_count": null,
   "id": "4ecf3e47",
   "metadata": {},
   "outputs": [],
   "source": []
  }
 ],
 "metadata": {
  "kernelspec": {
   "display_name": "Python 3 (ipykernel)",
   "language": "python",
   "name": "python3"
  },
  "language_info": {
   "codemirror_mode": {
    "name": "ipython",
    "version": 3
   },
   "file_extension": ".py",
   "mimetype": "text/x-python",
   "name": "python",
   "nbconvert_exporter": "python",
   "pygments_lexer": "ipython3",
   "version": "3.11.4"
  }
 },
 "nbformat": 4,
 "nbformat_minor": 5
}
